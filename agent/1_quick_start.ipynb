{
 "cells": [
  {
   "cell_type": "markdown",
   "source": [
    "## Quick Start Agents with LangChain\n",
    "\n",
    "[Tutorial](https://python.langchain.com/docs/modules/agents/quick_start/)"
   ],
   "metadata": {
    "collapsed": false
   },
   "id": "1c028310e09cd41e"
  },
  {
   "cell_type": "markdown",
   "source": [
    "### Imports and Setup Keys"
   ],
   "metadata": {
    "collapsed": false
   },
   "id": "109baea62d6d55f7"
  },
  {
   "cell_type": "code",
   "execution_count": 3,
   "id": "initial_id",
   "metadata": {
    "collapsed": true,
    "ExecuteTime": {
     "end_time": "2024-05-05T14:55:45.827035Z",
     "start_time": "2024-05-05T14:55:45.778773Z"
    }
   },
   "outputs": [],
   "source": [
    "### Tracing\n",
    "import os\n",
    "import sys\n",
    "\n",
    "sys.path.append('../../')  # replace with the actual path\n",
    "import lib.key_param as key_param\n",
    "\n",
    "os.environ['LANGCHAIN_TRACING_V2'] = 'true'\n",
    "os.environ['LANGCHAIN_ENDPOINT'] = 'https://api.smith.langchain.com'\n",
    "os.environ['LANGCHAIN_API_KEY'] = key_param.LANGSMITH_API_KEY\n",
    "os.environ['OPENAI_API_KEY'] = key_param.OPENAI_API_KEY\n",
    "os.environ['TAVILY_API_KEY'] = key_param.TAVILY_API_KEY"
   ]
  },
  {
   "cell_type": "markdown",
   "source": [
    "## Define Tools"
   ],
   "metadata": {
    "collapsed": false
   },
   "id": "c91a0b7119eb433c"
  },
  {
   "cell_type": "markdown",
   "source": [
    "### Tavily\n",
    "\n",
    "For accessing online information"
   ],
   "metadata": {
    "collapsed": false
   },
   "id": "447fcac109999038"
  },
  {
   "cell_type": "code",
   "outputs": [
    {
     "data": {
      "text/plain": "[{'url': 'https://www.weatherapi.com/',\n  'content': \"{'location': {'name': 'San Francisco', 'region': 'California', 'country': 'United States of America', 'lat': 37.78, 'lon': -122.42, 'tz_id': 'America/Los_Angeles', 'localtime_epoch': 1714920853, 'localtime': '2024-05-05 7:54'}, 'current': {'last_updated_epoch': 1714920300, 'last_updated': '2024-05-05 07:45', 'temp_c': 10.0, 'temp_f': 50.0, 'is_day': 1, 'condition': {'text': 'Partly cloudy', 'icon': '//cdn.weatherapi.com/weather/64x64/day/116.png', 'code': 1003}, 'wind_mph': 10.5, 'wind_kph': 16.9, 'wind_degree': 290, 'wind_dir': 'WNW', 'pressure_mb': 1016.0, 'pressure_in': 30.01, 'precip_mm': 0.0, 'precip_in': 0.0, 'humidity': 71, 'cloud': 25, 'feelslike_c': 7.6, 'feelslike_f': 45.7, 'vis_km': 16.0, 'vis_miles': 9.0, 'uv': 3.0, 'gust_mph': 16.1, 'gust_kph': 25.9}}\"},\n {'url': 'https://world-weather.info/forecast/usa/san_francisco/may-2024/',\n  'content': 'Extended weather forecast in San Francisco. Hourly Week 10 days 14 days 30 days Year. Detailed ⚡ San Francisco Weather Forecast for May 2024 - day/night 🌡️ temperatures, precipitations - World-Weather.info.'},\n {'url': 'https://en.climate-data.org/north-america/united-states-of-america/california/san-francisco-385/t/may-5/',\n  'content': 'Are you planning a holiday with hopefully nice weather in San Francisco in May 2024? Here you can find all information about the weather in San Francisco in May: ... >>Current temperature and weather forecast for San Francisco; San Francisco weather in May. Temperature May: 14.1°C | 57.4°F: Precipitation / Rainfall May: 21mm | 0.9 inches ...'},\n {'url': 'https://www.almanac.com/weather/longrange/CA/San Francisco',\n  'content': '60-Day Extended Weather Forecast for San Francisco, CA. ... Free 2-Month Weather Forecast. May 2024 Long Range Weather Forecast for Pacific Southwest; Dates Weather Conditions; May 1-6: Sunny, turning hot ... turning cool south: May: temperature 66.5° (4° above avg. north, 1° above south) precipitation 0.1\" (0.4\" below avg.) June 2024 Long ...'},\n {'url': 'https://www.accuweather.com/en/us/san-francisco/94103/may-weather/347629',\n  'content': 'San Francisco, CA\\nSan Francisco\\nCalifornia\\nAround the Globe\\nAround the Globe\\nHurricane Tracker\\nSevere Weather\\nRadar & Maps\\nNews & Features\\nAstronomy\\nBusiness\\nClimate\\nHealth\\nRecreation\\nSports\\nTravel\\nVideo\\nWinter Center\\nMonthly\\nMay\\n2024\\nDaily\\nTemperature Graph\\nAround the Globe\\nAround the Globe\\nHurricane Tracker\\nSevere Weather\\nRadar & Maps\\nNews\\nVideo\\nWinter Center\\nTop Stories\\nAstronomy\\nCosmic trio to take center stage in weekend sky\\n1 day ago\\nSevere Weather\\nWet pattern persists: New storms to soak California\\n5 hours ago\\nClimate\\nResearchers: Only 22 percent of coral reefs survived Florida Keys hist...\\n1 day ago\\nWeather Forecasts\\nRainy weekend may put outdoor plans, Daytona 500 hopes on hold\\n5 hours ago\\nWinter Weather\\nBurst of snow to streak over St. Louis to DC, Philly\\n1 day ago\\nFeatured Stories\\nScenic but dangerous: The allure of Mt. Baldy\\nLATEST ENTRY\\nBeautiful but dangerous Mt. Baldy claims another victim and another rescue\\n1 day ago\\nWeather News\\nOld photo inspired exploration of the Buffalo Soldiers\\n1 day ago\\nHealth\\nFDA approves first treatment for severe frostbite\\n2 days ago\\nWeather News\\nRoman egg still intact found in UK in ‘amazing’ discovery\\n4 days ago\\nRecreation\\nGreat apes tease each other just like humans do, says new study\\n2 days ago\\nWeather Near San Francisco:\\nWe have updated our Privacy Policy and Cookie Policy.\\n Get AccuWeather alerts as they happen with our browser notifications.\\n Notifications Enabled\\nThanks! We’ll keep you informed.'}]"
     },
     "execution_count": 5,
     "metadata": {},
     "output_type": "execute_result"
    }
   ],
   "source": [
    "from langchain_community.tools.tavily_search import TavilySearchResults\n",
    "\n",
    "search = TavilySearchResults()\n",
    "\n",
    "search.invoke(\"what is the weather in SF\")"
   ],
   "metadata": {
    "collapsed": false,
    "ExecuteTime": {
     "end_time": "2024-05-05T15:01:25.875842Z",
     "start_time": "2024-05-05T15:01:22.781920Z"
    }
   },
   "id": "347bdac10e4f02",
   "execution_count": 5
  },
  {
   "cell_type": "markdown",
   "source": [
    "### Retriever"
   ],
   "metadata": {
    "collapsed": false
   },
   "id": "542e4c10fdf8449a"
  },
  {
   "cell_type": "code",
   "outputs": [],
   "source": [
    "from langchain_community.document_loaders import WebBaseLoader\n",
    "from langchain_community.vectorstores import FAISS\n",
    "from langchain_openai import OpenAIEmbeddings\n",
    "from langchain_text_splitters import RecursiveCharacterTextSplitter\n",
    "\n",
    "loader = WebBaseLoader(\"https://docs.smith.langchain.com/overview\")\n",
    "docs = loader.load()\n",
    "\n",
    "documents = RecursiveCharacterTextSplitter(\n",
    "    chunk_size=1000, chunk_overlap=200\n",
    ").split_documents(docs)\n",
    "\n",
    "vector = FAISS.from_documents(documents, OpenAIEmbeddings())\n",
    "retriever = vector.as_retriever()"
   ],
   "metadata": {
    "collapsed": false,
    "ExecuteTime": {
     "end_time": "2024-05-05T15:08:06.322304Z",
     "start_time": "2024-05-05T15:08:04.544129Z"
    }
   },
   "id": "971478ee7ec947de",
   "execution_count": 9
  },
  {
   "cell_type": "code",
   "outputs": [
    {
     "data": {
      "text/plain": "Document(page_content='import Clientfrom langsmith.evaluation import evaluateclient = Client()# Define dataset: these are your test casesdataset_name = \"Sample Dataset\"dataset = client.create_dataset(dataset_name, description=\"A sample dataset in LangSmith.\")client.create_examples(    inputs=[        {\"postfix\": \"to LangSmith\"},        {\"postfix\": \"to Evaluations in LangSmith\"},    ],    outputs=[        {\"output\": \"Welcome to LangSmith\"},        {\"output\": \"Welcome to Evaluations in LangSmith\"},    ],    dataset_id=dataset.id,)# Define your evaluatordef exact_match(run, example):    return {\"score\": run.outputs[\"output\"] == example.outputs[\"output\"]}experiment_results = evaluate(    lambda input: \"Welcome \" + input[\\'postfix\\'], # Your AI system goes here    data=dataset_name, # The data to predict and grade over    evaluators=[exact_match], # The evaluators to score the results    experiment_prefix=\"sample-experiment\", # The name of the experiment    metadata={      \"version\": \"1.0.0\",      \"revision_id\":', metadata={'source': 'https://docs.smith.langchain.com/overview', 'title': 'Getting started with LangSmith | 🦜️🛠️ LangSmith', 'description': 'Introduction', 'language': 'en'})"
     },
     "execution_count": 10,
     "metadata": {},
     "output_type": "execute_result"
    }
   ],
   "source": [
    "retriever.invoke(\"how to upload a dataset\")[0]"
   ],
   "metadata": {
    "collapsed": false,
    "ExecuteTime": {
     "end_time": "2024-05-05T15:08:07.308060Z",
     "start_time": "2024-05-05T15:08:07.014457Z"
    }
   },
   "id": "5ab7fc355d2157c8",
   "execution_count": 10
  },
  {
   "cell_type": "markdown",
   "source": [
    "### Create Retriever Tool\n",
    "\n",
    "Now that we had an index, we can turn it into a tool, the format needed for an agent"
   ],
   "metadata": {
    "collapsed": false
   },
   "id": "c3bf6b459dce51e2"
  },
  {
   "cell_type": "code",
   "outputs": [],
   "source": [
    "from langchain.tools.retriever import create_retriever_tool\n",
    "\n",
    "retriever_tool = create_retriever_tool(\n",
    "    retriever,\n",
    "    \"langsmith_search\",\n",
    "    \"Search for information about LangSmith. For any questions about LangSmith, you must use this tool!\",\n",
    ")"
   ],
   "metadata": {
    "collapsed": false,
    "ExecuteTime": {
     "end_time": "2024-05-05T15:11:41.345984Z",
     "start_time": "2024-05-05T15:11:41.294094Z"
    }
   },
   "id": "faf8ca9e89de0a39",
   "execution_count": 11
  },
  {
   "cell_type": "markdown",
   "source": [
    "### Define the Tools created"
   ],
   "metadata": {
    "collapsed": false
   },
   "id": "3a42a8051d100087"
  },
  {
   "cell_type": "code",
   "outputs": [],
   "source": [
    "tools = [search, retriever_tool]"
   ],
   "metadata": {
    "collapsed": false,
    "ExecuteTime": {
     "end_time": "2024-05-05T15:14:29.659700Z",
     "start_time": "2024-05-05T15:14:29.604800Z"
    }
   },
   "id": "b00e7d70df3739e0",
   "execution_count": 12
  },
  {
   "cell_type": "markdown",
   "source": [
    "## Create the Agent"
   ],
   "metadata": {
    "collapsed": false
   },
   "id": "905ec16b06a6e116"
  },
  {
   "cell_type": "markdown",
   "source": [
    "Declare the model to use"
   ],
   "metadata": {
    "collapsed": false
   },
   "id": "6a4cc67bcb747094"
  },
  {
   "cell_type": "code",
   "outputs": [],
   "source": [
    "from langchain_openai import ChatOpenAI\n",
    "\n",
    "llm = ChatOpenAI(model=\"gpt-3.5-turbo-0125\", temperature=0)"
   ],
   "metadata": {
    "collapsed": false,
    "ExecuteTime": {
     "end_time": "2024-05-05T15:19:18.066964Z",
     "start_time": "2024-05-05T15:19:18.001245Z"
    }
   },
   "id": "d1d769b710d64503",
   "execution_count": 15
  },
  {
   "cell_type": "markdown",
   "source": [
    "Import the ideal Prompt for OpenAI based agent"
   ],
   "metadata": {
    "collapsed": false
   },
   "id": "5d49ff5c6891e96a"
  },
  {
   "cell_type": "code",
   "outputs": [
    {
     "data": {
      "text/plain": "[SystemMessagePromptTemplate(prompt=PromptTemplate(input_variables=[], template='You are a helpful assistant')),\n MessagesPlaceholder(variable_name='chat_history', optional=True),\n HumanMessagePromptTemplate(prompt=PromptTemplate(input_variables=['input'], template='{input}')),\n MessagesPlaceholder(variable_name='agent_scratchpad')]"
     },
     "execution_count": 13,
     "metadata": {},
     "output_type": "execute_result"
    }
   ],
   "source": [
    "from langchain import hub\n",
    "\n",
    "# Get the prompt to use - you can modify this!\n",
    "prompt = hub.pull(\"hwchase17/openai-functions-agent\")\n",
    "prompt.messages"
   ],
   "metadata": {
    "collapsed": false,
    "ExecuteTime": {
     "end_time": "2024-05-05T15:16:14.251434Z",
     "start_time": "2024-05-05T15:16:10.590553Z"
    }
   },
   "id": "39ba8416bc7113dd",
   "execution_count": 13
  },
  {
   "cell_type": "markdown",
   "source": [
    "Initialize the agent"
   ],
   "metadata": {
    "collapsed": false
   },
   "id": "3dee4ca1fe46485b"
  },
  {
   "cell_type": "code",
   "outputs": [],
   "source": [
    "from langchain.agents import create_tool_calling_agent\n",
    "\n",
    "agent = create_tool_calling_agent(llm, tools, prompt)"
   ],
   "metadata": {
    "collapsed": false,
    "ExecuteTime": {
     "end_time": "2024-05-05T15:19:19.476088Z",
     "start_time": "2024-05-05T15:19:19.465948Z"
    }
   },
   "id": "8b709cc3cb7f22d1",
   "execution_count": 16
  },
  {
   "cell_type": "markdown",
   "source": [
    "We combine the tools and the agent (the brain) into an AgentExecutor, which will repeatedly call the agent and execute tools"
   ],
   "metadata": {
    "collapsed": false
   },
   "id": "d9e513b83a061fd8"
  },
  {
   "cell_type": "code",
   "outputs": [],
   "source": [
    "from langchain.agents import AgentExecutor\n",
    "\n",
    "agent_executor = AgentExecutor(agent=agent, tools=tools, verbose=True)"
   ],
   "metadata": {
    "collapsed": false,
    "ExecuteTime": {
     "end_time": "2024-05-05T15:42:51.906553Z",
     "start_time": "2024-05-05T15:42:51.886344Z"
    }
   },
   "id": "5f3f80eec0261dc0",
   "execution_count": 17
  },
  {
   "cell_type": "markdown",
   "source": [
    "## Run the Agent"
   ],
   "metadata": {
    "collapsed": false
   },
   "id": "c131abd40e553340"
  },
  {
   "cell_type": "markdown",
   "source": [
    "**N.B.**: It's a stateless query, so it will not remember the previous conversation"
   ],
   "metadata": {
    "collapsed": false
   },
   "id": "7a825e74c149db3b"
  },
  {
   "cell_type": "code",
   "outputs": [
    {
     "name": "stdout",
     "output_type": "stream",
     "text": [
      "\n",
      "\n",
      "\u001B[1m> Entering new AgentExecutor chain...\u001B[0m\n",
      "\u001B[32;1m\u001B[1;3mHello! How can I assist you today?\u001B[0m\n",
      "\n",
      "\u001B[1m> Finished chain.\u001B[0m\n"
     ]
    },
    {
     "data": {
      "text/plain": "{'input': 'hi!', 'output': 'Hello! How can I assist you today?'}"
     },
     "execution_count": 18,
     "metadata": {},
     "output_type": "execute_result"
    }
   ],
   "source": [
    "agent_executor.invoke({\"input\": \"hi!\"})"
   ],
   "metadata": {
    "collapsed": false,
    "ExecuteTime": {
     "end_time": "2024-05-05T15:42:54.719208Z",
     "start_time": "2024-05-05T15:42:53.451843Z"
    }
   },
   "id": "5ad3265a3c7dd29f",
   "execution_count": 18
  },
  {
   "cell_type": "code",
   "outputs": [
    {
     "name": "stdout",
     "output_type": "stream",
     "text": [
      "\n",
      "\n",
      "\u001B[1m> Entering new AgentExecutor chain...\u001B[0m\n",
      "\u001B[32;1m\u001B[1;3m\n",
      "Invoking: `langsmith_search` with `{'query': 'how can LangSmith help with testing'}`\n",
      "\n",
      "\n",
      "\u001B[0m\u001B[33;1m\u001B[1;3mGetting started with LangSmith | 🦜️🛠️ LangSmith\n",
      "\n",
      "Skip to main contentLangSmith API DocsSearchGo to AppQuick StartUser GuideTracingEvaluationProduction Monitoring & AutomationsPrompt HubProxyPricingSelf-HostingCookbookQuick StartOn this pageGetting started with LangSmithIntroduction​LangSmith is a platform for building production-grade LLM applications. It allows you to closely monitor and evaluate your application, so you can ship quickly and with confidence. Use of LangChain is not necessary - LangSmith works on its own!Install LangSmith​We offer Python and Typescript SDKs for all your LangSmith needs.PythonTypeScriptpip install -U langsmithyarn add langchain langsmithCreate an API key​To create an API key head to the Settings page. Then click Create API Key.Setup your environment​Shellexport LANGCHAIN_TRACING_V2=trueexport LANGCHAIN_API_KEY=<your-api-key># The below examples use the OpenAI API, though it's not necessary in generalexport OPENAI_API_KEY=<your-openai-api-key>Log your first trace​We provide multiple ways to log traces\n",
      "\n",
      "Learn about the workflows LangSmith supports at each stage of the LLM application lifecycle.Pricing: Learn about the pricing model for LangSmith.Self-Hosting: Learn about self-hosting options for LangSmith.Proxy: Learn about the proxy capabilities of LangSmith.Tracing: Learn about the tracing capabilities of LangSmith.Evaluation: Learn about the evaluation capabilities of LangSmith.Prompt Hub Learn about the Prompt Hub, a prompt management tool built into LangSmith.Additional Resources​LangSmith Cookbook: A collection of tutorials and end-to-end walkthroughs using LangSmith.LangChain Python: Docs for the Python LangChain library.LangChain Python API Reference: documentation to review the core APIs of LangChain.LangChain JS: Docs for the TypeScript LangChain libraryDiscord: Join us on our Discord to discuss all things LangChain!FAQ​How do I migrate projects between organizations?​Currently we do not support project migration betwen organizations. While you can manually imitate this by\n",
      "\n",
      "team deals with sensitive data that cannot be logged. How can I ensure that only my team can access it?​If you are interested in a private deployment of LangSmith or if you need to self-host, please reach out to us at sales@langchain.dev. Self-hosting LangSmith requires an annual enterprise license that also comes with support and formalized access to the LangChain team.Was this page helpful?NextUser GuideIntroductionInstall LangSmithCreate an API keySetup your environmentLog your first traceCreate your first evaluationNext StepsAdditional ResourcesFAQHow do I migrate projects between organizations?Why aren't my runs aren't showing up in my project?My team deals with sensitive data that cannot be logged. How can I ensure that only my team can access it?CommunityDiscordTwitterGitHubDocs CodeLangSmith SDKPythonJS/TSMoreHomepageBlogLangChain Python DocsLangChain JS/TS DocsCopyright © 2024 LangChain, Inc.\u001B[0m\u001B[32;1m\u001B[1;3mLangSmith can help with testing by providing capabilities for tracing, evaluation, production monitoring, and automations. It allows you to closely monitor and evaluate your application, ensuring that you can ship quickly and with confidence. LangSmith offers Python and Typescript SDKs for all your testing needs, and you can create an API key to get started. Additionally, LangSmith provides tracing capabilities, evaluation support, and tools for monitoring and automating your testing processes.\u001B[0m\n",
      "\n",
      "\u001B[1m> Finished chain.\u001B[0m\n"
     ]
    },
    {
     "data": {
      "text/plain": "{'input': 'how can langsmith help with testing?',\n 'output': 'LangSmith can help with testing by providing capabilities for tracing, evaluation, production monitoring, and automations. It allows you to closely monitor and evaluate your application, ensuring that you can ship quickly and with confidence. LangSmith offers Python and Typescript SDKs for all your testing needs, and you can create an API key to get started. Additionally, LangSmith provides tracing capabilities, evaluation support, and tools for monitoring and automating your testing processes.'}"
     },
     "execution_count": 19,
     "metadata": {},
     "output_type": "execute_result"
    }
   ],
   "source": [
    "agent_executor.invoke({\"input\": \"how can langsmith help with testing?\"})"
   ],
   "metadata": {
    "collapsed": false,
    "ExecuteTime": {
     "end_time": "2024-05-05T15:46:53.754861Z",
     "start_time": "2024-05-05T15:46:49.363735Z"
    }
   },
   "id": "c0acd5caeaace1ed",
   "execution_count": 19
  },
  {
   "cell_type": "code",
   "outputs": [
    {
     "name": "stdout",
     "output_type": "stream",
     "text": [
      "\n",
      "\n",
      "\u001B[1m> Entering new AgentExecutor chain...\u001B[0m\n",
      "\u001B[32;1m\u001B[1;3m\n",
      "Invoking: `tavily_search_results_json` with `{'query': 'weather in San Francisco'}`\n",
      "\n",
      "\n",
      "\u001B[0m\u001B[36;1m\u001B[1;3m[{'url': 'https://www.weatherapi.com/', 'content': \"{'location': {'name': 'San Francisco', 'region': 'California', 'country': 'United States of America', 'lat': 37.78, 'lon': -122.42, 'tz_id': 'America/Los_Angeles', 'localtime_epoch': 1714924112, 'localtime': '2024-05-05 8:48'}, 'current': {'last_updated_epoch': 1714923900, 'last_updated': '2024-05-05 08:45', 'temp_c': 10.6, 'temp_f': 51.1, 'is_day': 1, 'condition': {'text': 'Partly cloudy', 'icon': '//cdn.weatherapi.com/weather/64x64/day/116.png', 'code': 1003}, 'wind_mph': 10.5, 'wind_kph': 16.9, 'wind_degree': 270, 'wind_dir': 'W', 'pressure_mb': 1017.0, 'pressure_in': 30.03, 'precip_mm': 0.0, 'precip_in': 0.0, 'humidity': 65, 'cloud': 25, 'feelslike_c': 8.4, 'feelslike_f': 47.0, 'vis_km': 16.0, 'vis_miles': 9.0, 'uv': 3.0, 'gust_mph': 14.5, 'gust_kph': 23.3}}\"}, {'url': 'https://world-weather.info/forecast/usa/san_francisco/may-2024/', 'content': 'Extended weather forecast in San Francisco. Hourly Week 10 days 14 days 30 days Year. Detailed ⚡ San Francisco Weather Forecast for May 2024 - day/night 🌡️ temperatures, precipitations - World-Weather.info.'}, {'url': 'https://www.accuweather.com/en/us/san-francisco/94103/may-weather/347629', 'content': 'San Francisco, CA\\nSan Francisco\\nCalifornia\\nAround the Globe\\nAround the Globe\\nHurricane Tracker\\nSevere Weather\\nRadar & Maps\\nNews & Features\\nAstronomy\\nBusiness\\nClimate\\nHealth\\nRecreation\\nSports\\nTravel\\nVideo\\nWinter Center\\nMonthly\\nMay\\n2024\\nDaily\\nTemperature Graph\\nAround the Globe\\nAround the Globe\\nHurricane Tracker\\nSevere Weather\\nRadar & Maps\\nNews\\nVideo\\nWinter Center\\nTop Stories\\nAstronomy\\nCosmic trio to take center stage in weekend sky\\n1 day ago\\nSevere Weather\\nWet pattern persists: New storms to soak California\\n5 hours ago\\nClimate\\nResearchers: Only 22 percent of coral reefs survived Florida Keys hist...\\n1 day ago\\nWeather Forecasts\\nRainy weekend may put outdoor plans, Daytona 500 hopes on hold\\n5 hours ago\\nWinter Weather\\nBurst of snow to streak over St. Louis to DC, Philly\\n1 day ago\\nFeatured Stories\\nScenic but dangerous: The allure of Mt. Baldy\\nLATEST ENTRY\\nBeautiful but dangerous Mt. Baldy claims another victim and another rescue\\n1 day ago\\nWeather News\\nOld photo inspired exploration of the Buffalo Soldiers\\n1 day ago\\nHealth\\nFDA approves first treatment for severe frostbite\\n2 days ago\\nWeather News\\nRoman egg still intact found in UK in ‘amazing’ discovery\\n4 days ago\\nRecreation\\nGreat apes tease each other just like humans do, says new study\\n2 days ago\\nWeather Near San Francisco:\\nWe have updated our Privacy Policy and Cookie Policy.\\n Get AccuWeather alerts as they happen with our browser notifications.\\n Notifications Enabled\\nThanks! We’ll keep you informed.'}, {'url': 'https://www.weathertab.com/en/c/e/05/united-states/california/san-francisco/', 'content': 'Temperature Forecast Normal. Avg High Temps 55 to 70 °F. Avg Low Temps 45 to 55 °F. Explore comprehensive May 2024 weather forecasts for San Francisco, including daily high and low temperatures, precipitation risks, and monthly temperature trends. Featuring detailed day-by-day forecasts, dynamic graphs of daily rain probabilities, and ...'}, {'url': 'https://forecast.weather.gov/zipcity.php?inputstring=San francisco,CA', 'content': 'San Francisco CA 37.77°N 122.41°W (Elev. 131 ft) Last Update: 8:23 am PDT May 4, 2024. Forecast Valid: 10am PDT May 4, 2024-6pm PDT May 10, 2024 . Forecast Discussion . Additional Resources. Radar & Satellite Image. Hourly Weather Forecast. ... National Weather Service; San Francisco Bay Area, CA; 21 Grace Hopper Ave, Stop 5; Monterey, CA ...'}]\u001B[0m\u001B[32;1m\u001B[1;3mThe current weather in San Francisco is partly cloudy with a temperature of 51.1°F (10.6°C). The wind speed is 10.5 mph (16.9 kph) coming from the west. The humidity is at 65%, and the visibility is 9.0 miles.\u001B[0m\n",
      "\n",
      "\u001B[1m> Finished chain.\u001B[0m\n"
     ]
    },
    {
     "data": {
      "text/plain": "{'input': 'whats the weather in sf?',\n 'output': 'The current weather in San Francisco is partly cloudy with a temperature of 51.1°F (10.6°C). The wind speed is 10.5 mph (16.9 kph) coming from the west. The humidity is at 65%, and the visibility is 9.0 miles.'}"
     },
     "execution_count": 20,
     "metadata": {},
     "output_type": "execute_result"
    }
   ],
   "source": [
    "agent_executor.invoke({\"input\": \"whats the weather in sf?\"})"
   ],
   "metadata": {
    "collapsed": false,
    "ExecuteTime": {
     "end_time": "2024-05-05T15:48:43.943708Z",
     "start_time": "2024-05-05T15:48:38.163695Z"
    }
   },
   "id": "52093dcf8ead30c7",
   "execution_count": 20
  },
  {
   "cell_type": "markdown",
   "source": [
    "## Adding in Memory"
   ],
   "metadata": {
    "collapsed": false
   },
   "id": "571fe5c87f244748"
  },
  {
   "cell_type": "markdown",
   "source": [
    "**N.B.**: We're using ``chat_history`` to store the conversation history because of the prompt we're using"
   ],
   "metadata": {
    "collapsed": false
   },
   "id": "fde08ffdb537508f"
  },
  {
   "cell_type": "code",
   "outputs": [
    {
     "name": "stdout",
     "output_type": "stream",
     "text": [
      "\n",
      "\n",
      "\u001B[1m> Entering new AgentExecutor chain...\u001B[0m\n",
      "\u001B[32;1m\u001B[1;3mHello Bob! How can I assist you today?\u001B[0m\n",
      "\n",
      "\u001B[1m> Finished chain.\u001B[0m\n"
     ]
    },
    {
     "data": {
      "text/plain": "{'input': 'hi! my name is bob',\n 'chat_history': [],\n 'output': 'Hello Bob! How can I assist you today?'}"
     },
     "execution_count": 21,
     "metadata": {},
     "output_type": "execute_result"
    }
   ],
   "source": [
    "# Here we pass in an empty list of messages for chat_history because it is the first message in the chat\n",
    "agent_executor.invoke({\"input\": \"hi! my name is bob\", \"chat_history\": []})"
   ],
   "metadata": {
    "collapsed": false,
    "ExecuteTime": {
     "end_time": "2024-05-05T15:52:34.437415Z",
     "start_time": "2024-05-05T15:52:33.254584Z"
    }
   },
   "id": "27d548a8c4a50efe",
   "execution_count": 21
  },
  {
   "cell_type": "code",
   "outputs": [],
   "source": [
    "from langchain_core.messages import AIMessage, HumanMessage"
   ],
   "metadata": {
    "collapsed": false,
    "ExecuteTime": {
     "end_time": "2024-05-05T15:53:02.050425Z",
     "start_time": "2024-05-05T15:53:02.038702Z"
    }
   },
   "id": "28052469314a6164",
   "execution_count": 23
  },
  {
   "cell_type": "code",
   "outputs": [
    {
     "name": "stdout",
     "output_type": "stream",
     "text": [
      "\n",
      "\n",
      "\u001B[1m> Entering new AgentExecutor chain...\u001B[0m\n",
      "\u001B[32;1m\u001B[1;3mYour name is Bob. How can I help you, Bob?\u001B[0m\n",
      "\n",
      "\u001B[1m> Finished chain.\u001B[0m\n"
     ]
    },
    {
     "data": {
      "text/plain": "{'chat_history': [HumanMessage(content='hi! my name is bob'),\n  AIMessage(content='Hello Bob! How can I assist you today?')],\n 'input': \"what's my name?\",\n 'output': 'Your name is Bob. How can I help you, Bob?'}"
     },
     "execution_count": 24,
     "metadata": {},
     "output_type": "execute_result"
    }
   ],
   "source": [
    "agent_executor.invoke(\n",
    "    {\n",
    "        \"chat_history\": [\n",
    "            HumanMessage(content=\"hi! my name is bob\"),\n",
    "            AIMessage(content=\"Hello Bob! How can I assist you today?\"),\n",
    "        ],\n",
    "        \"input\": \"what's my name?\",\n",
    "    }\n",
    ")"
   ],
   "metadata": {
    "collapsed": false,
    "ExecuteTime": {
     "end_time": "2024-05-05T15:53:08.474887Z",
     "start_time": "2024-05-05T15:53:07.372359Z"
    }
   },
   "id": "54edc49a2651e757",
   "execution_count": 24
  },
  {
   "cell_type": "markdown",
   "source": [
    "### Automating the Memory\n",
    "\n",
    "[Go Deeper](https://python.langchain.com/docs/expression_language/how_to/message_history/)"
   ],
   "metadata": {
    "collapsed": false
   },
   "id": "bda43e8aead803c5"
  },
  {
   "cell_type": "code",
   "outputs": [],
   "source": [
    "from langchain_community.chat_message_histories import ChatMessageHistory\n",
    "from langchain_core.runnables.history import RunnableWithMessageHistory"
   ],
   "metadata": {
    "collapsed": false,
    "ExecuteTime": {
     "end_time": "2024-05-05T15:55:12.530206Z",
     "start_time": "2024-05-05T15:55:12.415629Z"
    }
   },
   "id": "25063a6e6a99bc71",
   "execution_count": 25
  },
  {
   "cell_type": "code",
   "outputs": [],
   "source": [
    "message_history = ChatMessageHistory()"
   ],
   "metadata": {
    "collapsed": false,
    "ExecuteTime": {
     "end_time": "2024-05-05T15:55:18.454924Z",
     "start_time": "2024-05-05T15:55:18.440826Z"
    }
   },
   "id": "4e9dd2897d1abe84",
   "execution_count": 26
  },
  {
   "cell_type": "code",
   "outputs": [],
   "source": [
    "agent_with_chat_history = RunnableWithMessageHistory(\n",
    "    agent_executor,\n",
    "    \n",
    "    # This is needed because in most real world scenarios, a session id is needed\n",
    "    # It isn't really used here because we are using a simple in memory ChatMessageHistory\n",
    "    lambda session_id: message_history,\n",
    "    input_messages_key=\"input\",\n",
    "    history_messages_key=\"chat_history\",\n",
    ")"
   ],
   "metadata": {
    "collapsed": false,
    "ExecuteTime": {
     "end_time": "2024-05-05T15:55:25.396141Z",
     "start_time": "2024-05-05T15:55:25.384340Z"
    }
   },
   "id": "35a5800ba4541020",
   "execution_count": 27
  },
  {
   "cell_type": "code",
   "outputs": [
    {
     "name": "stdout",
     "output_type": "stream",
     "text": [
      "\n",
      "\n",
      "\u001B[1m> Entering new AgentExecutor chain...\u001B[0m\n",
      "\u001B[32;1m\u001B[1;3mHello Bob! How can I assist you today?\u001B[0m\n",
      "\n",
      "\u001B[1m> Finished chain.\u001B[0m\n"
     ]
    },
    {
     "data": {
      "text/plain": "{'input': \"hi! I'm bob\",\n 'chat_history': [],\n 'output': 'Hello Bob! How can I assist you today?'}"
     },
     "execution_count": 28,
     "metadata": {},
     "output_type": "execute_result"
    }
   ],
   "source": [
    "agent_with_chat_history.invoke(\n",
    "    {\"input\": \"hi! I'm bob\"},\n",
    "    \n",
    "    # This is needed because in most real world scenarios, a session id is needed\n",
    "    # It isn't really used here because we are using a simple in memory ChatMessageHistory\n",
    "    config={\"configurable\": {\"session_id\": \"<foo>\"}},\n",
    ")"
   ],
   "metadata": {
    "collapsed": false,
    "ExecuteTime": {
     "end_time": "2024-05-05T15:55:55.497488Z",
     "start_time": "2024-05-05T15:55:54.178145Z"
    }
   },
   "id": "65db4725f49d84d9",
   "execution_count": 28
  },
  {
   "cell_type": "code",
   "outputs": [
    {
     "name": "stdout",
     "output_type": "stream",
     "text": [
      "\n",
      "\n",
      "\u001B[1m> Entering new AgentExecutor chain...\u001B[0m\n",
      "\u001B[32;1m\u001B[1;3mYour name is Bob! How can I help you, Bob?\u001B[0m\n",
      "\n",
      "\u001B[1m> Finished chain.\u001B[0m\n"
     ]
    },
    {
     "data": {
      "text/plain": "{'input': \"what's my name?\",\n 'chat_history': [HumanMessage(content=\"hi! I'm bob\"),\n  AIMessage(content='Hello Bob! How can I assist you today?')],\n 'output': 'Your name is Bob! How can I help you, Bob?'}"
     },
     "execution_count": 29,
     "metadata": {},
     "output_type": "execute_result"
    }
   ],
   "source": [
    "agent_with_chat_history.invoke(\n",
    "    {\"input\": \"what's my name?\"},\n",
    "    # This is needed because in most real world scenarios, a session id is needed\n",
    "    # It isn't really used here because we are using a simple in memory ChatMessageHistory\n",
    "    config={\"configurable\": {\"session_id\": \"<foo>\"}},\n",
    ")"
   ],
   "metadata": {
    "collapsed": false,
    "ExecuteTime": {
     "end_time": "2024-05-05T15:57:09.116139Z",
     "start_time": "2024-05-05T15:57:06.023864Z"
    }
   },
   "id": "9613d3744829a76f",
   "execution_count": 29
  }
 ],
 "metadata": {
  "kernelspec": {
   "display_name": "Python 3",
   "language": "python",
   "name": "python3"
  },
  "language_info": {
   "codemirror_mode": {
    "name": "ipython",
    "version": 2
   },
   "file_extension": ".py",
   "mimetype": "text/x-python",
   "name": "python",
   "nbconvert_exporter": "python",
   "pygments_lexer": "ipython2",
   "version": "2.7.6"
  }
 },
 "nbformat": 4,
 "nbformat_minor": 5
}
