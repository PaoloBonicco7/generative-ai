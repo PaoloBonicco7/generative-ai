{
 "cells": [
  {
   "cell_type": "markdown",
   "source": [
    "## Quick Start Agents with LangChain\n",
    "\n",
    "[Tutorial](https://python.langchain.com/docs/modules/agents/quick_start/)"
   ],
   "metadata": {
    "collapsed": false
   },
   "id": "1c028310e09cd41e"
  },
  {
   "cell_type": "markdown",
   "source": [
    "### Imports and Setup Keys"
   ],
   "metadata": {
    "collapsed": false
   },
   "id": "109baea62d6d55f7"
  },
  {
   "cell_type": "code",
   "execution_count": 3,
   "id": "initial_id",
   "metadata": {
    "collapsed": true,
    "ExecuteTime": {
     "end_time": "2024-05-05T14:55:45.827035Z",
     "start_time": "2024-05-05T14:55:45.778773Z"
    }
   },
   "outputs": [],
   "source": [
    "### Tracing\n",
    "import os\n",
    "import sys\n",
    "\n",
    "sys.path.append('../../')  # replace with the actual path\n",
    "import lib.key_param as key_param\n",
    "\n",
    "os.environ['LANGCHAIN_TRACING_V2'] = 'true'\n",
    "os.environ['LANGCHAIN_ENDPOINT'] = 'https://api.smith.langchain.com'\n",
    "os.environ['LANGCHAIN_API_KEY'] = key_param.LANGSMITH_API_KEY\n",
    "os.environ['OPENAI_API_KEY'] = key_param.OPENAI_API_KEY\n",
    "os.environ['TAVILY_API_KEY'] = key_param.TAVILY_API_KEY"
   ]
  }
 ],
 "metadata": {
  "kernelspec": {
   "display_name": "Python 3",
   "language": "python",
   "name": "python3"
  },
  "language_info": {
   "codemirror_mode": {
    "name": "ipython",
    "version": 2
   },
   "file_extension": ".py",
   "mimetype": "text/x-python",
   "name": "python",
   "nbconvert_exporter": "python",
   "pygments_lexer": "ipython2",
   "version": "2.7.6"
  }
 },
 "nbformat": 4,
 "nbformat_minor": 5
}
