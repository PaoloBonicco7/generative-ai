{
 "cells": [
  {
   "cell_type": "markdown",
   "source": [
    "# Testing Minerva-3B-base-RAG model"
   ],
   "metadata": {
    "collapsed": false
   },
   "id": "850ba5d0e49025ed"
  },
  {
   "cell_type": "code",
   "outputs": [
    {
     "data": {
      "text/plain": "Loading checkpoint shards:   0%|          | 0/2 [00:00<?, ?it/s]",
      "application/vnd.jupyter.widget-view+json": {
       "version_major": 2,
       "version_minor": 0,
       "model_id": "bd9e68155935411ea78b6c55066f9d48"
      }
     },
     "metadata": {},
     "output_type": "display_data"
    },
    {
     "name": "stderr",
     "output_type": "stream",
     "text": [
      "WARNING:root:Some parameters are on the meta device device because they were offloaded to the disk.\n",
      "You set `add_prefix_space`. The tokenizer needs to be converted from the slow tokenizers\n"
     ]
    },
    {
     "name": "stdout",
     "output_type": "stream",
     "text": [
      "La torre degli Asinelli si trova a Bologna, in piazza di porta Ravegnana, all'incrocio tra le antiche strade San Donato (ora via Zamboni), San Vitale, Maggiore e Castiglione.\n"
     ]
    }
   ],
   "source": [
    "import transformers\n",
    "import torch\n",
    "\n",
    "model_id = \"DeepMount00/Minerva-3B-base-RAG\"\n",
    "\n",
    "# Initialize the pipeline\n",
    "pipeline = transformers.pipeline(\n",
    "    \"text-generation\",\n",
    "    model=model_id,\n",
    "    model_kwargs={\"torch_dtype\": torch.bfloat16},\n",
    "    device_map=\"auto\",\n",
    ")\n",
    "\n",
    "def generate_text(pipeline, context, question):\n",
    "    input_text = f\"[INST]Contesto: {context}\\nDomanda:{question}\\n[/INST]\"\n",
    "    output = pipeline(\n",
    "        input_text,\n",
    "        max_new_tokens=512,\n",
    "    )\n",
    "    generated_text = output[0]['generated_text']\n",
    "    response_text = generated_text.split(\"[/INST]\", 1)[1].strip()\n",
    "    return response_text.replace(\"<end_of_text>\", \"\")\n",
    "\n",
    "contesto = \"\"\"La torre degli Asinelli è una delle cosiddette due torri di Bologna, simbolo della città, situate in piazza di porta Ravegnana, all'incrocio tra le antiche strade San Donato (ora via Zamboni), San Vitale, Maggiore e Castiglione. Eretta, secondo la tradizione, fra il 1109 e il 1119 dal nobile Gherardo Asinelli, la torre è alta 97,20 metri, pende verso ovest per 2,23 metri e presenta all'interno una scalinata composta da 498 gradini. Ancora non si può dire con certezza quando e da chi fu costruita la torre degli Asinelli. Si presume che la torre debba il proprio nome a Gherardo Asinelli, il nobile cavaliere di fazione ghibellina al quale se ne attribuisce la costruzione, iniziata secondo una consolidata tradizione l'11 ottobre 1109 e terminata dieci anni dopo, nel 1119.\"\"\"\n",
    "domanda = \"\"\"In che città si trova la torre degli Asinelli?\"\"\"\n",
    "\n",
    "answer = generate_text(pipeline, contesto, domanda)\n",
    "print(answer)"
   ],
   "metadata": {
    "collapsed": false,
    "ExecuteTime": {
     "end_time": "2024-05-09T16:45:44.873787Z",
     "start_time": "2024-05-09T16:36:17.775070Z"
    }
   },
   "id": "f4ac0c25ac9ed2dc",
   "execution_count": 1
  }
 ],
 "metadata": {
  "kernelspec": {
   "display_name": "Python 3",
   "language": "python",
   "name": "python3"
  },
  "language_info": {
   "codemirror_mode": {
    "name": "ipython",
    "version": 2
   },
   "file_extension": ".py",
   "mimetype": "text/x-python",
   "name": "python",
   "nbconvert_exporter": "python",
   "pygments_lexer": "ipython2",
   "version": "2.7.6"
  }
 },
 "nbformat": 4,
 "nbformat_minor": 5
}
