{
 "cells": [
  {
   "cell_type": "markdown",
   "metadata": {},
   "source": [
    "# Simple RAG System based on pdf knowledge base"
   ]
  },
  {
   "cell_type": "markdown",
   "metadata": {},
   "source": [
    "Using LangChain and pypdf to read pdf and create a simple RAG application"
   ]
  },
  {
   "cell_type": "markdown",
   "metadata": {},
   "source": [
    "## Before Start"
   ]
  },
  {
   "cell_type": "markdown",
   "metadata": {},
   "source": [
    "Install, Imports and Other Strange Animals"
   ]
  },
  {
   "cell_type": "code",
   "execution_count": 1,
   "metadata": {
    "ExecuteTime": {
     "end_time": "2024-05-02T13:43:38.350337Z",
     "start_time": "2024-05-02T13:43:37.224788Z"
    }
   },
   "outputs": [],
   "source": [
    "import bs4\n",
    "from langchain import hub\n",
    "from langchain.text_splitter import RecursiveCharacterTextSplitter\n",
    "from langchain_community.document_loaders import WebBaseLoader\n",
    "from langchain_community.vectorstores import Chroma\n",
    "from langchain_core.output_parsers import StrOutputParser\n",
    "from langchain_core.runnables import RunnablePassthrough\n",
    "from langchain_openai import ChatOpenAI, OpenAIEmbeddings\n",
    "import os\n",
    "from langchain_community.vectorstores import FAISS\n",
    "from langchain_openai import OpenAIEmbeddings\n",
    "\n",
    "import sys\n",
    "sys.path.append('../../')  # replace with the actual path\n",
    "import lib.key_param as key_param\n",
    "import lib.Utils as utils"
   ]
  },
  {
   "cell_type": "code",
   "execution_count": 2,
   "metadata": {
    "ExecuteTime": {
     "end_time": "2024-05-02T13:43:47.932229Z",
     "start_time": "2024-05-02T13:43:47.927186Z"
    }
   },
   "outputs": [],
   "source": [
    "os.environ['LANGCHAIN_TRACING_V2'] = 'true'\n",
    "os.environ['LANGCHAIN_ENDPOINT'] = 'https://api.smith.langchain.com'\n",
    "os.environ['LANGCHAIN_API_KEY'] = key_param.LANGSMITH_API_KEY\n",
    "os.environ['OPENAI_API_KEY'] = key_param.OPENAI_API_KEY"
   ]
  },
  {
   "cell_type": "markdown",
   "source": [
    "## Pre-processing"
   ],
   "metadata": {
    "collapsed": false
   }
  },
  {
   "cell_type": "markdown",
   "metadata": {},
   "source": [
    "### Load Documents (PDF)"
   ]
  },
  {
   "cell_type": "code",
   "execution_count": null,
   "metadata": {},
   "outputs": [],
   "source": [
    "from langchain_community.document_loaders import PyPDFLoader\n",
    "\n",
    "loader = PyPDFLoader(\"../../sample_files/7cc24bccf34a87a9bc817fe89e320a112a9cec26b9c5db7250e1cef7dc06eff0.pdf\")\n",
    "pages = loader.load_and_split()"
   ]
  },
  {
   "cell_type": "code",
   "execution_count": 8,
   "metadata": {
    "ExecuteTime": {
     "end_time": "2024-05-02T13:45:43.750585Z",
     "start_time": "2024-05-02T13:45:43.738871Z"
    }
   },
   "outputs": [
    {
     "name": "stdout",
     "output_type": "stream",
     "text": [
      "3\n",
      "AdoptedThe European Data Protection Board\n",
      "Having regard to Article 70 (1 )(e) of the Regulation 2016/679/EU of the European Parliament and of\n",
      "the Council of 27 April 2016 on the protection of natural persons with regard to the processing of\n",
      "personal data and on the free movement of such data, and repealing Directiv e 95/46/EC .\n",
      "HAS ADOPTED THE FOLL OWING GUIDELINES :\n",
      "INTRODUCTION\n",
      "The territorial scope of General Data Protection Regulation1(the GDPR) is determined by Article 3 of\n",
      "the Regulation and represents a significant evolution of the EU data protection law compared to the\n",
      "framework defined by Directive 95/46/EC2. In part, the GDPR confirms choices made by the EU\n",
      "legislator and the Court of Justice of the European Union (CJEU) in the contex t of Directive 95/46/EC.\n",
      "However, important new elements have been introduced. Most importantly, the main objective of\n",
      "Article 4 of the Directive was to define which Member State’s national law is applicable ,whereas\n",
      "Article 3 of the GDPR defines the terri torial scope of a directly applicable text. Moreover, while Article\n",
      "4 of the Directive made reference to the ‘use of equipment’ in the Union’s territory as a basis for\n",
      "bringing controllers who were “not established on Community territory” within the scope of EU data\n",
      "protection law, such a reference does not appear in Article 3 of the GDPR.\n",
      "Article 3 of the GDPR reflects the legislator’s intention to ensure comprehensive protection of EU data\n",
      "subjects’ rights and to establish, in terms of data protection re quirement, a level playing field for\n",
      "companies active on the EU markets, in a context of worldwide data flows.\n",
      "Article 3 of the GDPR defines the territorial scope of the Regulation on the basis of two main criteria:\n",
      "the “establishment” criterion, as per A rticle 3(1), and the “targeting” criterion as per Article 3(2).\n",
      "Where one of these two criteria is met, the relevant provisions of the GDPR will apply to the processing\n",
      "of personal data by the controller or processor concerned. In addition, Article 3(3) co nfirms the\n",
      "application of the GDPR to the processing where Member State law applies by virtue of public\n",
      "international law.\n",
      "Through a common interpretation by data protection authorities in the EU, these guidelines seek to\n",
      "ensure a consistent application of the GDPR when assessing whether particular processing by a\n",
      "controller or a processor falls within the scope of the new EU legal framework. In these guidelines, the\n",
      "EDPB sets out and clarifies the criteria for determining the application of the territorial scope of the\n",
      "GDPR. Such a common interpretation is also essential for controllers and processors, both within and\n",
      "outside the EU, so that they may assess whether they need to comply with the GDPR.\n",
      "As controllers or processors not established in the EU but engaging in processing activities falling within\n",
      "Article 3(2) are required to designate a representative in the Union, these guidelines will also provide\n",
      "1Regulation (EU) 2016/679 of the European Parliament and of the Council of 27 April 2016 on the protection of\n",
      "natural persons with regard to the processing of personal data and on the free movement of such data, and\n",
      "repealing Directive 95/46/EC (General Da ta Protection Regulation).\n",
      "2Directive 95/46/EC of the European Parliament and of the Council of 24 October 1995 on the protection of\n",
      "individuals with regard to the processing of personal data and on the free movement of such data .\n"
     ]
    }
   ],
   "source": [
    "chunk1 = pages[2].page_content\n",
    "print(chunk1)"
   ]
  },
  {
   "cell_type": "code",
   "execution_count": 13,
   "metadata": {
    "ExecuteTime": {
     "end_time": "2024-05-02T13:46:41.728734Z",
     "start_time": "2024-05-02T13:46:41.723224Z"
    }
   },
   "outputs": [
    {
     "data": {
      "text/plain": "[Document(page_content='1\\nAdopted\\nGuidelines 3/2018onthe territorial scope of the GDPR\\n(Article 3) -Version for public consultation\\nAdopted on 16 November 2018', metadata={'source': '../../sample_files/7cc24bccf34a87a9bc817fe89e320a112a9cec26b9c5db7250e1cef7dc06eff0.pdf', 'page': 0}),\n Document(page_content='2\\nAdoptedContents\\nIntroduction ................................ ................................ ................................ ................................ .............3\\n1Application of the establishment criterion -Art 3(1)................................ ................................ ......4\\n2Application of the targeting criterion –Art 3(2)................................ ................................ ...........12\\n3Processing in a place where Member State law applies by virtue of public international law ....19\\n4Representative of controllers or processors not established in the Union ................................ ..19', metadata={'source': '../../sample_files/7cc24bccf34a87a9bc817fe89e320a112a9cec26b9c5db7250e1cef7dc06eff0.pdf', 'page': 1}),\n Document(page_content='3\\nAdoptedThe European Data Protection Board\\nHaving regard to Article 70 (1 )(e) of the Regulation 2016/679/EU of the European Parliament and of\\nthe Council of 27 April 2016 on the protection of natural persons with regard to the processing of\\npersonal data and on the free movement of such data, and repealing Directiv e 95/46/EC .\\nHAS ADOPTED THE FOLL OWING GUIDELINES :\\nINTRODUCTION\\nThe territorial scope of General Data Protection Regulation1(the GDPR) is determined by Article 3 of\\nthe Regulation and represents a significant evolution of the EU data protection law compared to the\\nframework defined by Directive 95/46/EC2. In part, the GDPR confirms choices made by the EU\\nlegislator and the Court of Justice of the European Union (CJEU) in the contex t of Directive 95/46/EC.\\nHowever, important new elements have been introduced. Most importantly, the main objective of\\nArticle 4 of the Directive was to define which Member State’s national law is applicable ,whereas\\nArticle 3 of the GDPR defines the terri torial scope of a directly applicable text. Moreover, while Article\\n4 of the Directive made reference to the ‘use of equipment’ in the Union’s territory as a basis for\\nbringing controllers who were “not established on Community territory” within the scope of EU data\\nprotection law, such a reference does not appear in Article 3 of the GDPR.\\nArticle 3 of the GDPR reflects the legislator’s intention to ensure comprehensive protection of EU data\\nsubjects’ rights and to establish, in terms of data protection re quirement, a level playing field for\\ncompanies active on the EU markets, in a context of worldwide data flows.\\nArticle 3 of the GDPR defines the territorial scope of the Regulation on the basis of two main criteria:\\nthe “establishment” criterion, as per A rticle 3(1), and the “targeting” criterion as per Article 3(2).\\nWhere one of these two criteria is met, the relevant provisions of the GDPR will apply to the processing\\nof personal data by the controller or processor concerned. In addition, Article 3(3) co nfirms the\\napplication of the GDPR to the processing where Member State law applies by virtue of public\\ninternational law.\\nThrough a common interpretation by data protection authorities in the EU, these guidelines seek to\\nensure a consistent application of the GDPR when assessing whether particular processing by a\\ncontroller or a processor falls within the scope of the new EU legal framework. In these guidelines, the\\nEDPB sets out and clarifies the criteria for determining the application of the territorial scope of the\\nGDPR. Such a common interpretation is also essential for controllers and processors, both within and\\noutside the EU, so that they may assess whether they need to comply with the GDPR.\\nAs controllers or processors not established in the EU but engaging in processing activities falling within\\nArticle 3(2) are required to designate a representative in the Union, these guidelines will also provide\\n1Regulation (EU) 2016/679 of the European Parliament and of the Council of 27 April 2016 on the protection of\\nnatural persons with regard to the processing of personal data and on the free movement of such data, and\\nrepealing Directive 95/46/EC (General Da ta Protection Regulation).\\n2Directive 95/46/EC of the European Parliament and of the Council of 24 October 1995 on the protection of\\nindividuals with regard to the processing of personal data and on the free movement of such data .', metadata={'source': '../../sample_files/7cc24bccf34a87a9bc817fe89e320a112a9cec26b9c5db7250e1cef7dc06eff0.pdf', 'page': 2}),\n Document(page_content='4\\nAdoptedclarification on the process for the designation of this representative under Article 27 and its\\nresponsibilities and obligations.\\nAs a general principle, the EDPB asserts that where the processing of personal data falls within the\\nterritorial scope of the GDPR, all provisions of the Regulation apply to such processing. These\\nguidelines will however spec ify the various scenarios that may arise, depending on the type of\\nprocessing activities, the entity carrying out these processing activities or the location of such entities,\\nand will detail the provisions applicable to each situation. It is therefore ess ential that controllers and\\nprocessors, especially those offering goods and services at international level, do undertake a careful\\nandin concreto assessment of their processing activities, in order to determine whether the related\\nprocessing of personal data falls under the scope of the GDPR.\\n1APPLICATION OF THE E STABLISHMENT CRITERI ON-ART 3(1)\\nArticle 3(1) of the GDPR provides that the “Regulation applies to the processing of personal data in the\\ncontext of the activities of an establishment of a con troller or a processor in the Union, regardless of\\nwhether the processing takes place in the Union or not .”\\nArticle 3(1) GDPR makes reference not only to an establishment of a controller, but also to an\\nestablishment of a processor. As a result, the processing of personal data by a processor may also be\\nsubject to EU law by virtue of the processor having an establishment located within the EU.\\nThe following sections clarify the application of the establishment criterion, first by considering the\\ndefinition of an ‘establishment’ in the EU within the meaning of EU data protection law, second by\\nlooking at what is meant by ‘processing in the contex t of the activities of an establishment in the\\nUnion’, and lastly by confirming that the GDPR will apply regardless of whether the processing carried\\nout in the context of the activities of this establishment takes place in the Union or not.\\nArticle 3(1) e nsures that the GDPR applies to the processing by a controller or processor carried out in\\nthe context of the activities of an establishment of that controller or processor in the Union, regardless\\nof the actual place of the processing. The EDPB therefore recommends a threefold approach in\\ndetermining whether or not the processing of personal data falls within the scope of the GDPR\\npursuant to Article 3(1).\\na)Consideration 1: “An establishment in the Union”\\nBefore considering what is meant by “an establishm ent in the Union” it is first necessary to identify\\nwho is the controller or processor for a given processing activity. According to the definition in Article\\n4(7) of the GDPR, controller ”means the natural or legal person, public authority, agency or othe r body\\nwhich, alone or jointly with others, determines the purposes and means of the processing of personal\\ndata”. A processor, according to Article 4(8) of the GDPR, is “a natural or legal person, public authority,\\nagency or other body which processes per sonal data on behalf of the controller”. As established by\\nrelevant CJEU case law and previous WP29 guidance3, the determination of whether an entity is a\\ncontroller or processor for the purposes of EU data protection law is a key element in the assessment\\nof the appli cation of the GDPR to the personal data processing in question.\\n3WP169-Opinion 1/2010 on the concepts of \"controller\" and \"processor\" , adopted on 16thFebruary 2010.', metadata={'source': '../../sample_files/7cc24bccf34a87a9bc817fe89e320a112a9cec26b9c5db7250e1cef7dc06eff0.pdf', 'page': 3}),\n Document(page_content='5\\nAdoptedWhile the notion of “main establishment” is defined in Article 4(16), the GDPR does not provide a\\ndefinition of “establishment” for the purpose of Article 34. However, Recital 225clarifies that an\\n“[e]stablishment implies the effective and real exercise of activities through stable arrangements. The\\nlegal form of such arrangements, whether through a branch or a subsidiary with a legal personality, is\\nnot the determining factor in that respect .”\\nThis wording is identical to that found in Recital 19 of Directive 95/46/EC, to which reference has been\\nmadein several CJEU rulings broadening the interpretation of the term “establishment”, departing\\nfrom a formalistic approach whereby undertakings are established solely in the place where they are\\nregistered6. Indeed, the CJEU ruled that the notion of establishment extends to any real and effective\\nactivity—even a minimal one —exercised through stable arrangements7. In order to determine\\nwhether an entity based outside the Union has an establishment in a Member State, both the degree\\nof stability of the arr angements and the effective exercise of activities in that Member State must be\\nconsidered in the light of the specific nature of the economic activities and the provision of services\\nconcerned. This is particularly true for undertakings offering services exclusively over the Internet8.\\nThe threshold for “stable arrangement9” can actually be quite low when the centre of activities of a\\ncontroller concern s the provision of services online. As a result, in some circumstances, the presence\\nof one single employee or agent of the non -EU entity may be sufficient to constitute a stable\\narrangement if that employee or agent acts with a sufficient degree of stability.\\nThe fact that the non -EU entity responsible for the data processing does not have a branch or\\nsubsidiary in a Member State does not preclude it from having an establishment there within the\\nmeaning of EU data protection law. Although the notion of establishment is broad, it is not without\\nlimits. It is not possible to conclude that the non -EU entity has an establishment in the Union merely\\nbecause the undertaking’s website is accessible in the Union10.\\nExample 1 : A car manufacturing company with headquarters in the US has a fully -owned branch and\\nofficelocatedin Brussels overseeing all its operations in Europe, including marketing and\\nadvertisement.\\nThe Belgian branch can be considered to be a stable arrangement, which exercises real and effective\\nactivities in light of the nature of the economic activity carried out by the car manufacturing company.\\nAs such, the Belgian branch could therefore be considered as an establishment in the Union, within\\nthe meaning of the GDPR.\\n4The definition of “main establishment” is mainly relevant for the purpose of determining the competence of\\nthe supervisory authorities concerned according to Article 56 GDPR. See the WP29 Guidelines for identifying a\\ncontroller or processor’s lead supervisory authority (16/ENWP 244).\\n5Recital 22 of theGDPR:“Any processing of p ersonal data in the context of the activities of an establishment of\\na controller or a processor in the Union should be carried out in accordance with this Regulation, regardless of\\nwhether the processing itself takes place within the Union. Establishment implies the effective and real exercise\\nof activity through stable arrangements. The legal form of such arrangements, whether through a branch or a\\nsubsidiary with a legal personality, is not the determining factor in that respect.”\\n6See in particular Google Spain SL, Google Inc. v AEPD, Mario Costeja González (C -131/12), Weltimmo v NAIH (C -\\n230/14),Verein für Konsumenteninformation v Amazon EU (C -191/15)andWirtschaftsakademie Schleswig -\\nHolstein(C-210/16).\\n7Weltimmo, paragraph 31.\\n8Weltimmo, paragrap h 29.\\n9Weltimmo, paragraph 31.\\n10CJEU, Verein für Konsumenteninformation v. Amazon EU S arl, Case C 191/15, 28 July 2016, paragraph 76', metadata={'source': '../../sample_files/7cc24bccf34a87a9bc817fe89e320a112a9cec26b9c5db7250e1cef7dc06eff0.pdf', 'page': 4}),\n Document(page_content='Holstein(C-210/16).\\n7Weltimmo, paragraph 31.\\n8Weltimmo, paragrap h 29.\\n9Weltimmo, paragraph 31.\\n10CJEU, Verein für Konsumenteninformation v. Amazon EU S arl, Case C 191/15, 28 July 2016, paragraph 76\\n(hereafter “Verein für Konsumenteninformation ”).', metadata={'source': '../../sample_files/7cc24bccf34a87a9bc817fe89e320a112a9cec26b9c5db7250e1cef7dc06eff0.pdf', 'page': 4}),\n Document(page_content=\"6\\nAdoptedOnce it is concluded that a controller or processor is established in the EU, an in concreto analysis\\nshould then follow to determine whether the processing is carried out in the context of the activities\\nof this establishment, in order to determine whether Article3(1) applies. If a controller or processor\\nestablished outside the Union exercises “a real and effective activity -even a minimal one ”-through\\n“stable arrangements ”, regardless of its legal form (e.g. subsidiary, branch, office…), in the territory of\\na Member State, this controller or processor can be considered to have an establishm ent in that\\nMember State11. It is therefore important to consider whether the processing of personal data takes\\nplace “in the context of the activities of” such an establishment as highlighte d in Recital 22.\\nb) Consideration 2: Processing of personal data carried out “in the context of the activities of” an\\nestablishment\\nArticle 3(1) confirms that it is not necessary that the processing in question is carried out “by”the\\nrelevant EU establishment itself; the controller or processor will be subject to obli gations under the\\nGDPR whenever the processing is carried out ”in the context of the activities ”of its relevant\\nestablishment. The EDPB recommends that determining whether an entity based in the EU is to be\\nconsidered as an establishment of the controller or processor for the purposes of Article 3(1) is made\\non a case -by-case basis and based on an analysis in concreto . Each scenario must be assessed on its\\nown merits, taking into account the specific facts of the case.\\nThe EDPB considers that, for the purp ose of Article 3(1), the meaning of “ processing in the context of\\nthe activities of an establishment of a controller or processor” is to be understood in light of the\\nrelevant case law. On the one hand, with a view to fulfilling the objective of ensuring e ffective and\\ncomplete protection, the meaning of “in the context of the activities of an establishment” cannot be\\ninterpreted restrictively12. On the other hand, the existence of an establishment within the meaning\\nof the GDPR should not be interpreted too broadly to conclude that the existence of any presence in\\nthe EU with even the remotest links to the data processing activities of a non -EU entity will be sufficient\\nto bring this processing within the scope of EU data protection law. Some commercial activ ity led by a\\nnon-EU entity within a Member State may indeed be so far removed from the processing of personal\\ndata by this entity that the existence of the commercial activity in the EU would not be sufficient to\\nbring that data processing within the scope of EU data protection law13.\\ni)Relationship between a data controller or processor outside the Union and a local\\nestablishment in the Union\\nThe activities of a local establishment in a Member state and the data processing activities of\\na data controller or processor established outside the EU may be inextricably linked, and\\nthereby may trigger the applicability of EU law, even if that local es tablishment is not actually\\ntaking any role in the data processing itself14. If a case by case analysis on the facts shows that\\n11See in particular para 29 of the Weltimmo judgment, which emphasizes a flexible definition of the concept of\\n'establishment' and clarifies that 'the degree of stability of the arrangements and the effective exercise of\\nactivities in that other Member State must be interpreted in the light of the specific nature of the economic\\nactivities and the provision of services concerned.'\\n12Weltimmo, paragraph 25 and Google Spain, paragraph 53.\\n13WP 179 update -Update of Opinion 8/2010 on applicable law in light of the CJEU judgment in Google Spain,\\n16thDecember 2015\\n14CJEU, Google Spain, Case C131/12\", metadata={'source': '../../sample_files/7cc24bccf34a87a9bc817fe89e320a112a9cec26b9c5db7250e1cef7dc06eff0.pdf', 'page': 5}),\n Document(page_content='7\\nAdoptedthere is an inextricable link between the activities of an EU establishment and the processing\\nof data carried out by a non -EU controller, EU law will apply to that processing by the non -EU\\nentity, whether or not the EU establishment plays a role in that processing of data15.\\nii) Revenue raising in the Union\\nRevenue-raising in the EU by a local establishment, to the extent that suc h activities can be\\nconsidered as “inextricably linked ”to the processing of personal data taking place outside the\\nEU and individuals in the EU, may be indicative of processing by a non -EU controller or\\nprocessor being carried out “in the context of the a ctivities of the EU establishment ”, and may\\nbe sufficient to result in the application of EU law to such processing16.\\nThe EDPB recommends that non -EU organisations undertake an assessment of their processing\\nactivities, first by determining whether persona l data are being processed, and secondl y by identifying\\npotential link sbetween the activity for which the data is being processed and the activities of any\\npresence of the organisation in the Union. If such a link is identified, the nature of this link wi ll be key\\nin determining whether the GDP R applies to the processing in question, and must be assessed against\\nthe elements listed above.\\nExample 2: An e-commerce website operated by a company based in China, whereas the data\\nprocessing activities of which are exclusively carried out in China, has established a European office in\\nBerlin in order to lead and implement commercial prospection and marketing campaigns towards EU\\nmarkets.\\nIn this case, it can be considered t hat the activities of the European office in Berlin are inextricably\\nlinked to the processing of personal data carried out by the Chinese e -commerce website, insofar as\\nthe commercial prospection and marketing campaign towards EU markets notably serve to m ake the\\nservice offered by the e -commerce website profitable. The processing of personal data by the Chinese\\ncompany can therefore be considered as carried out in the context of the activities of the European\\noffice, as an establishment in the Union, and t herefore be subject to the provisions of the GDPR as per\\nits Article 3(1).\\nExample 3: A hotel and resort chain in South Africa offers package deals through its website, available\\nin English, German, French and Spanish. The company does not have any office , representation or\\nstable arrangement in the EU.\\nIn this case, in the absence of any representation or stable arrangement of the hotel and resort chain\\nwithin the territory of the Union, it appears that no entity linked to this data controller in South Af rica\\ncan qualify as an establishment in the EU within the meaning of the GDPR. Therefore the processing\\nat stake cannot be subject to the provisions of the GDPR, as per Article 3(1).\\n15WP179 update -Update of Opinion 8/2010 on applicable law in light of the CJEU judgment in Google Spai n,\\n16thDecember 2015\\n16This may potentially be the case, for example, for any foreign operator with a sales office or some other\\npresence in the EU, even if that office has no role in the actual data processing, in particular where the processing\\ntakes place in the context of the sales activity in the EU and the activities of the establishment are aimed at the\\ninhabitants of the Member States in which the establishment is located (WP179 update) .', metadata={'source': '../../sample_files/7cc24bccf34a87a9bc817fe89e320a112a9cec26b9c5db7250e1cef7dc06eff0.pdf', 'page': 6}),\n Document(page_content='8\\nAdoptedHowever, it must be analysed in concreto whether the processing carried o ut by this data controller\\nestablished outside the EU can be subject to the GDPR, as per Article 3(2).\\nc) Consideration 3: application of the GDPR to the establishment of a controller or a processor in the\\nUnion, regardless of whether the processing takes place in the Union or not\\nAs per Article 3(1), the processing of personal data in the context of the activities of an establishment\\nof a controller or a processor in the Union triggers the application of the GDPR and the related\\nobligations for the data c ontroller or processor concerned.\\nThe text of the GDPR specifies that the Regulation applies to processing in the context of the activities\\nof an establishment in the EU “ regardless of whether the processing takes place in the Union or not ”.\\nIt is the pre sence, through an establishment, of a data controller or processor in the EU and the fact\\nthat a processing takes place in the context of the activities of this establishment that trigger the\\napplication of the GDPR to its processing activities. The place of processing is therefore not relevant in\\ndetermining whether or not the processing, carried out in the context of the activities of an EU\\nestablishment, falls within the scope of the GDPR.\\nExample 4: A French company has developed a car -sharing applica tion exclusively addressed to\\ncustomers in Morocco, Algeria and Tunisia. The service is only available in those three countries but\\nall personal data processing activities are carried out by the data controller in France.\\nWhile the collection of personal d ata takes place in non -EU countries, the subsequent processing of\\npersonal data in this case is carried out in the context of the activities of an establishment of a data\\ncontroller in the Union. Therefore, even though processing relates to personal data o f data subjects\\nwho are not in the Union, the provisions of the GDPR will apply to the processing carried out by the\\nFrench company, as per Article 3(1).\\nExample 5: A pharmaceutical company with headquarters in Stockholm has located all its personal\\ndataprocessing activities with regards to its clinical trial data in its branch based in Singapore.\\nAccording to the company structure, the branch is not a legally distinct entity and the Stockholm\\nheadquarter determines the purpose and means of the data proce ssing carried out on its behalf by its\\nbranch based in Singapore.\\nIn this case, while the processing activities are taking place in Singapore, that processing is carried out\\nin the context of the activities of the pharmaceutical company in Stockholm i.e. of a data controller\\nestablished in the Union. The provisions of the GDPR therefore apply to such processing, as per Article\\n3(1).\\nIn determining the territorial scope of the GDPR, geographical location will be important under Article\\n3(1) with regard t o the place of establishment of:\\n-the controller or processor itself (is it established inside or outside the Union?);\\n-any business presence of a non -EU controller or processor (does it have an establishment in the\\nUnion?)', metadata={'source': '../../sample_files/7cc24bccf34a87a9bc817fe89e320a112a9cec26b9c5db7250e1cef7dc06eff0.pdf', 'page': 7}),\n Document(page_content='9\\nAdoptedHowever, geographical location is not important for the purposes of Article 3(1) with regard to the\\nplace in which processing is carried out, or with regard to the location of the data subjects in question.\\nThe text of Article 3(1) does not restrict the application of the GDPR to the proc essing of personal data\\nof individuals who are in the Union. The EDPB therefore considers that any personal data processing\\nin the context of the activities of an establishment of a controller or processor in the Union would fall\\nunder the scope of the GDP R, regardless of the location or the nationality of the data subject whose\\npersonal data are being processed. This approach is supported by Recital 14 of the GDPR which states\\nthat “[t]he protection afforded by this Regulation should apply to natural perso ns, whatever their\\nnationality or place of residence, in relation to the processing of their personal data.”\\nd) Application of the establishment criterion to controller and processor\\nAs far as processing activities falling under the scope of Article 3(1) are concerned, the EDPB considers\\nthat such provisions apply to controllers and processors whose processing activities are carried out in\\nthe context of the activities of their establishment in the EU. While acknowledging that the\\nrequirements for establis hing the relationship between a controller and a processor17doesnot vary\\ndepending on the geographical location of the establishment of a controller or processor, the EDPB\\ntakes the view that when it comes to the identification of the different obligation s triggered by the\\napplicability of the GDPR, the processing by each entity must be considered separately.\\nThe GDPR envisages different and dedicated provisions or obligations applying to data controllers and\\nprocessors, and as such, should a data controll er or processor be subject to the GDPR as per Article\\n3(1), the related obligations would apply to them respectively and separately. In this context, the EDPB\\nnotably deems that a processor in the EU should not be considered to be an establishment of a dat a\\ncontroller within the meaning of Article 3(1) merely by virtue of its status as processor. The existence\\nof a relationship between a controller and a processor does not necessarily trigger the application of\\nthe GDPR to both, should one of these two enti ties not be established in the Union.\\nAn organisation processing personal data on behalf of, and on instructions from, another organisation\\n(the client company) will be acting as processor for the client company (the controller). Where a\\nprocessor is estab lished in the Union, it will be required to comply with the obligations imposed on\\nprocessors by the GDPR (the ‘GDPR processor obligations’). If the controller instructing the processor\\nis also located in the Union, that controller will be required to comp ly with the obligations imposed on\\ncontrollers by the GDPR (the ‘GDPR controller obligations’).\\ni) Processing by a controller in the EU using a processor not subject to the GDPR\\nWhere a controller subject to GDPR chooses to use a processor located outside the Union and not\\nsubject to the GDPR, it will be necessary for the controller to ensure by contract or other legal act that\\nthe processor processes the data in accordance with the GDPR. Article 28 (3) provides that the\\nprocessing by a processor shall be governed by a contract or other legal act. The controller will\\ntherefore need to ensure that it puts in place a contract with the processor addressing all the\\nrequirements set out in Article 28(3). I n addition, it is likely that, in order to ensure that it has complied\\n17In accordance with Article 28, the EDPB recalls that processing activities by a processor on behalf of a controller\\nshall be governed by a contract or other leg al act under Union or Member State law, that is binding on the\\nprocessor with regard to the controller, and that controllers shall only use processors providing sufficient', metadata={'source': '../../sample_files/7cc24bccf34a87a9bc817fe89e320a112a9cec26b9c5db7250e1cef7dc06eff0.pdf', 'page': 8}),\n Document(page_content='processor with regard to the controller, and that controllers shall only use processors providing sufficient\\nguarantees to implement appropriate measures in such manner that processing will mee t the requirement of\\nthe GDPR and ensure the protection of data subjects’ rights.', metadata={'source': '../../sample_files/7cc24bccf34a87a9bc817fe89e320a112a9cec26b9c5db7250e1cef7dc06eff0.pdf', 'page': 8}),\n Document(page_content='10\\nAdoptedwith its obligations under Article 28(1) –to useonlya processor providing sufficient guarantees to\\nimplement measures in such a manner that processing will meet the requirements of t he Regulation\\nand protect the rights of data subjects –the controller may need to consider imposing, by contract,\\nthe obligations placed by the GDPR on processors subject to it. That is to say, the controller would have\\nensure that the processor not subje ct to the GDPR complies will the obligations, governed by a contract\\nor other legal act under Union or Member State law, referred to Article 28(3).\\nThe processor not subject to the GDPR will therefore become indirectly subject to some obligations\\nimposed b y controllers subject to the GDPR by virtue of contractual arrangements under Article 28.\\nMoreover, provisions of Chapter V of the GDPR may apply.\\nExample 6: A Finnish research institute conducts research regarding the Sami people. The institute\\nlaunches a project that only concerns Sami people in Russia. For this project the institute uses a\\nprocessor based in Canada.\\nWhile the GDPR would not formally apply directly to the Canadian processor, the Finnish controller\\nhas a duty to only use processors that provide sufficient guarantees to implement appropriate\\nmeasures in such manner that processing will meet the requirement of the GDPR and ensure the\\nprotection of data subjects’ rights. The Finnish controller needs to enter into a data processing\\nagreement with the Canadian processor, and the processor’s duties will be stipulated in that legal act.\\nii)Processing in the context of the activities of an establishment of a processor in the Union\\nWhilst case law provides us with a clear understanding of the ef fect of processing being carried out in\\nthe context of the activities of an EU establishment of the controller, the effect of processing being\\ncarried out in the context of the activities of an EU establishment of a processor is less clear.\\nThe EDPB empha sises that it is important to consider the establishment of the controller and processor\\nseparately.\\nThe first question is whether the controller itself has an establishment in the Union, and is processing\\nin the context of the activities of that establis hment. Assuming the controller is not considered to be\\nprocessing in the context of its own establishment in the Union, that controller will not be subject to\\nGDPR controller obligations by virtue of Article 3(1) (although it may still be caught by Article 3(2)).\\nUnless other factors are at play, the processor’s EU establishment will not be considered to be an\\nestablishment in respect of the controller.\\nThe separate question then arises of whether the processor is processing in the context of an\\nestablishment in the Union. If so, the processor will be subject to GDPR processor obligations.\\nHowever, this does not cause the non -EU controller to become subje ct to the GDPR controller\\nobligations. That is to say, a “non -EU” controller (as described above) will not become subject to the\\nGDPR simply because it chooses to use a processor in the Union.\\nBy instructing a processor in the Union, the controller not subject to GDPR is not carrying out\\nprocessing “in the context of the activities of the processor in the Union ”. The processing is carried out\\nin the context of the controller’s own activities; the processor is merely providing a processing service18\\n18The offering of a processing service in this context cannot be considered either as an offer of a service to data\\nsubjects in the Union.', metadata={'source': '../../sample_files/7cc24bccf34a87a9bc817fe89e320a112a9cec26b9c5db7250e1cef7dc06eff0.pdf', 'page': 9}),\n Document(page_content='11\\nAdoptedwhichis not“inextricably linked ”to the activities of the controller. As stated above, in the case of a\\ndata processor established in the Union and carrying out processing on behalf of a data controller\\nestablished outside the Union and not subject to the GDP R as per Article 3(2), the EDPB considers that\\nthe processing activities of the data controller would not be deemed as falling under the territorial\\nscope of the GDPR merely because it is processed on its behalf by a processor established in the Union.\\nHowever, even though the data controller is not established in the Union and is not subject to the\\nprovisions of the GDPR as per Article 3(2), the data processor, as it is established in the Union, will be\\nsubject to the relevant provisions of the GDPR as per Article 3(1).\\nExample 7: A processor established in Spain has entered in a contract with a Mexican retail company,\\nthe data controller, for the processing of its clients’ personal data. The Mexican company offers and\\ndirects its services exclusively t o the Mexican market and its processing concerns exclusively data\\nsubjects located outside the Union.\\nIn this case, the Mexican retail company does not target persons on the territory of the Union through\\nthe offering of goods or services, nor it does monitor the behaviour of person on the territory of the\\nUnion. The processing by the data controller, esta blished outside the Union, is therefore not subject\\nto the GDPR as per Article 3(2).\\nWhile the provisions of the GDPR does not apply to the data controller, the data processor, as a\\nprocessor established in Spain, will be required to comply with the proce ssor obligations imposed by\\nthe regulation for any processing carried out in the context of its activities.\\nWhen it comes to a data processor carrying out processing on behalf of a data controller established\\noutside the Union and which does not fall unde r the territorial scope of the GDPR as per Article 3(2),\\nthe processor will be subject to the following relevant GDPR provisions directly applicable to data\\nprocessors:\\n-The obligations imposed on processors under Article 28 (2), (3), (4), (5) and (6), on t he duty to\\nenter into a data processing agreement, with the exception of those relating to the assistance to\\nthe data controller in complying with its (the controller’s) own obligations under the GDPR.\\n-The processor and any person acting under the authori ty of the controller or of the processor, who\\nhas access to personal data, shall not process those data except on instructions from the controller,\\nunless required to do so by Union or Member State law, as per Article 29 and Article 32(4).\\n-Where applicable , the processor shall maintain a record of all categories of processing carried out\\non behalf of a controller, as per Article 30(2).\\n-Where applicable, the processor shall, upon request, cooperate with the supervisory authority in\\nthe performance of its ta sks, as per Article 31.\\n-The processor shall implement technical and organisational measures to ensure a level of security\\nappropriate to the risk, as per Article 32.\\n-The processor shall notify the controller without undue delay after becoming aware of a pe rsonal\\ndata breach, as per Article 33.\\n-Where applicable, the processor shall designate a data protection officer as per Articles 37 and 38.\\n-The provisions on transfers of personal data to third countries or international organisations, as\\nper Chapter V.\\nIn addition, since such processing would be carried out in the context of the activities of an\\nestablishment of a processor in the Union, the EDPB recalls that the processor will have to ensure its\\nprocessing remains lawful with regards to other obligations under EU or national law. Article 28(3) also', metadata={'source': '../../sample_files/7cc24bccf34a87a9bc817fe89e320a112a9cec26b9c5db7250e1cef7dc06eff0.pdf', 'page': 10}),\n Document(page_content='12\\nAdoptedspecifies that “ the processor shall immediately inform the controller if, in its opinion, an instruction\\ninfringes this Regulation or other Union or Member State data protection provisions. ”\\nIn line with the po sitions taken previously by the Article 29 Working Party, the EDPB takes the view\\nthat the Union territory cannot be used as a “data haven ”, for instance when a processing activity\\nentails inadmissible ethical issues19, and that certain legal obligations be yond the application of EU\\ndata protection law, in particular European and national rules with regard to public order, will in any\\ncase have to be respected by any data processor established in the Union, regardless of the location\\nof the data controller .This consideration also takes into account the fact that by implementing EU law,\\nprovisions resulting from the GDPR and related national laws, are subject to the Charter of\\nFundamental Rights of the Union. However, this does not impose additional obligatio ns on controllers\\noutside the Union not falling under the territorial scope of the GDPR as per Article 3(2).\\n2APPLICATION OF THE T ARGETING CRITERION –ART 3(2)\\nThe absence of an establishment in the Union does not necessarily mean that a data controller or\\nprocessor established in a third country would be excluded from the scope of the GDPR, since Article\\n3(2) sets out the circumstances in which the GDPR applies to a controller or processor not established\\nin the Union, depending on their processing activiti es.\\nIn this context, the EDPB confirms that in the absence of an establishment in the Union, a controller or\\nprocessor cannot benefit from the one -stop shop mechanism provided for in Article 56 of the GDPR.\\nIndeed, the GDPR’s cooperation and consistency me chanism only applies to controllers and processors\\nwith an establishment, or establishments, within the European Union20.\\nWhile the present guidelines aims at clarifying the territorial scope of the GDPR, the EDPB also wish to\\nstress that controllers and pr ocessors will also need to take into account other applicable text s, such\\nas for instance EU or Member States’ sectorial legislation and national laws. Several provisions of the\\nGDPR indeed allow Member States to introduce additional conditions and to defi ne a specific data\\nprotection framework at national level in certain areas or in relation to specific processing situations.\\nControllers and processors must therefore ensure that they are aware of, and comply with, these\\nadditional conditions and framework s which may vary from one Member State to the other. Such\\nvariations in the data protection provisions applicable in each Member State are particularly notable\\nin relation to the provisions of Article 8 ( providing that the age at which children may give v alid consent\\nin relation to the processing of their data by information society services may vary between 13 and\\n16), of Article 9 (in relation to the processing of special categories of data), Article 23 (restrictions) or\\nconcerning the provisions contain ed in Chapter IX of the GDPR (freedom of expression and\\ninformation; public access to official documents; national identification number; employment context;\\nprocessing for archiving purposes in the public interest, scientific or historical research purpos es or\\nstatistical purposes; secrecy; churches and religious associations).\\nArticle 3(2) of the GDPR provides that “this Regulation applies to the processing of personal data of\\ndata subjects who are in the Union by a controller or processor not established in the Union, where the\\nprocessing activities are related to: (a) the offering of goods or services, irrespective of whether a\\npayment of the data subject is required, to such data subjects in the Union; or (b) the monitoring of\\ntheir behaviour as far as their behaviour takes place within the Union.”\\n19WP169-Opinion 1/2010 on the con cepts of \"controller\" and \"processor\" , adopted on 16thFebruary 2010', metadata={'source': '../../sample_files/7cc24bccf34a87a9bc817fe89e320a112a9cec26b9c5db7250e1cef7dc06eff0.pdf', 'page': 11}),\n Document(page_content='their behaviour as far as their behaviour takes place within the Union.”\\n19WP169-Opinion 1/2010 on the con cepts of \"controller\" and \"processor\" , adopted on 16thFebruary 2010\\n20WP244, 13th December 2016, Guidelines for identifying a controller or processor’s lead supervisory authority .', metadata={'source': '../../sample_files/7cc24bccf34a87a9bc817fe89e320a112a9cec26b9c5db7250e1cef7dc06eff0.pdf', 'page': 11}),\n Document(page_content='13\\nAdoptedThe application of the “targeting criterion” towards data subjects who are in the Union, as per Article\\n3(2), can be triggered by two distinct and alternative types of activities carried out by a controller or\\nprocessor not established in the Union. In addition to being applicable only to a controller or processor\\nnot established in the Union, the targeting criteria largely focus on what the “processing activities” are\\n“related to”, which is to be considered on a case-by-case basis.\\nIn assessing the conditions for the application of the criteria, the EDPB therefore recommends a\\ntwofold approach, in order to determine first that the processing relates to personal data of data\\nsubjects who are in the Union, and s econd whether it relates to the offering of goods or services or to\\nthe monitoring of data subjects’ behaviour in the Union.\\na)Consideration 1: Data subjects in the Union\\nThe wording of Article 3(2) refers to “ personal data of data subjects who are in the U nion”. The\\napplication of the targeting criteria is therefore not limited by the citizenship, residence or other type\\nof legal status of the data subject whose personal data are being processed. Recital 14 confirms this\\ninterpretation and states that “[t]he protection afforded by this Regulation should apply to natural\\npersons, whatever their nationality or place of residence, in relation to the processing of their personal\\ndata”.\\nThis provision of the GDPR reflects EU primary law which also lays down a bro ad scope for the\\nprotection of personal data, not limited to EU citizens, with Article 8 of the Charter of Fundamental\\nRights providing that the right to the protection of personal data is not limited but is for “everyone”21.\\nWhile the location of the data subject in the territory of the Union is a determining factor for the\\napplication of the targeting criterion as per Article 3(2), the EDPB considers that the nationality or legal\\nstatus of a data subject who is in the Union cannot limit or restrict the te rritorial scope of the\\nRegulation.\\nThe requirement that the data subject be located in the Union must be assessed at the moment when\\nthe relevant trigger activity takes place, i.e. at the moment of offering of goods or services or the\\nmoment when the behaviour is being monitored, regardless of the duration of the offer made or\\nmonitoring undertaken.\\nExample 8: A start-up established in the USA, without any business presence or establishment in the\\nEU, provides a city -mapping application for tourists. The application processes personal data\\nconcerning the location of customers using the app (the data subjects) once th ey start using the\\napplication in the city they visit, in order to offer targeted advertisement for places to visits, restaurant,\\nbars and hotels. The application is available for tourists while they visit New York, San Francisco,\\nToronto, London, Paris an d Rome.\\nThe US start -up, via its city mapping application, is offering services to individuals in the Union\\n(specifically in London, Paris and Rome). The processing of the EU -located data subjects’ personal data\\nin connection with the offering of the serv ice falls within the scope of the GDPR as per Article 3(2).\\n21Charter of Fundamental Right of the European Union, Article 8(1), « Everyone has the right to the protection\\nof personal data concerning him or he r”.', metadata={'source': '../../sample_files/7cc24bccf34a87a9bc817fe89e320a112a9cec26b9c5db7250e1cef7dc06eff0.pdf', 'page': 12}),\n Document(page_content='14\\nAdoptedThe EDPB also wishes to underline that the fact of processing personal data of an individual in the\\nUnion alone is not sufficient to trigger the application of the GDPR to processing activities o f a\\ncontroller or processor not established in the Union. The element of \"targeting\" individuals in the EU,\\neither by offering goods or services to them or by monitoring their behaviour (as further clarified\\nbelow), must always be present in addition.\\nExample 9: A U.S. citizen is travelling through Europe during his holidays. While in Europe, he\\ndownloads and uses a news app that is offered by a U.S. company. The app is exclusively directed at\\nthe U.S. market. The collection of the U.S. tourist\\'s personal data via the app by the U.S. company is\\nnot subject to the GDPR.\\nMoreover, it should be noted that the processing of personal data of EU citizens or residents that takes\\nplace in a third country does not trigger the application of the GDPR, as long as the processing is not\\nrelated to a specific offer directed at individuals in the EU or to a monitoring of their behaviour in the\\nUnion.\\nExample 10: A bank in Taiwan has customers that are residing in Taiwan but hold German citizenship.\\nThe bank is active onl y in Taiwan; its activities are not directed at the EU market. The bank\\'s processing\\nof the personal data of its German customers is not subject to the GDPR.\\nExample 11 : The Canadian immigration authority processes personal data of EU citizens when entering\\nthe Canadian territory for the purpose of examining their visa application. This processing is not subject\\nto the GDPR.\\nb)Consideration 2a: offering of goods or servic es, irrespective of whether a payment of the data\\nsubject is required, to data subjects in the Union\\nThe first activity triggering the application of Article 3(2) is the “offering of goods or services”, a concept\\nwhich has been further addressed by EU law and case law, which should be taken into account when\\napplying the targeting criterion. The offering of services also includes the offering of information\\nsociety services, defined in point (b) of Article 1(1) of Directive (EU) 2015/1535 as “ any Informatio n\\nSociety service, that is to say, any service normally provided for remuneration, at a distance, by\\nelectronic means and at the individual request of a recipient of services ”.\\nArticle 3(2)(a) specifies that the targeting criterion concerning the offering of goods or services applies\\nirrespective of whether a payment by the data subject is required. Whether the activity of a controller\\nor processor not established in the Union is to be considered as an offer of a good or a service is not\\ntherefore dependent whether payment is made in exchange for the goods or services provided22.\\nAnother key element to be assessed in determining whether the Article 3(2)(a) targeting criterion can\\nbe met is whether the offer of goods or services is directed at a person in the Union, or in other words,\\n22See, in particular, CJEU, C-352/85, Bond van Adverteerders and Others vs. The Netherlands State, 26 April\\n1988, par. 16), and CJEU, C -109/92, Wirth [1993] Racc. I -6447, par. 15', metadata={'source': '../../sample_files/7cc24bccf34a87a9bc817fe89e320a112a9cec26b9c5db7250e1cef7dc06eff0.pdf', 'page': 13}),\n Document(page_content=\"15\\nAdoptedwhether the conduct on the part of the controller or processor demonstrates its intention to offer\\ngoods or a services to a data subject located in the Union. Recital 23 of the GDPR indeed clarifies that\\n“in order to determine whe ther such a controller or processor is offering goods or services to data\\nsubjects who are in the Union, it should be ascertained whether it is apparent that the controller or\\nprocessor envisages offering services to data subjects in one or more Member Sta tes in the Union. ”\\nThe recital further specifies that “ whereas the mere accessibility of the controller's, processor's or an\\nintermediary's website in the Union, of an email address or of other contact details, or the use of a\\nlanguage generally used in th e third country where the controller is established, is insufficient to\\nascertain such intention, factors such as the use of a language or a currency generally used in one or\\nmore Member States with the possibility of ordering goods and services in that ot her language, or the\\nmentioning of customers or users who are in the Union, may make it apparent that the controller\\nenvisages offering goods or services to data subjects in the Union.”\\nProcessing activities which are “related” to the activity which trigge red application of Article3(2) also\\nfall within the territorial scope of the GDPR. The EDPB considers that there needs to be a connection\\nbetween the processing activity and the offering of good or service, but both direct and indirect\\nconnections are rel evant and to be taken into account.\\nThe elements listed in Recital23 echo and are in line with the CJEU case law based on Regulation\\n44/2001 on jurisdiction and the recognition and enforcement of judgments in civil and commercial\\nmatters, and in particul ar its Article 15 (1)(c). InPammer v Reederei Karl Schlüter GmbH & Co and Hotel\\nAlpenhof v Heller (Joined cases C -585/08 and C -144/09), the Court was asked to clarify what it means\\nto “direct activity” within the meaning of Article 15 (1)(c) of Regulation 44/2001 ( Brussels I). The Court\\nheld that, in order to determine whether a trader can be considered to be “directing”its activity to the\\nMember State of the consumer’s domicile, within the meaning of Article 15(1)(c) of Brussels I, the\\ntrader must have ma nifested its intention to establish commercial relations with such consumers. In\\nthis context, the Court considered evidence able to demonstrate that the trader was envisaging doing\\nbusiness with consumers domiciled in a Member State.\\nWhile the notion of “directing an activity” differs from the “offering of goods or services”, the EDPB\\ndeems this case law in in Pammer v Reederei Karl Schlüter GmbH & Co and Hotel Alpenhof v Heller\\n(Joined cases C -585/08 and C -144/09)23might be of assistance when considering whether goods or\\nservices are offered to a data subject in the Union. When taking into account the specific facts of the\\ncase, the following factors could therefore inter alia be taken into consideration, possibly in\\ncombination with one another:\\n-The EUor at least one Member State is designated by name with reference to the good or service\\noffered;\\n-The data controller or processor pays a search engine operator for an internet referencing service\\nin order to facilitate access to its site by consumers in t he Union; or the controller or processor has\\nlaunched marketing and advertisement campaigns directed at an EU country audience\\n-The international nature of the activity at issue, such as certain tourist activities;\\n-The mention of dedicated addresses or phon e numbers to be reached from an EU country;\\n23It is all the more relevant that, under Article 6 of Regulation (EC) No 593/2008 of the European Parliament and\\nof the Council of 17 June 2008 on the law applicable to contractual obligations (Rome I) , in absence of choice of\\nlaw, this criterion of “dire cting activity” to the country of the consumer’s habitual residence is taken into account\", metadata={'source': '../../sample_files/7cc24bccf34a87a9bc817fe89e320a112a9cec26b9c5db7250e1cef7dc06eff0.pdf', 'page': 14}),\n Document(page_content='law, this criterion of “dire cting activity” to the country of the consumer’s habitual residence is taken into account\\nto designate the law of the consumer’s habitual residence as the law applicable to the contract.', metadata={'source': '../../sample_files/7cc24bccf34a87a9bc817fe89e320a112a9cec26b9c5db7250e1cef7dc06eff0.pdf', 'page': 14}),\n Document(page_content=\"16\\nAdopted-The use of a top -level domain name other than that of the third country in which the controller or\\nprocessor is established, for example “.de”, or the use of neutral top -level domain names such as\\n“.eu”;\\n-The description of travel instructions from one or more other EU Member States to the place\\nwhere the service is provided;\\n-The mention of an international clientele composed of customers domiciled in various EU Member\\nStates, in particular by presentation of ac counts written by such customers;\\n-The use of a language or a currency other than that generally used in the trader’s country,\\nespecially a language or currency of one or more EU Member states;\\n-The data controller offers the delivery of goods in EU Member States.\\nAs already mentioned, several of the elements listed above, if taken alone may not amount to a clear\\nindication of the intention of a data controller to offer goods or services to data subjects in the Union,\\nhowever, they should each be taken into account in any in concreto analysis in order to determine\\nwhether the combination of factors relating to the data controller’s commercial activities can together\\nbe considered as an offer of go ods or services directed at data subjects in the Union.\\nIt is however important to recall that Recital 23 confirms that the mere accessibility of the controller's,\\nprocessor's or an intermediary's website in the Union, the mention on the website of its e -mail or\\ngeographical address, or of its telephone number without an international code, does not, of itself,\\nprovide sufficient evidence to demonstrate the controller or processor’s intention to offer goods or a\\nservices to a data subject located in the Un ion.\\nExample 12: A website, based and managed in Turkey, offers services for the creation, edition, printing\\nand shipping of personalised family photo albums. The website is available in English, French, Dutch\\nand German and payments can be made in Euros or Sterling. The website indicates that photo albums\\ncan only be delivered by post mail in the UK, France, Benelux countries and Germany.\\nIn this case, it is clear that the creation, editing and printing of personalised family photo albums\\nconstitute a se rvice within the meaning of EU law. The fact that the website is available in four\\nlanguages of the EU and that photo albums can be delivered by post in six EU Member States\\ndemonstrates that there is an intention on the part of the Turkish website to offe r its services to\\nindividuals in the Union.\\nAs a consequence, it is clear that the processing carried out by the Turkish website, as a data controller,\\nrelates to the offering of a service to data subjects in the Union and is therefore subject to the\\nobligations and provisions of the GDPR, as per its Article 3(2)(a).\\nIn accordance with Article 27, the data controller will have to designate a representative in the Union.\\nExample 13: A private company based in Monaco processes personal data of its employe es for the\\npurposes of salary payment. A large number of the company’s employees are French and Italian\\nresidents.\\nIn this case, while the processing carried out by the company relates to data subjects in France and\\nItaly, it does not takes place in the c ontext of an offer of goods or services. Indeed human resources\\nmanagement, including salary payment by a third -country company cannot be considered as an offer\", metadata={'source': '../../sample_files/7cc24bccf34a87a9bc817fe89e320a112a9cec26b9c5db7250e1cef7dc06eff0.pdf', 'page': 15}),\n Document(page_content='17\\nAdoptedof service within the meaning of Art 3(2)a. The processing at stake does not relate to the offe r of goods\\nor services to data subjects in the Union (nor to the monitoring of behaviour) and, as a consequence,\\nis not subject to the provisions of the GDPR, as per Article 3.\\nThis assessment is without prejudice to the applicable law of the third country concerned.\\nExample 14: A Swiss University in Zurich is launching its Master degree selection process, by making\\navailable an online platform where candidates can upload their CV and cover letter, together with their\\ncontact details. The selection process is open to any student with a sufficient level of German and\\nEnglish and holding a Bachelor degree. The University does not specifically advertise to students in EU\\nUniversities, and only takes payment in Swiss currency.\\nAs there is no distinction or specification for students f rom the Union in the application and selection\\nprocess for this Master degree, it cannot be established that the Swiss University has the intention to\\ntarget students from a particular EU member states. The sufficient level of German and English is a\\ngeneral requirement that applies to any applicant whether a Swiss resident, a person in the Union or\\na student from a third country. Without other factors to indicate the specific targeting of students in\\nEU member states, it therefore cannot be established tha t the processing in question relates to the\\noffer of an education service to data subject in the Union, and such processing will therefore not be\\nsubject to the GDPR provisions.\\nThe Swiss University also offers summer courses in international relations an d specifically advertise\\nthis offer in German and Austrian universities in order to maximise the courses’ attendance. In this\\ncase, there is a clear intention from the Swiss University to offer such service to data subjects who are\\nin the Union, and the GD PR will apply to the related processing activities.\\nc)Consideration 2b: monitoring of data subjects’ behaviour\\nThe second type of activity triggering the application of Article 3(2) is the monitoring of data subject\\nbehaviour as far as their behaviour takes place within the Union.\\nRecital 24 clarifies that “ [t]he processing of personal data of data subjects who ar e in the Union by a\\ncontroller or processor not established in the Union should also be subject to this Regulation when it is\\nrelated to the monitoring of the behaviour of such data subjects in so far as their behaviour takes place\\nwithin the Union.”\\nForArticle 3(2)(b) to trigger the application of the GDPR, the behaviour monitored must first relate to\\na data subject in the Union and, as a cumulative criterion, the monitored behaviour must take place\\nwithin the territory of the Union.\\nThe nature of the p rocessing activity which can be considered as behavioural monitoring is further\\nspecified in Recital 24 which states that “in order to determine whether a processing activity can be\\nconsidered to monitor the behaviour of data subjects, it should be ascerta ined whether natural persons\\nare tracked on the internet including potential subsequent use of personal data processing techniques\\nwhich consist of profiling a natural person, particularly in order to take decisions concerning her or him\\nor for analysing o r predicting her or his personal preferences, behaviours and attitudes .” While Recital\\n24 exclusively relates to the monitoring of a behaviour through the tracking of a person on the internet,\\nthe EDPB considers that tracking through other types of network or technology involving personal data', metadata={'source': '../../sample_files/7cc24bccf34a87a9bc817fe89e320a112a9cec26b9c5db7250e1cef7dc06eff0.pdf', 'page': 16}),\n Document(page_content='18\\nAdoptedprocessing should also be taken into account in determining whether a processing activity amounts to\\na behavioural monitoring, for example through wearable and other smart devices.\\nAs opposed to the provision of Artic le 3(2)(a), neither Article 3(2)(b) nor Recital 24 introduce a\\nnecessary degree of “intention to target ”on the part of the data controller or processor to determine\\nwhether the monitoring activity would trigger the application of the GDPR to the processin g activities.\\nHowever, the use of the word “monitoring ”implies that the controller has a specific purpose in mind\\nfor the collection and subsequent reuse of the relevant data about an individual’s behaviour within\\nthe EU. The EDPB does not consider that a ny online collection or analysis of personal data of individuals\\nin the EU would automatically count as “monitoring ”. It will be necessary to consider the controller’s\\npurpose for processing the data and, in particular, any subsequent behavioural analysis or profiling\\ntechniques involving that data. The EDPB takes into account the wording of Recital 24, which indicates\\nthat to determine whether processing involves monitoring of a data subject behaviour, the tracking of\\nnatural persons on the Internet, inclu ding the potential subsequent use of profiling techniques, is a\\nkey consideration.\\nThe application of Article 3(2)(b) where a data controller or processor monitors the behaviour of data\\nsubjects who are in the Union could therefore encompass a broad range of monitoring activities,\\nincluding in particular:\\n-Behavioural advertisement\\n-Geo-localisation activities, in particular for marketing purposes\\n-Online tracking through the use of cookies or other tracking techniques such as fingerprinting\\n-Personalised di et and health analytics services online\\n-CCTV\\n-Market surveys and other behavioural studies based on individual profiles\\n-Monitoring or regular reporting on an individual’s health status\\nExample 15: A marketing company established in the US provides advice on retail layout to a shopping\\ncentre in France, based on an analysis of customers’ movements throughout the centre collected\\nthroughWi-Fi tracking.\\nThe analysis of a customers’ movements within the centre through Wi -Fi tracking will amount to the\\nmonitoring of individuals’ behaviour. In this case, the data subjects’ behaviour takes place in the Union\\nsince the shopping centre is located in France. The marketing company, as a data controller, is\\ntherefore subject to the GDPR in respect of the processing of this data for this purpose as per its Article\\n3(2)(b).\\nIn accordance with Article 27, the data controller will have to designate a representative in the Union.\\nExample 16: An app developer established in Canada with no establishment in the Union monitors the\\nbehaviour of data subject in the Union and is therefore subject to the GDPR, as per Article 3(2)b. The\\ndeveloper uses a processor established in the US for the app optimisation and maintenance purposes .\\nIn relation to this processing, the Cana dian controller has the duty to only use appropriate processors\\nand to ensure that its obligations under the GDPR are reflected in the contract or legal act governing\\nthe relation with its processor in the US, pursuant to Article 28.', metadata={'source': '../../sample_files/7cc24bccf34a87a9bc817fe89e320a112a9cec26b9c5db7250e1cef7dc06eff0.pdf', 'page': 17}),\n Document(page_content=\"19\\nAdopted3PROCESSING IN A PLAC EWHERE MEMBER STATE L AW APPLIES BY\\nVIRTUE OF PUBLIC INT ERNATIONAL LAW\\nArticle 3(3) provides that “ [t]his Regulation applies to the processing of personal data by a controller\\nnot established in the Union, but in a place where Member State law applies by vir tue of public\\ninternational law ”. This provision is expanded upon in Recital 25 which states that “ [w]here Member\\nState law applies by virtue of public international law, this Regulation should also ap ply to a controller\\nnot established in the Union, such as in a Member State's diplomatic mission or consular post. ”\\nThe definitions and status of diplomatic missions and consular posts are laid down in international law,\\nrespectively in the Vienna Convention on Diplomatic Relations of 1961 and the Vienna Conve ntion on\\nConsular Relations of 1963.\\nThe EDPB considers that the GDPR applies to personal data processing carried out by EU Member\\nStates’ embassies and consulates, insofar as such processing falls within the material scope of the\\nGDPR, as defined in its Article 2. A Member State’s diplomatic or consular post, as a data controller or\\nprocessor, would then be subject to all relevant provisions of the GDPR, including when it comes to\\nthe rights of the data subject, the general obligations related to controll er and processor and the\\ntransfers of personal data to third countries or international organisations.\\nExample 17: The Dutch consulate in Kingston, Jamaica, opens an online application process for the\\nrecruitment of local staff in order to support its adm inistration.\\nWhile the Dutch consulate in Kingston, Jamaica, is not established in the Union, the fact that it is a\\nconsular post of an EU country where Member State law applies by virtue of public international law\\nrenders the GDPR applicable to its proce ssing of personal data, as per Article 3(3).\\nExample 18: A German cruise ship travelling in international waters is processing data of the guests on\\nboard for the purpose of tailoring the in -cruise entertainment offer.\\nWhile the ship is located outside the Union, in international waters, the fact that it is German -\\nregistered cruise ship means that by virtue of public international law the GDPR shall be applicable to\\nits processing of personal data, as per Article 3(3).\\n4REPRESENTATIVE O F CONTROLLERS OR P ROCESSORS NOT\\nESTABLISHED IN THE U NION\\nData controllers or processors subject to the GDPR as per its Article 3(2) are under the obligation to\\ndesignate a representative in the Union. A controller or processor not established in the Union but\\nsubject to the GDPR failing to designate a representative in the Union would therefore be in breach of\\nthe Regulation.\\nThis provision is not entirely new since Directive 95/46/EC already provided for a similar obligation.\\nUnder the Directive, this provision concerned c ontrollers not established on Community territory that,\\nfor purposes of processing personal data, made use of equipment, automated or otherwise, situated\\non the territory of a Member State. The GDPR imposes an obligation to designate a representative in\", metadata={'source': '../../sample_files/7cc24bccf34a87a9bc817fe89e320a112a9cec26b9c5db7250e1cef7dc06eff0.pdf', 'page': 18}),\n Document(page_content='20\\nAdoptedthe Union to any controller or processor falling under the scope of Article 3(2), unless they meet the\\nexemption criteria as per Article 27(2). In order to facilitate the application of this specific provision,\\nthe EDPB deems it necessary to provide furthe r guidance on the designation process, establishment\\nobligations and responsibilities of the representative in the Union as per Article 27.\\nIt is worth noting that a controller or processor not established in the Union who has designated in\\nwriting a repre sentative in the Union, in accordance with article 27 of the GDPR, does not fall within\\nthe scope of article 3(1), meaning that the presence of the representative within the Union does not\\nconstitute an “establishment” of a controller or processor by virtu e of article 3(1).\\na) Designation of a representative\\nRecital 80 clarifies that “ [t]he representative should be explicitly designated by a written mandate of\\nthe controller or of the processor to act on its behalf with regard to its obligations under this Regulation.\\nThe designation of such a representative does not affect the responsibility or liability of the controller\\nor of the processor under this Regulation. Such a representative should perform its tasks according to\\nthe mandate received from the con troller or processor, including cooperating with the competent\\nsupervisory authorities with regard to any action taken to ensure compliance with this Regulation.”\\nThe written mandate referred to in Recital 80 shall therefore govern the relations and obliga tions\\nbetween the representative in the Union and the data controller or processor established outside the\\nUnion, while not affecting the responsibility or liability of the controller or processor. The\\nrepresentative in the Union may be a natural or a lega l person established in the Union able to\\nrepresent a data controller or processor established outside the Union with regard to their respective\\nobligations under the GDPR.\\nIn practice, the function of representative in the Union can be exercised based on a service contract\\nconcluded with an individual or an organisation, and can therefore be assumed by a wide range of\\ncommercial and non -commercial entities, such as law firms, consultancies, private companies, etc…\\nprovided that such entities are establishe d in the Union. One representative can also act on behalf of\\nseveral non -EU controllers and processors.\\nWhen the function of representative is assumed by a company or any other type of organisation, it is\\nrecommended that a single individual be assigned as a lead contact and person “in charge ”for each\\ncontroller or processor represented. It would generally also be useful to specify these points in the\\nservice contract.\\nThe EDPB does not consider the function of representative in the Union as compatible wit h the role of\\nan external data protection officer ( “DPO”) which would be established in the Union. Article 38(3)\\nestablishes some basic guarantees to help ensure that DPOs are able to perform their tasks with a\\nsufficient degree of autonomy within their or ganisation. In particular, controllers or processors are\\nrequired to ensure that the DPO “ does not receive any instructions regarding the exercise of [his or her]\\ntasks”. Recital 97 adds that DPOs, “ whether or not they are an employee of the controller, sh ould be in\\na position to perform their duties and tasks in an independent manner ”24. Such requirement for a\\nsufficient degree of autonomy and independence of a data protection officer does not appear to be\\ncompatible with the function of representative in t he Union, which subject to a mandate by a controller\\n24WP29Guidelines on Data Protection Officers (‘DPOs’) ,WP 243 rev.01', metadata={'source': '../../sample_files/7cc24bccf34a87a9bc817fe89e320a112a9cec26b9c5db7250e1cef7dc06eff0.pdf', 'page': 19}),\n Document(page_content='21\\nAdoptedor processor and will be acting on its behalf and therefore under its direct instruction25. Furthermore,\\nand to complement this interpretation, the EDPB recalls the position already taken by the WP29\\nstressing that “ a conflict of interests may also arise for example if an external DPO is asked to represent\\nthe controller or processor before the Courts in cases involving data protection issues ”. Given the\\npossible conflict of obligation and interests in cas es of enforcement proceedings, the EDPB does not\\nconsider the function of a data controller representative in the Union as compatible with the role of\\ndata processor for that same data controller.\\nWhile the GDPR does not foresee any obligation to data con troller or the representative itself to notify\\nthe designation of the latter to a supervisory authority, the EDPB recalls that, in accordance with\\nArticles 13(1)a and 14(1)a, as part of their information obligations, controllers shall provide data\\nsubjectsinformation as to the identity of their representative in the Union. This information shall for\\nexample be included in the privacy notice or upfront information provided to data subjects at the\\nmoment of data collection. A controller not established in th e Union but falling under Article 3(2) and\\nfailing to inform data subjects who are in the Union of the identity of its representative would be in\\nbreach of its transparency obligations as per the GDPR. Such information should furthermore be easily\\naccessible to supervisory authorities in order to facilitate the establishment of a contact for\\ncooperation needs.\\nExample 19: The website referred to in example 12, based and managed in Turkey, offers services for\\nthe creation, edition, printing and shipping of personalised family photo albums. The website is\\navailable in English, French, Dutch and German and payments can be mad e in Euros or Sterling. The\\nwebsite indicates that photo albums can only be delivered by post mail in the UK, France, Benelux\\ncountries and Germany. This website being subject to the GDPR, as per its Article 3(2)(a), the data\\ncontroller must designate a re presentative in the Union.\\nThe representative must be established in one of the Member States where the service offered is\\navailable, in this case either in the UK, France, Belgium, Netherlands, Luxembourg or Germany. The\\nname and contact details of the da ta controller must be part of the information made available online\\nto data subjects once they start using the service by creating their photo album. It must also appear in\\nthe website general privacy notice.\\nb) Exemptions from the designation obligation26\\nWhile the application of Article 3(2) triggers the obligation to designate a representative in the Union\\nfor controllers or processors established outside the Union, Article 27(2) foresees derogation from the\\nmandatory designation of a representative in the Union, in two distinct cases:\\n\\uf0b7processing is “occasional, does not include, on a large scale, processing of special categories\\nof data as referred to in Article 9(1) or processing of personal data relating to criminal\\nconvictions and offences referred t o in Article 10”, and such processing “is unlikely to result in\\na risk to the rights and freedoms of natural persons, taking into account the nature, context,\\nscope and purposes of the processing”. While the GDPR does not define what constitutes\\nlarge-scale processing, the WP29 has previously recommended in its guidelines WP243 on data\\n25An external DPO also acting as representative in the Union could for example be in a situation where he is\\ninstructed to communicate to a data subject a decision or measure taken by the controller or processor which\\nhe or she had deemed uncompliant with the provisions of the GDPR and advised against .\\n26Part of the criteria and interpretation laid down in WP243 (Data Protection Officer) can be used as a basis for\\nthe exemptions to the designation obligation.', metadata={'source': '../../sample_files/7cc24bccf34a87a9bc817fe89e320a112a9cec26b9c5db7250e1cef7dc06eff0.pdf', 'page': 20}),\n Document(page_content='22\\nAdoptedprotection officers (DPOs) that the following factors, in particular, be considered when\\ndetermining whether the processing is carried out on a large scale: the number of dat a subjects\\nconcerned -either as a specific number or as a proportion of the relevant population; the\\nvolume of data and/or the range of different data items being processed; the duration, or\\npermanence, of the data processing activity; the geographical ex tent of the processing\\nactivity27.\\nOr\\n\\uf0b7processing is carried out “by a public authority or body ”.\\nc) Establishment in one of the Member States where the data subjects whose personal data are\\nprocessed are\\nArticle 27(3) foresees that “the representative shall be established in one of the Member States where\\nthe data subjects, whose personal data are processed in relation to the offering of goods or services\\nto them, or whose behaviour is monitored, are”. In cases where a significant proportion of data\\nsubjects whose personal data are processed are located in one particular Member State, the EDPB\\nrecommends, as a good practice, that the representative is established in that same Member State.\\nHowever, the repr esentative must remain easily accessible for data subjects in Member States where\\nit is not established and where the services or goods are being offered or where the behaviour is being\\nmonitored.\\nThe EDPB confirms that the criterion for the establishment of the representative in the Union is the\\nlocation of data subjects whose personal data are being processed. The place of processing, even by a\\nprocessor established in another Member State, is here not a relevant factor for determining the\\nlocation of th e establishment of the representative.\\nExample 20 : An Indian pharmaceutical company, with neither business presence nor establishment in\\nthe Union and subject to the GDPR as per Article 3(2), sponsors clinical trials carried out by\\ninvestigators (hospital s) in Belgium, Luxembourg and the Netherlands. The majority of patients\\nparticipating to the clinical trials are situated in Belgium.\\nThe Indian pharmaceutical company, as a data controller, shall designate a representative in the Union\\nestablished in one of the three Member States where patients, as data subjects, are participating to\\nthe clinical trial (Belgium, Luxembourg or the Netherlands). Since most patients are Belgian residents,\\nit is recommended that the representative is established in Belgium. Should this be the case, the\\nrepresentative in Belgium should however be easily accessible to data subjects and supervisory\\nauthorities in the Netherlands and Luxembourg.\\nIn this specific case, the representative in the Union could be the legal representa tive of the sponsor\\nin the Union, as per Article 74 of Regulation (EU) 536/2014 on clinical trials, provided it is established\\nin one of the three Member States, and that both functions are governed by and exercised in\\ncompliance with each legal framework.\\n27Article 29 Working Party guidelines on data p rotections officers (DPOs), adopted on 13thDecember 2016, as\\nlast revised on 5thApril 2017, WP 243 rev.01 .', metadata={'source': '../../sample_files/7cc24bccf34a87a9bc817fe89e320a112a9cec26b9c5db7250e1cef7dc06eff0.pdf', 'page': 21}),\n Document(page_content='23\\nAdoptedd) Obligations and responsibilities of the representative\\nThe representative in the Union acts on behalf of the controller or processor it represents with regards\\nto the controller or processor’s obligations under the GDPR. This implies notably the oblig ations\\nrelating to the exercise of data subject rights, and in this regard and as already stated, the identity and\\ncontact details of the representative must be provided to data subjects in accordance with articles 13\\nand 14. While not itself responsible f or complying with data subject rights, the legal representative\\nmust facilitate the communication between data subjects and the controller or processor represented,\\nin order to make the exercise of data subjects’ rights are effective.\\nAs per Article 30, th e controller or processor’s representative shall in particular maintain a record of\\nprocessing activities under the responsibility of the controller or processor. The EDPB considers that\\nthe maintenance of this record is a joint obligation and that the con troller or processor not established\\nin the Union must provide to its representative with all accurate and updated information so that the\\nrecord can be maintained and made available by the representative.\\nAs clarified by recital 80, the representative sho uld also perform its tasks according to the mandate\\nreceived from the controller or processor, including cooperating with the competent supervisory\\nauthorities with regard to any action taken to ensure compliance with this Regulation. In practice, this\\nmeans that a supervisory authority would contact the representative in connection with any matter\\nrelating to the compliance obligations of a controller or processor established outside the Union, and\\nthe representative shall be able to facilitate any informa tional or procedural exchange between a\\nrequesting supervisory authority and a controller or processor established outside the Union.\\nWith the help of a team if necessary, the representative in the Union must therefore be in a position\\nto efficiently commu nicate with data subjects and cooperate with the supervisory authorities\\nconcerned. This means that this communication must take place in the language or languages used by\\nthe supervisory authorities and the data subjects concerned. The availability of a r epresentative is\\ntherefore essential in order to ensure that data subjects and supervisory authorities will be able to\\nestablish contact easily with the non -EU controller or processor.\\nIn line with Recital 80 and Article 27(5), the designation of a represe ntative in the Union does not affect\\nthe responsibility and liability of the controller or of the processor under the GDPR and shall be without\\nprejudice to legal actions which could be initiated against the controller or the processor themselves.\\nIt should however be noted that the concept of the representative was introduced precisely with the\\naim of ensuring enforcement of the GDPR against controllers or processors that fall under Article 3(2)\\nof the GDPR. To this end, it was the intention to enable enfo rcers to initiate enforcement action against\\na representative in the same way as against controllers or processors. This includes the possibility to\\nimpose administrative fines and penalties, and to hold representatives liable.\\nFor the European Data Prote ction Board\\nThe Chair\\n(Andrea Jelinek)', metadata={'source': '../../sample_files/7cc24bccf34a87a9bc817fe89e320a112a9cec26b9c5db7250e1cef7dc06eff0.pdf', 'page': 22})]"
     },
     "execution_count": 13,
     "metadata": {},
     "output_type": "execute_result"
    }
   ],
   "source": [
    "docs = pages\n",
    "docs"
   ]
  },
  {
   "cell_type": "markdown",
   "metadata": {},
   "source": [
    "### Split"
   ]
  },
  {
   "cell_type": "code",
   "execution_count": 14,
   "metadata": {
    "ExecuteTime": {
     "end_time": "2024-05-02T13:46:49.493389Z",
     "start_time": "2024-05-02T13:46:49.484947Z"
    }
   },
   "outputs": [],
   "source": [
    "text_splitter = RecursiveCharacterTextSplitter(chunk_size=1000, chunk_overlap=200)\n",
    "splits = text_splitter.split_documents(docs)"
   ]
  },
  {
   "cell_type": "code",
   "execution_count": 15,
   "metadata": {
    "ExecuteTime": {
     "end_time": "2024-05-02T13:46:52.746349Z",
     "start_time": "2024-05-02T13:46:52.719912Z"
    }
   },
   "outputs": [
    {
     "data": {
      "text/plain": "3450"
     },
     "execution_count": 15,
     "metadata": {},
     "output_type": "execute_result"
    }
   ],
   "source": [
    "len(pages[2].page_content)"
   ]
  },
  {
   "cell_type": "code",
   "execution_count": 16,
   "metadata": {
    "ExecuteTime": {
     "end_time": "2024-05-02T13:46:55.484140Z",
     "start_time": "2024-05-02T13:46:55.477049Z"
    }
   },
   "outputs": [
    {
     "data": {
      "text/plain": "27"
     },
     "execution_count": 16,
     "metadata": {},
     "output_type": "execute_result"
    }
   ],
   "source": [
    "len(pages)"
   ]
  },
  {
   "cell_type": "code",
   "execution_count": 17,
   "metadata": {
    "ExecuteTime": {
     "end_time": "2024-05-02T13:46:57.634555Z",
     "start_time": "2024-05-02T13:46:57.627063Z"
    }
   },
   "outputs": [
    {
     "data": {
      "text/plain": "973"
     },
     "execution_count": 17,
     "metadata": {},
     "output_type": "execute_result"
    }
   ],
   "source": [
    "len(splits[2].page_content)"
   ]
  },
  {
   "cell_type": "code",
   "execution_count": 18,
   "metadata": {
    "ExecuteTime": {
     "end_time": "2024-05-02T13:47:01.662936Z",
     "start_time": "2024-05-02T13:47:01.653944Z"
    }
   },
   "outputs": [
    {
     "data": {
      "text/plain": "102"
     },
     "execution_count": 18,
     "metadata": {},
     "output_type": "execute_result"
    }
   ],
   "source": [
    "len(splits)"
   ]
  },
  {
   "cell_type": "markdown",
   "metadata": {},
   "source": [
    "## Embded"
   ]
  },
  {
   "cell_type": "code",
   "execution_count": 20,
   "metadata": {
    "ExecuteTime": {
     "end_time": "2024-05-02T13:47:45.986757Z",
     "start_time": "2024-05-02T13:47:39.433154Z"
    }
   },
   "outputs": [],
   "source": [
    "# Embed\n",
    "vectorstore = Chroma.from_documents(documents=splits, \n",
    "                                    embedding=OpenAIEmbeddings())\n",
    "\n",
    "retriever = vectorstore.as_retriever()"
   ]
  },
  {
   "cell_type": "markdown",
   "metadata": {},
   "source": [
    "## Retrieval and Generation"
   ]
  },
  {
   "cell_type": "markdown",
   "metadata": {},
   "source": [
    "Load template Prompt"
   ]
  },
  {
   "cell_type": "code",
   "execution_count": 21,
   "metadata": {
    "ExecuteTime": {
     "end_time": "2024-05-02T13:48:25.497573Z",
     "start_time": "2024-05-02T13:48:25.477378Z"
    }
   },
   "outputs": [],
   "source": [
    "from langchain.prompts import ChatPromptTemplate\n",
    "\n",
    "# from langchain import hub\n",
    "# prompt = hub.pull(\"usctrojan/in-house-legal\")\n",
    "\n",
    "# Prompt\n",
    "template_rag = \"\"\"System Message:\n",
    "\n",
    "You are a privacy consultant for a marketing company that operate internationally. Provide your legal advice based on the context.\n",
    "\n",
    "Context: {context}\n",
    "\n",
    "Question: {question}\n",
    "\"\"\"\n",
    "\n",
    "prompt_rag = ChatPromptTemplate.from_template(template_rag)\n"
   ]
  },
  {
   "cell_type": "code",
   "execution_count": 65,
   "metadata": {},
   "outputs": [
    {
     "name": "stdout",
     "output_type": "stream",
     "text": [
      "================================\u001B[1m Human Message \u001B[0m=================================\n",
      "\n",
      "System Message:\n",
      "\n",
      "You are a privacy consultant for a marketing company that operate internationally. Provide your legal advice based on the context.\n",
      "\n",
      "Context: \u001B[33;1m\u001B[1;3m{context}\u001B[0m\n",
      "\n",
      "Question: \u001B[33;1m\u001B[1;3m{question}\u001B[0m\n"
     ]
    }
   ],
   "source": [
    "prompt_rag.pretty_print()"
   ]
  },
  {
   "cell_type": "markdown",
   "metadata": {},
   "source": [
    "## Model selection"
   ]
  },
  {
   "cell_type": "code",
   "execution_count": 22,
   "metadata": {
    "ExecuteTime": {
     "end_time": "2024-05-02T13:48:31.496064Z",
     "start_time": "2024-05-02T13:48:31.425288Z"
    }
   },
   "outputs": [],
   "source": [
    "llm = ChatOpenAI(model_name=\"gpt-3.5-turbo\", temperature=0)"
   ]
  },
  {
   "cell_type": "markdown",
   "metadata": {},
   "source": [
    "## Post-processing"
   ]
  },
  {
   "cell_type": "code",
   "execution_count": 23,
   "metadata": {
    "ExecuteTime": {
     "end_time": "2024-05-02T13:48:33.462161Z",
     "start_time": "2024-05-02T13:48:33.442904Z"
    }
   },
   "outputs": [],
   "source": [
    "def format_docs(docs):\n",
    "    return \"\\n\\n\".join(doc.page_content for doc in docs)"
   ]
  },
  {
   "cell_type": "markdown",
   "metadata": {},
   "source": [
    "## Chain"
   ]
  },
  {
   "cell_type": "code",
   "execution_count": 24,
   "metadata": {
    "ExecuteTime": {
     "end_time": "2024-05-02T13:48:35.965698Z",
     "start_time": "2024-05-02T13:48:35.954725Z"
    }
   },
   "outputs": [],
   "source": [
    "rag_chain = (\n",
    "    {\"context\": retriever | format_docs, \"question\": RunnablePassthrough()}\n",
    "    | prompt_rag\n",
    "    | llm\n",
    "    | StrOutputParser()\n",
    ")"
   ]
  },
  {
   "cell_type": "markdown",
   "metadata": {},
   "source": [
    "## Question"
   ]
  },
  {
   "cell_type": "code",
   "execution_count": 25,
   "metadata": {
    "ExecuteTime": {
     "end_time": "2024-05-02T13:48:50.028798Z",
     "start_time": "2024-05-02T13:48:46.338881Z"
    }
   },
   "outputs": [],
   "source": [
    "# 1 (bad) - what is the edpb position in relation to the one-stop shop mechanism?\n",
    "# 1.2 (good) - What is the EDPB position in relation to the one stop shop mechanism provided by article 52 of the GDPR in the context of the of geographical scope of application of the GDPR (art. 3.2), so called targeting?\n",
    "#     -- (art. 56 is the correct one)\n",
    "\n",
    "output_rag = rag_chain.invoke(\"In the context of the material scope of application of GDPR, what is the edpb position in relation to the one-stop shop mechanism?\")"
   ]
  },
  {
   "cell_type": "markdown",
   "metadata": {},
   "source": [
    "## Answer without RAG"
   ]
  },
  {
   "cell_type": "code",
   "execution_count": 26,
   "metadata": {
    "ExecuteTime": {
     "end_time": "2024-05-02T13:48:57.727921Z",
     "start_time": "2024-05-02T13:48:54.952411Z"
    }
   },
   "outputs": [],
   "source": [
    "from langchain.prompts import ChatPromptTemplate\n",
    "\n",
    "# Prompt\n",
    "template_no_rag = \"\"\"Question: {question}\n",
    "\"\"\"\n",
    "\n",
    "prompt_no_rag = ChatPromptTemplate.from_template(template_no_rag)\n",
    "\n",
    "llm = ChatOpenAI(model_name=\"gpt-3.5-turbo\", temperature=0)\n",
    "\n",
    "chain_no_rag = prompt_no_rag | llm | StrOutputParser()\n",
    "\n",
    "output_no_rag = chain_no_rag.invoke({\"question\":\"In the context of the material scope of application of GDPR, what is the edpb position in relation to the one-stop shop mechanism?\"})"
   ]
  },
  {
   "cell_type": "code",
   "execution_count": 77,
   "metadata": {},
   "outputs": [
    {
     "name": "stdout",
     "output_type": "stream",
     "text": [
      "================================\u001B[1m Human Message \u001B[0m=================================\n",
      "\n",
      "Question: \u001B[33;1m\u001B[1;3m{question}\u001B[0m\n"
     ]
    }
   ],
   "source": [
    "prompt_no_rag.pretty_print()"
   ]
  },
  {
   "cell_type": "markdown",
   "metadata": {},
   "source": [
    "## Compare the results"
   ]
  },
  {
   "cell_type": "code",
   "execution_count": 28,
   "metadata": {
    "ExecuteTime": {
     "end_time": "2024-05-02T13:49:28.345656Z",
     "start_time": "2024-05-02T13:49:28.317291Z"
    }
   },
   "outputs": [
    {
     "name": "stdout",
     "output_type": "stream",
     "text": [
      "--- NO RAG ---\n",
      "\n",
      "The European Data Protection Board (EDPB) supports the one-stop shop mechanism as outlined in the\n",
      "GDPR. This mechanism allows businesses operating in multiple EU countries to deal with just one lead\n",
      "supervisory authority for data protection issues, rather than having to comply with multiple\n",
      "authorities in each country where they operate. The EDPB believes that the one-stop shop mechanism\n",
      "streamlines the regulatory process and ensures consistent enforcement of data protection laws across\n",
      "the EU.\n"
     ]
    }
   ],
   "source": [
    "print(\"--- NO RAG ---\\n\")\n",
    "print(utils.format_print(output_no_rag, 100))"
   ]
  },
  {
   "cell_type": "code",
   "execution_count": 29,
   "metadata": {
    "ExecuteTime": {
     "end_time": "2024-05-02T13:49:37.350711Z",
     "start_time": "2024-05-02T13:49:37.336678Z"
    }
   },
   "outputs": [
    {
     "name": "stdout",
     "output_type": "stream",
     "text": [
      "--- RAG ---\n",
      "\n",
      "The EDPB confirms that in the absence of an establishment in the Union, a controller or processor\n",
      "cannot benefit from the one-stop shop mechanism provided for in Article 56 of the GDPR. The GDPR’s\n",
      "cooperation and consistency mechanism only applies to controllers and processors with an\n",
      "establishment, or establishments, within the European Union. Controllers and processors will need to\n",
      "take into account other applicable texts, such as EU or Member States’ sectorial legislation and\n",
      "national laws, in addition to the GDPR.\n"
     ]
    }
   ],
   "source": [
    "print(\"--- RAG ---\\n\")\n",
    "print(utils.format_print(output_rag, 100))"
   ]
  },
  {
   "cell_type": "markdown",
   "metadata": {},
   "source": [
    "# Citations"
   ]
  },
  {
   "cell_type": "code",
   "execution_count": 20,
   "metadata": {},
   "outputs": [
    {
     "name": "stdout",
     "output_type": "stream",
     "text": [
      "Note: you may need to restart the kernel to use updated packages.\n"
     ]
    }
   ],
   "source": [
    "%pip install -qU langchain langchain-openai langchain-anthropic langchain-community wikipedia"
   ]
  },
  {
   "cell_type": "markdown",
   "metadata": {},
   "source": [
    "Setup the model, retriver and promopt. The source of text, in this example we're using WikipediaRetriever to get data from Wikipedia"
   ]
  },
  {
   "cell_type": "code",
   "execution_count": 25,
   "metadata": {},
   "outputs": [
    {
     "name": "stdout",
     "output_type": "stream",
     "text": [
      "================================\u001B[1m System Message \u001B[0m================================\n",
      "\n",
      "You're a helpful AI assistant. Given a user question and some Wikipedia article snippets, answer the user question. If none of the articles answer the question, just say you don't know.\n",
      "\n",
      "Here are the Wikipedia articles:\u001B[33;1m\u001B[1;3m{context}\u001B[0m\n",
      "\n",
      "================================\u001B[1m Human Message \u001B[0m=================================\n",
      "\n",
      "\u001B[33;1m\u001B[1;3m{question}\u001B[0m\n"
     ]
    }
   ],
   "source": [
    "from langchain_community.retrievers import WikipediaRetriever\n",
    "from langchain_core.prompts import ChatPromptTemplate\n",
    "from langchain_openai import ChatOpenAI\n",
    "\n",
    "llm = ChatOpenAI(model=\"gpt-3.5-turbo\", temperature=0)\n",
    "wiki = WikipediaRetriever(top_k_results=6, doc_content_chars_max=2000)\n",
    "prompt = ChatPromptTemplate.from_messages(\n",
    "    [\n",
    "        (\n",
    "            \"system\",\n",
    "            \"You're a helpful AI assistant. Given a user question and some Wikipedia article snippets, answer the user question. If none of the articles answer the question, just say you don't know.\\n\\nHere are the Wikipedia articles:{context}\",\n",
    "        ),\n",
    "        (\"human\", \"{question}\"),\n",
    "    ]\n",
    ")\n",
    "prompt.pretty_print()"
   ]
  },
  {
   "cell_type": "markdown",
   "metadata": {},
   "source": [
    "Let's chain all together. We need to add some logic for formatting the text from wikipedia"
   ]
  },
  {
   "cell_type": "code",
   "execution_count": 26,
   "metadata": {},
   "outputs": [],
   "source": [
    "from operator import itemgetter\n",
    "from typing import List\n",
    "\n",
    "from langchain_core.documents import Document\n",
    "from langchain_core.output_parsers import StrOutputParser\n",
    "from langchain_core.runnables import (\n",
    "    RunnableLambda,\n",
    "    RunnableParallel,\n",
    "    RunnablePassthrough,\n",
    ")\n",
    "\n",
    "def format_docs(docs: List[Document]) -> str:\n",
    "    \"\"\"Convert Documents to a single string.:\"\"\"\n",
    "    formatted = [\n",
    "        f\"Article Title: {doc.metadata['title']}\\nArticle Snippet: {doc.page_content}\"\n",
    "        for doc in docs\n",
    "    ]\n",
    "    return \"\\n\\n\" + \"\\n\\n\".join(formatted)\n",
    "\n",
    "format = itemgetter(\"docs\") | RunnableLambda(format_docs)\n",
    "\n",
    "# subchain for generating an answer once we've done retrieval\n",
    "answer = prompt | llm | StrOutputParser()\n",
    "\n",
    "# complete chain that calls wiki -> formats docs to string -> runs answer subchain -> returns just the answer and retrieved docs.\n",
    "chain = (\n",
    "    RunnableParallel(question=RunnablePassthrough(), docs=wiki)\n",
    "    .assign(context=format)\n",
    "    .assign(answer=answer)\n",
    "    .pick([\"answer\", \"docs\"])\n",
    ")"
   ]
  },
  {
   "cell_type": "code",
   "execution_count": 29,
   "metadata": {},
   "outputs": [
    {
     "data": {
      "text/plain": [
       "{'answer': 'Cheetahs are capable of running at speeds between 93 to 104 km/h (58 to 65 mph). They have evolved specialized adaptations for speed, including a light build, long thin legs, and a long tail, making them the fastest land animals.',\n",
       " 'docs': [Document(page_content='The cheetah (Acinonyx jubatus) is a large cat and the fastest land animal. It has a tawny to creamy white or pale buff fur that is marked with evenly spaced, solid black spots. The head is small and rounded, with a short snout and black tear-like facial streaks. It reaches 67–94 cm (26–37 in) at the shoulder, and the head-and-body length is between 1.1 and 1.5 m (3 ft 7 in and 4 ft 11 in). Adults weigh between 21 and 72 kg (46 and 159 lb). The cheetah is capable of running at 93 to 104 km/h (58 to 65 mph); it has evolved specialized adaptations for speed, including a light build, long thin legs and a long tail.\\nThe cheetah was first described in the late 18th century. Four subspecies are recognised today that are native to Africa and central Iran. An African subspecies was introduced to India in 2022. It is now distributed mainly in small, fragmented populations in northwestern, eastern and southern Africa and central Iran. It lives in a variety of habitats such as savannahs in the Serengeti, arid mountain ranges in the Sahara, and hilly desert terrain.\\nThe cheetah lives in three main social groups: females and their cubs, male \"coalitions\", and solitary males. While females lead a nomadic life searching for prey in large home ranges, males are more sedentary and instead establish much smaller territories in areas with plentiful prey and access to females. The cheetah is active during the day, with peaks during dawn and dusk. It feeds on small- to medium-sized prey, mostly weighing under 40 kg (88 lb), and prefers medium-sized ungulates such as impala, springbok and Thomson\\'s gazelles. The cheetah typically stalks its prey within 60–100 m (200–330 ft) before charging towards it, trips it during the chase and bites its throat to suffocate it to death. It breeds throughout the year. After a gestation of nearly three months, females give birth to a litter of three or four cubs. Cheetah cubs are highly vulnerable to predation by other large carnivores. They are weaned a', metadata={'title': 'Cheetah', 'summary': 'The cheetah (Acinonyx jubatus) is a large cat and the fastest land animal. It has a tawny to creamy white or pale buff fur that is marked with evenly spaced, solid black spots. The head is small and rounded, with a short snout and black tear-like facial streaks. It reaches 67–94 cm (26–37 in) at the shoulder, and the head-and-body length is between 1.1 and 1.5 m (3 ft 7 in and 4 ft 11 in). Adults weigh between 21 and 72 kg (46 and 159 lb). The cheetah is capable of running at 93 to 104 km/h (58 to 65 mph); it has evolved specialized adaptations for speed, including a light build, long thin legs and a long tail.\\nThe cheetah was first described in the late 18th century. Four subspecies are recognised today that are native to Africa and central Iran. An African subspecies was introduced to India in 2022. It is now distributed mainly in small, fragmented populations in northwestern, eastern and southern Africa and central Iran. It lives in a variety of habitats such as savannahs in the Serengeti, arid mountain ranges in the Sahara, and hilly desert terrain.\\nThe cheetah lives in three main social groups: females and their cubs, male \"coalitions\", and solitary males. While females lead a nomadic life searching for prey in large home ranges, males are more sedentary and instead establish much smaller territories in areas with plentiful prey and access to females. The cheetah is active during the day, with peaks during dawn and dusk. It feeds on small- to medium-sized prey, mostly weighing under 40 kg (88 lb), and prefers medium-sized ungulates such as impala, springbok and Thomson\\'s gazelles. The cheetah typically stalks its prey within 60–100 m (200–330 ft) before charging towards it, trips it during the chase and bites its throat to suffocate it to death. It breeds throughout the year. After a gestation of nearly three months, females give birth to a litter of three or four cubs. Cheetah cubs are highly vulnerable to predation by other large carnivores. They are weaned at around four months and are independent by around 20 months of age.\\nThe cheetah is threatened by habitat loss, conflict with humans, poaching and high susceptibility to diseases. In 2016, the global cheetah population was estimated at 7,100 individuals in the wild; it is listed as Vulnerable on the IUCN Red List. It has been widely depicted in art, literature, advertising, and animation. It was tamed in ancient Egypt and trained for hunting ungulates in the Arabian Peninsula and India. It has been kept in zoos since the early 19th century.\\n\\n', 'source': 'https://en.wikipedia.org/wiki/Cheetah'}),\n",
       "  Document(page_content='The Southeast African cheetah (Acinonyx jubatus jubatus) is the nominate cheetah subspecies native to East and Southern Africa. The Southern African cheetah lives mainly in the lowland areas and deserts of the Kalahari, the savannahs of Okavango Delta, and the grasslands of the Transvaal region in South Africa. In Namibia, cheetahs are mostly found in farmlands. In India, four cheetahs of the subspecies are living in Kuno National Park in Madhya Pradesh after having been introduced there.\\n\\n\\n== Taxonomy ==\\n\\nThe Southern African cheetah was first described by German naturalist Johann Christian Daniel von Schreber in his book Die Säugethiere in Abbildungen nach der Natur mit Beschreibungen (The Mammals illustrated as in Nature with Descriptions), published in 1775. Schreber described the species on basis of a specimen from the Cape of Good Hope. It is therefore the nominate subspecies. Subpopulations have been called \"South African cheetah\" and \"Namibian cheetah.\"\\nFollowing Schreber\\'s description, other naturalists and zoologists also described cheetah specimens from many parts of Southern and East Africa that today are all considered synonyms of A. j. jubatus:\\n\\nFelis guttata proposed in 1804 by Johann Hermann;\\nFelis fearonii proposed in 1834 by Andrew Smith;\\nFelis lanea proposed in 1877 by Philip Sclater;\\nAcinonyx jubatus obergi proposed in 1913 by Max Hilzheimer;\\nAcinonyx jubatus ngorongorensis proposed in 1913 by Hilzheimer on basis of a specimen from Ngorongoro, German East Africa;\\nAcinonyx jubatus velox proposed in 1913 by Edmund Heller on basis of a cheetah that was shot by Kermit Roosevelt in June 1909 in the Kenyan highlands.\\nAcinonyx rex proposed in 1927 by Reginald Innes Pocock on basis of a specimen from the Umvukwe Range in Rhodesia.\\nIn 2005, the authors of Mammal Species of the World grouped A. j. guttata, A. j. lanea, A. j. obergi, and A. j. rex under A j. jubatus, whilst recognizing A. j. raineyi and A. j. velox as valid taxa and considering P. l. ngoron', metadata={'title': 'Southeast African cheetah', 'summary': 'The Southeast African cheetah (Acinonyx jubatus jubatus) is the nominate cheetah subspecies native to East and Southern Africa. The Southern African cheetah lives mainly in the lowland areas and deserts of the Kalahari, the savannahs of Okavango Delta, and the grasslands of the Transvaal region in South Africa. In Namibia, cheetahs are mostly found in farmlands. In India, four cheetahs of the subspecies are living in Kuno National Park in Madhya Pradesh after having been introduced there.', 'source': 'https://en.wikipedia.org/wiki/Southeast_African_cheetah'}),\n",
       "  Document(page_content='Footspeed, or sprint speed, is the maximum speed at which a human can run. It is affected by many factors, varies greatly throughout the population, and is important in athletics and many sports, such as association football, rugby football, American football,  track and field, field hockey, tennis, baseball, and basketball.\\n\\n\\n== Factors in speed ==\\nThe key determinant of footspeed in sprinting is the predominance of one distinct type of muscle fibre over another, specifically the ratio of fast-twitch muscles to slow-twitch muscles in a sprinter\\'s physical makeup.  Though fast-twitch muscles produce no more energy than slow-twitch muscles when they contract, they do so more rapidly through a process of anaerobic metabolism, though at the cost of inferior efficiency over longer periods of firing.  The average human has an almost-equal ratio of fast-twitch to slow-twitch fibers, but top sprinters may have as much as 80% fast-twitch fibers, while top long-distance runners may have only 20%. This ratio is believed to have genetic origins, though some assert that it can be adjusted by muscle training.  \"Speed camps\" and \"Speed Training Manuals\", which purport to provide fractional increases in maximum footspeed, are popular among budding professional athletes, and some sources estimate that 17–19% of speed can be trained.\\nThough good running form is useful in increasing speed, fast and slow runners have been shown to move their legs at nearly the same rate – it is the force exerted by the leg on the ground that separates fast sprinters from slow.  Top short-distance runners exert as much as four times their body weight in pressure on the running surface. For this reason, muscle mass in the legs, relative to total body weight, is a key factor in maximizing footspeed.\\n\\n\\n== Limits of speed ==\\nThe record is 44.72 km/h (27.78 mph), measured between meter 60 and meter 80 of the 100 meters sprint at the 2009 World Championships in Athletics by Usain Bolt. (Bolt\\'s average speed ', metadata={'title': 'Footspeed', 'summary': 'Footspeed, or sprint speed, is the maximum speed at which a human can run. It is affected by many factors, varies greatly throughout the population, and is important in athletics and many sports, such as association football, rugby football, American football,  track and field, field hockey, tennis, baseball, and basketball.\\n\\n', 'source': 'https://en.wikipedia.org/wiki/Footspeed'}),\n",
       "  Document(page_content=\"Cheetah Mobile Inc (猎豹移动公司) is a Chinese mobile internet company headquartered in Beijing. As of January 2017, it has more than 634 million monthly active users.\\n\\n\\n== History ==\\n\\n\\n=== Formation ===\\nChen Rui (zh:陳睿 current CEO of Bilibili) founded Cheetah Mobile. The company was established in 2010 as a merger of Kingsoft Security (Chen served as General Manager) and Conew Image, and grew to be the second-largest internet security software provider in China, according to iResearch.  The company is located at 1st Yaojiayuan South Rd, Chaoyang District, Beijing, China.\\n\\n\\n=== Initial public offering ===\\nIn 2014, Cheetah Mobile launched an IPO selling 13 million American depositary shares at US$14 per share, and thereby raised US$168 million. The IPO was managed by Morgan Stanley, JP Morgan Chase & Co., and Credit Suisse Group. Kingsoft and Tencent are major investors in Cheetah Mobile, holding 54% and 18% respectively.\\n\\n\\n=== Post IPO ===\\nIn the late 2015, Cheetah Mobile announced that it had entered into a global strategic partnership with Yahoo. The company incorporated Yahoo's search and native advertising platforms within its own apps. As a result of this, Cheetah Mobile stated that its revenue generated from Yahoo increased by 30 percent daily within the first two weeks.\\nIn February 2016, Cheetah Mobile and Cubot launched the CheetahPhone, an Android 6.0 Marshmallow based smartphone, at MWC in Barcelona, Spain.\\n\\n\\n=== Acquisition ===\\nOn April 1, 2015 Cheetah Mobile successfully acquired acquisition of French mobile advertising firm MobPartner, Values at $58 Million. On August 2, 2016, Cheetah Mobile announced its acquisition of a French startup News Republic for $57 million. News Republic is a news aggregator.\\n\\n\\n=== Ad fraud accusation ===\\nIn March 2020, Cheetah Mobile was banned from Google Play due to their scheme of ad fraud, resulting in all of their games being removed as part of a 600 app deletion.\\n\\n\\n=== Insider trading charges ===\\nIn September 2022, the U.S. S\", metadata={'title': 'Cheetah Mobile', 'summary': 'Cheetah Mobile Inc (猎豹移动公司) is a Chinese mobile internet company headquartered in Beijing. As of January 2017, it has more than 634 million monthly active users.\\n\\n', 'source': 'https://en.wikipedia.org/wiki/Cheetah_Mobile'}),\n",
       "  Document(page_content=\"This is a list of the fastest animals in the world, by types of animal.\\n\\n\\n== Fastest organism ==\\nThe peregrine falcon is the fastest bird, and the fastest member of the animal kingdom, with a diving speed of over 300 km/h (190 mph). The fastest land animal is the cheetah. Among the fastest animals in the sea is the black marlin, with uncertain and conflicting reports of recorded speeds.\\nWhen drawing comparisons between different classes of animals, an alternative unit is sometimes used for organisms: body length per second. On this basis the 'fastest' organism on earth, relative to its body length, is the Southern Californian mite, Paratarsotomus macropalpis, which has a speed of 322 body lengths per second. The equivalent speed for a human, running as fast as this mite, would be 1,300 mph (2,092 km/h), or approximately Mach 1.7. The speed of the P. macropalpis is far in excess of the previous record holder, the Australian tiger beetle Cicindela eburneola, which is the fastest insect in the world relative to body size, with a recorded speed of 1.86 metres per second (6.7 km/h; 4.2 mph), or 171 body lengths per second. The cheetah, the fastest land mammal, scores at only 16 body lengths per second, while Anna's hummingbird has the highest known length-specific velocity attained by any vertebrate.\\n\\n\\n== Invertebrates ==\\n\\n\\n== Fish ==\\nDue to physical constraints, fish may be incapable of exceeding swim speeds of 36 km/h (22 mph). The larger reported figures below are therefore highly questionable:\\n\\n\\n== Amphibians ==\\n\\n\\n== Reptiles ==\\n\\n\\n== Birds ==\\n\\n\\n== Mammals ==\\n\\n\\n== See also ==\\nSpeed records\\n\\n\\n== Notes ==\\n\\n\\n== References ==\", metadata={'title': 'Fastest animals', 'summary': 'This is a list of the fastest animals in the world, by types of animal.', 'source': 'https://en.wikipedia.org/wiki/Fastest_animals'}),\n",
       "  Document(page_content=\"Pursuit predation is a form of predation in which predators actively give chase to their prey, either solitarily or as a group.  It is an alternate predation strategy to ambush predation — pursuit predators rely on superior speed, endurance and/or teamwork to seize the prey, while ambush predators use concealment, luring, exploiting of surroundings and the element of surprise to capture the prey.  While the two patterns of predation are not mutually exclusive, morphological differences in an organism's body plan can create an evolutionary bias favoring either type of predation.\\nPursuit predation is typically observed in carnivorous species within the kingdom Animalia, such as cheetahs, lions, wolves and early Homo species.  The chase can be initiated either by the predator, or by the prey if it is alerted to a predator's presence and attempt to flee before the predator gets close.  The chase ends either when the predator successfully catches up and tackles the prey, or when the predator abandons the attempt after the prey outruns it and escapes.\\nOne particular form of pursuit predation is persistence hunting, where the predator stalks the prey slowly but persistently to wear it down physically with fatigue or overheating; some animals are examples of both types of pursuit.\\n\\n\\n== Strategy ==\\nThere is still uncertainty as to whether predators behave with a general tactic or strategy while preying. However, among pursuit predators there are several common behaviors. Often, predators will scout potential prey, assessing prey quantity and density prior to engaging in a pursuit. Certain predators choose to pursue prey primarily in a group of conspecifics; these animals are known as pack hunters or group pursuers. Other species choose to hunt alone. These two behaviors are typically due to differences in hunting success, where some groups are very successful in groups and others are more successful alone. Pursuit predators may also choose to either exhaust their metabolic r\", metadata={'title': 'Pursuit predation', 'summary': \"Pursuit predation is a form of predation in which predators actively give chase to their prey, either solitarily or as a group.  It is an alternate predation strategy to ambush predation — pursuit predators rely on superior speed, endurance and/or teamwork to seize the prey, while ambush predators use concealment, luring, exploiting of surroundings and the element of surprise to capture the prey.  While the two patterns of predation are not mutually exclusive, morphological differences in an organism's body plan can create an evolutionary bias favoring either type of predation.\\nPursuit predation is typically observed in carnivorous species within the kingdom Animalia, such as cheetahs, lions, wolves and early Homo species.  The chase can be initiated either by the predator, or by the prey if it is alerted to a predator's presence and attempt to flee before the predator gets close.  The chase ends either when the predator successfully catches up and tackles the prey, or when the predator abandons the attempt after the prey outruns it and escapes.\\nOne particular form of pursuit predation is persistence hunting, where the predator stalks the prey slowly but persistently to wear it down physically with fatigue or overheating; some animals are examples of both types of pursuit.\", 'source': 'https://en.wikipedia.org/wiki/Pursuit_predation'})]}"
      ]
     },
     "execution_count": 29,
     "metadata": {},
     "output_type": "execute_result"
    }
   ],
   "source": [
    "chain.invoke(\"How fast are cheetahs?\")"
   ]
  },
  {
   "cell_type": "markdown",
   "metadata": {},
   "source": [
    "Now that we try to retrive information from wikipedia, let's try to cite which document we're using.\n",
    "\n",
    "Converting Pydantic_v1 Object to JSONSchema format expected by OpenAI. Se we create a template for the answer."
   ]
  },
  {
   "cell_type": "code",
   "execution_count": 30,
   "metadata": {},
   "outputs": [],
   "source": [
    "from langchain_core.pydantic_v1 import BaseModel, Field\n",
    "\n",
    "class cited_answer(BaseModel):\n",
    "    \"\"\"Answer the user question based only on the given sources, and cite the sources used.\"\"\"\n",
    "\n",
    "    answer: str = Field(\n",
    "        ...,\n",
    "        description=\"The answer to the user question, which is based only on the given sources.\",\n",
    "    )\n",
    "    citations: List[int] = Field(\n",
    "        ...,\n",
    "        description=\"The integer IDs of the SPECIFIC sources which justify the answer.\",\n",
    "    )"
   ]
  },
  {
   "cell_type": "markdown",
   "metadata": {},
   "source": [
    "Let's see the output of the model"
   ]
  },
  {
   "cell_type": "code",
   "execution_count": 31,
   "metadata": {},
   "outputs": [
    {
     "data": {
      "text/plain": [
       "AIMessage(content='', additional_kwargs={'tool_calls': [{'id': 'call_atgfrZZqUV4BIMGdLtLernXO', 'function': {'arguments': '{\"answer\":\"Brian\\'s height is 6\\'2\\\\\" - 3 inches.\",\"citations\":[1,3]}', 'name': 'cited_answer'}, 'type': 'function'}]}, response_metadata={'token_usage': {'completion_tokens': 24, 'prompt_tokens': 150, 'total_tokens': 174}, 'model_name': 'gpt-3.5-turbo', 'system_fingerprint': 'fp_c2295e73ad', 'finish_reason': 'stop', 'logprobs': None}, id='run-21b7e1f6-3435-411b-87cc-81bfc1f57b08-0', tool_calls=[{'name': 'cited_answer', 'args': {'answer': 'Brian\\'s height is 6\\'2\" - 3 inches.', 'citations': [1, 3]}, 'id': 'call_atgfrZZqUV4BIMGdLtLernXO'}])"
      ]
     },
     "execution_count": 31,
     "metadata": {},
     "output_type": "execute_result"
    }
   ],
   "source": [
    "llm_with_tool = llm.bind_tools(\n",
    "    [cited_answer],\n",
    "    tool_choice=\"cited_answer\",\n",
    ")\n",
    "example_q = \"\"\"What Brian's height?\n",
    "\n",
    "Source: 1\n",
    "Information: Suzy is 6'2\"\n",
    "\n",
    "Source: 2\n",
    "Information: Jeremiah is blonde\n",
    "\n",
    "Source: 3\n",
    "Information: Brian is 3 inches shorted than Suzy\"\"\"\n",
    "llm_with_tool.invoke(example_q)"
   ]
  },
  {
   "cell_type": "markdown",
   "metadata": {},
   "source": [
    "Let's add the output parser"
   ]
  },
  {
   "cell_type": "code",
   "execution_count": 32,
   "metadata": {},
   "outputs": [
    {
     "data": {
      "text/plain": [
       "{'answer': 'Brian\\'s height is 6\\'2\" - 3 inches.', 'citations': [1, 3]}"
      ]
     },
     "execution_count": 32,
     "metadata": {},
     "output_type": "execute_result"
    }
   ],
   "source": [
    "from langchain.output_parsers.openai_tools import JsonOutputKeyToolsParser\n",
    "\n",
    "output_parser = JsonOutputKeyToolsParser(key_name=\"cited_answer\", first_tool_only=True)\n",
    "(llm_with_tool | output_parser).invoke(example_q)"
   ]
  },
  {
   "cell_type": "markdown",
   "metadata": {},
   "source": [
    "Now we can create the full chain"
   ]
  },
  {
   "cell_type": "code",
   "execution_count": 33,
   "metadata": {},
   "outputs": [],
   "source": [
    "def format_docs_with_id(docs: List[Document]) -> str:\n",
    "    formatted = [\n",
    "        f\"Source ID: {i}\\nArticle Title: {doc.metadata['title']}\\nArticle Snippet: {doc.page_content}\"\n",
    "        for i, doc in enumerate(docs)\n",
    "    ]\n",
    "    return \"\\n\\n\" + \"\\n\\n\".join(formatted)\n",
    "\n",
    "format_1 = itemgetter(\"docs\") | RunnableLambda(format_docs_with_id)\n",
    "answer_1 = prompt | llm_with_tool | output_parser\n",
    "chain_1 = (\n",
    "    RunnableParallel(question=RunnablePassthrough(), docs=wiki)\n",
    "    .assign(context=format_1)\n",
    "    .assign(cited_answer=answer_1)\n",
    "    .pick([\"cited_answer\", \"docs\"])\n",
    ")"
   ]
  },
  {
   "cell_type": "code",
   "execution_count": 34,
   "metadata": {},
   "outputs": [
    {
     "data": {
      "text/plain": [
       "{'cited_answer': {'answer': 'Cheetahs can run at speeds of 93 to 104 km/h (58 to 65 mph). They are the fastest land animals.',\n",
       "  'citations': [0]},\n",
       " 'docs': [Document(page_content='The cheetah (Acinonyx jubatus) is a large cat and the fastest land animal. It has a tawny to creamy white or pale buff fur that is marked with evenly spaced, solid black spots. The head is small and rounded, with a short snout and black tear-like facial streaks. It reaches 67–94 cm (26–37 in) at the shoulder, and the head-and-body length is between 1.1 and 1.5 m (3 ft 7 in and 4 ft 11 in). Adults weigh between 21 and 72 kg (46 and 159 lb). The cheetah is capable of running at 93 to 104 km/h (58 to 65 mph); it has evolved specialized adaptations for speed, including a light build, long thin legs and a long tail.\\nThe cheetah was first described in the late 18th century. Four subspecies are recognised today that are native to Africa and central Iran. An African subspecies was introduced to India in 2022. It is now distributed mainly in small, fragmented populations in northwestern, eastern and southern Africa and central Iran. It lives in a variety of habitats such as savannahs in the Serengeti, arid mountain ranges in the Sahara, and hilly desert terrain.\\nThe cheetah lives in three main social groups: females and their cubs, male \"coalitions\", and solitary males. While females lead a nomadic life searching for prey in large home ranges, males are more sedentary and instead establish much smaller territories in areas with plentiful prey and access to females. The cheetah is active during the day, with peaks during dawn and dusk. It feeds on small- to medium-sized prey, mostly weighing under 40 kg (88 lb), and prefers medium-sized ungulates such as impala, springbok and Thomson\\'s gazelles. The cheetah typically stalks its prey within 60–100 m (200–330 ft) before charging towards it, trips it during the chase and bites its throat to suffocate it to death. It breeds throughout the year. After a gestation of nearly three months, females give birth to a litter of three or four cubs. Cheetah cubs are highly vulnerable to predation by other large carnivores. They are weaned a', metadata={'title': 'Cheetah', 'summary': 'The cheetah (Acinonyx jubatus) is a large cat and the fastest land animal. It has a tawny to creamy white or pale buff fur that is marked with evenly spaced, solid black spots. The head is small and rounded, with a short snout and black tear-like facial streaks. It reaches 67–94 cm (26–37 in) at the shoulder, and the head-and-body length is between 1.1 and 1.5 m (3 ft 7 in and 4 ft 11 in). Adults weigh between 21 and 72 kg (46 and 159 lb). The cheetah is capable of running at 93 to 104 km/h (58 to 65 mph); it has evolved specialized adaptations for speed, including a light build, long thin legs and a long tail.\\nThe cheetah was first described in the late 18th century. Four subspecies are recognised today that are native to Africa and central Iran. An African subspecies was introduced to India in 2022. It is now distributed mainly in small, fragmented populations in northwestern, eastern and southern Africa and central Iran. It lives in a variety of habitats such as savannahs in the Serengeti, arid mountain ranges in the Sahara, and hilly desert terrain.\\nThe cheetah lives in three main social groups: females and their cubs, male \"coalitions\", and solitary males. While females lead a nomadic life searching for prey in large home ranges, males are more sedentary and instead establish much smaller territories in areas with plentiful prey and access to females. The cheetah is active during the day, with peaks during dawn and dusk. It feeds on small- to medium-sized prey, mostly weighing under 40 kg (88 lb), and prefers medium-sized ungulates such as impala, springbok and Thomson\\'s gazelles. The cheetah typically stalks its prey within 60–100 m (200–330 ft) before charging towards it, trips it during the chase and bites its throat to suffocate it to death. It breeds throughout the year. After a gestation of nearly three months, females give birth to a litter of three or four cubs. Cheetah cubs are highly vulnerable to predation by other large carnivores. They are weaned at around four months and are independent by around 20 months of age.\\nThe cheetah is threatened by habitat loss, conflict with humans, poaching and high susceptibility to diseases. In 2016, the global cheetah population was estimated at 7,100 individuals in the wild; it is listed as Vulnerable on the IUCN Red List. It has been widely depicted in art, literature, advertising, and animation. It was tamed in ancient Egypt and trained for hunting ungulates in the Arabian Peninsula and India. It has been kept in zoos since the early 19th century.\\n\\n', 'source': 'https://en.wikipedia.org/wiki/Cheetah'}),\n",
       "  Document(page_content='The Southeast African cheetah (Acinonyx jubatus jubatus) is the nominate cheetah subspecies native to East and Southern Africa. The Southern African cheetah lives mainly in the lowland areas and deserts of the Kalahari, the savannahs of Okavango Delta, and the grasslands of the Transvaal region in South Africa. In Namibia, cheetahs are mostly found in farmlands. In India, four cheetahs of the subspecies are living in Kuno National Park in Madhya Pradesh after having been introduced there.\\n\\n\\n== Taxonomy ==\\n\\nThe Southern African cheetah was first described by German naturalist Johann Christian Daniel von Schreber in his book Die Säugethiere in Abbildungen nach der Natur mit Beschreibungen (The Mammals illustrated as in Nature with Descriptions), published in 1775. Schreber described the species on basis of a specimen from the Cape of Good Hope. It is therefore the nominate subspecies. Subpopulations have been called \"South African cheetah\" and \"Namibian cheetah.\"\\nFollowing Schreber\\'s description, other naturalists and zoologists also described cheetah specimens from many parts of Southern and East Africa that today are all considered synonyms of A. j. jubatus:\\n\\nFelis guttata proposed in 1804 by Johann Hermann;\\nFelis fearonii proposed in 1834 by Andrew Smith;\\nFelis lanea proposed in 1877 by Philip Sclater;\\nAcinonyx jubatus obergi proposed in 1913 by Max Hilzheimer;\\nAcinonyx jubatus ngorongorensis proposed in 1913 by Hilzheimer on basis of a specimen from Ngorongoro, German East Africa;\\nAcinonyx jubatus velox proposed in 1913 by Edmund Heller on basis of a cheetah that was shot by Kermit Roosevelt in June 1909 in the Kenyan highlands.\\nAcinonyx rex proposed in 1927 by Reginald Innes Pocock on basis of a specimen from the Umvukwe Range in Rhodesia.\\nIn 2005, the authors of Mammal Species of the World grouped A. j. guttata, A. j. lanea, A. j. obergi, and A. j. rex under A j. jubatus, whilst recognizing A. j. raineyi and A. j. velox as valid taxa and considering P. l. ngoron', metadata={'title': 'Southeast African cheetah', 'summary': 'The Southeast African cheetah (Acinonyx jubatus jubatus) is the nominate cheetah subspecies native to East and Southern Africa. The Southern African cheetah lives mainly in the lowland areas and deserts of the Kalahari, the savannahs of Okavango Delta, and the grasslands of the Transvaal region in South Africa. In Namibia, cheetahs are mostly found in farmlands. In India, four cheetahs of the subspecies are living in Kuno National Park in Madhya Pradesh after having been introduced there.', 'source': 'https://en.wikipedia.org/wiki/Southeast_African_cheetah'}),\n",
       "  Document(page_content='Footspeed, or sprint speed, is the maximum speed at which a human can run. It is affected by many factors, varies greatly throughout the population, and is important in athletics and many sports, such as association football, rugby football, American football,  track and field, field hockey, tennis, baseball, and basketball.\\n\\n\\n== Factors in speed ==\\nThe key determinant of footspeed in sprinting is the predominance of one distinct type of muscle fibre over another, specifically the ratio of fast-twitch muscles to slow-twitch muscles in a sprinter\\'s physical makeup.  Though fast-twitch muscles produce no more energy than slow-twitch muscles when they contract, they do so more rapidly through a process of anaerobic metabolism, though at the cost of inferior efficiency over longer periods of firing.  The average human has an almost-equal ratio of fast-twitch to slow-twitch fibers, but top sprinters may have as much as 80% fast-twitch fibers, while top long-distance runners may have only 20%. This ratio is believed to have genetic origins, though some assert that it can be adjusted by muscle training.  \"Speed camps\" and \"Speed Training Manuals\", which purport to provide fractional increases in maximum footspeed, are popular among budding professional athletes, and some sources estimate that 17–19% of speed can be trained.\\nThough good running form is useful in increasing speed, fast and slow runners have been shown to move their legs at nearly the same rate – it is the force exerted by the leg on the ground that separates fast sprinters from slow.  Top short-distance runners exert as much as four times their body weight in pressure on the running surface. For this reason, muscle mass in the legs, relative to total body weight, is a key factor in maximizing footspeed.\\n\\n\\n== Limits of speed ==\\nThe record is 44.72 km/h (27.78 mph), measured between meter 60 and meter 80 of the 100 meters sprint at the 2009 World Championships in Athletics by Usain Bolt. (Bolt\\'s average speed ', metadata={'title': 'Footspeed', 'summary': 'Footspeed, or sprint speed, is the maximum speed at which a human can run. It is affected by many factors, varies greatly throughout the population, and is important in athletics and many sports, such as association football, rugby football, American football,  track and field, field hockey, tennis, baseball, and basketball.\\n\\n', 'source': 'https://en.wikipedia.org/wiki/Footspeed'}),\n",
       "  Document(page_content=\"Cheetah Mobile Inc (猎豹移动公司) is a Chinese mobile internet company headquartered in Beijing. As of January 2017, it has more than 634 million monthly active users.\\n\\n\\n== History ==\\n\\n\\n=== Formation ===\\nChen Rui (zh:陳睿 current CEO of Bilibili) founded Cheetah Mobile. The company was established in 2010 as a merger of Kingsoft Security (Chen served as General Manager) and Conew Image, and grew to be the second-largest internet security software provider in China, according to iResearch.  The company is located at 1st Yaojiayuan South Rd, Chaoyang District, Beijing, China.\\n\\n\\n=== Initial public offering ===\\nIn 2014, Cheetah Mobile launched an IPO selling 13 million American depositary shares at US$14 per share, and thereby raised US$168 million. The IPO was managed by Morgan Stanley, JP Morgan Chase & Co., and Credit Suisse Group. Kingsoft and Tencent are major investors in Cheetah Mobile, holding 54% and 18% respectively.\\n\\n\\n=== Post IPO ===\\nIn the late 2015, Cheetah Mobile announced that it had entered into a global strategic partnership with Yahoo. The company incorporated Yahoo's search and native advertising platforms within its own apps. As a result of this, Cheetah Mobile stated that its revenue generated from Yahoo increased by 30 percent daily within the first two weeks.\\nIn February 2016, Cheetah Mobile and Cubot launched the CheetahPhone, an Android 6.0 Marshmallow based smartphone, at MWC in Barcelona, Spain.\\n\\n\\n=== Acquisition ===\\nOn April 1, 2015 Cheetah Mobile successfully acquired acquisition of French mobile advertising firm MobPartner, Values at $58 Million. On August 2, 2016, Cheetah Mobile announced its acquisition of a French startup News Republic for $57 million. News Republic is a news aggregator.\\n\\n\\n=== Ad fraud accusation ===\\nIn March 2020, Cheetah Mobile was banned from Google Play due to their scheme of ad fraud, resulting in all of their games being removed as part of a 600 app deletion.\\n\\n\\n=== Insider trading charges ===\\nIn September 2022, the U.S. S\", metadata={'title': 'Cheetah Mobile', 'summary': 'Cheetah Mobile Inc (猎豹移动公司) is a Chinese mobile internet company headquartered in Beijing. As of January 2017, it has more than 634 million monthly active users.\\n\\n', 'source': 'https://en.wikipedia.org/wiki/Cheetah_Mobile'}),\n",
       "  Document(page_content=\"This is a list of the fastest animals in the world, by types of animal.\\n\\n\\n== Fastest organism ==\\nThe peregrine falcon is the fastest bird, and the fastest member of the animal kingdom, with a diving speed of over 300 km/h (190 mph). The fastest land animal is the cheetah. Among the fastest animals in the sea is the black marlin, with uncertain and conflicting reports of recorded speeds.\\nWhen drawing comparisons between different classes of animals, an alternative unit is sometimes used for organisms: body length per second. On this basis the 'fastest' organism on earth, relative to its body length, is the Southern Californian mite, Paratarsotomus macropalpis, which has a speed of 322 body lengths per second. The equivalent speed for a human, running as fast as this mite, would be 1,300 mph (2,092 km/h), or approximately Mach 1.7. The speed of the P. macropalpis is far in excess of the previous record holder, the Australian tiger beetle Cicindela eburneola, which is the fastest insect in the world relative to body size, with a recorded speed of 1.86 metres per second (6.7 km/h; 4.2 mph), or 171 body lengths per second. The cheetah, the fastest land mammal, scores at only 16 body lengths per second, while Anna's hummingbird has the highest known length-specific velocity attained by any vertebrate.\\n\\n\\n== Invertebrates ==\\n\\n\\n== Fish ==\\nDue to physical constraints, fish may be incapable of exceeding swim speeds of 36 km/h (22 mph). The larger reported figures below are therefore highly questionable:\\n\\n\\n== Amphibians ==\\n\\n\\n== Reptiles ==\\n\\n\\n== Birds ==\\n\\n\\n== Mammals ==\\n\\n\\n== See also ==\\nSpeed records\\n\\n\\n== Notes ==\\n\\n\\n== References ==\", metadata={'title': 'Fastest animals', 'summary': 'This is a list of the fastest animals in the world, by types of animal.', 'source': 'https://en.wikipedia.org/wiki/Fastest_animals'}),\n",
       "  Document(page_content=\"Pursuit predation is a form of predation in which predators actively give chase to their prey, either solitarily or as a group.  It is an alternate predation strategy to ambush predation — pursuit predators rely on superior speed, endurance and/or teamwork to seize the prey, while ambush predators use concealment, luring, exploiting of surroundings and the element of surprise to capture the prey.  While the two patterns of predation are not mutually exclusive, morphological differences in an organism's body plan can create an evolutionary bias favoring either type of predation.\\nPursuit predation is typically observed in carnivorous species within the kingdom Animalia, such as cheetahs, lions, wolves and early Homo species.  The chase can be initiated either by the predator, or by the prey if it is alerted to a predator's presence and attempt to flee before the predator gets close.  The chase ends either when the predator successfully catches up and tackles the prey, or when the predator abandons the attempt after the prey outruns it and escapes.\\nOne particular form of pursuit predation is persistence hunting, where the predator stalks the prey slowly but persistently to wear it down physically with fatigue or overheating; some animals are examples of both types of pursuit.\\n\\n\\n== Strategy ==\\nThere is still uncertainty as to whether predators behave with a general tactic or strategy while preying. However, among pursuit predators there are several common behaviors. Often, predators will scout potential prey, assessing prey quantity and density prior to engaging in a pursuit. Certain predators choose to pursue prey primarily in a group of conspecifics; these animals are known as pack hunters or group pursuers. Other species choose to hunt alone. These two behaviors are typically due to differences in hunting success, where some groups are very successful in groups and others are more successful alone. Pursuit predators may also choose to either exhaust their metabolic r\", metadata={'title': 'Pursuit predation', 'summary': \"Pursuit predation is a form of predation in which predators actively give chase to their prey, either solitarily or as a group.  It is an alternate predation strategy to ambush predation — pursuit predators rely on superior speed, endurance and/or teamwork to seize the prey, while ambush predators use concealment, luring, exploiting of surroundings and the element of surprise to capture the prey.  While the two patterns of predation are not mutually exclusive, morphological differences in an organism's body plan can create an evolutionary bias favoring either type of predation.\\nPursuit predation is typically observed in carnivorous species within the kingdom Animalia, such as cheetahs, lions, wolves and early Homo species.  The chase can be initiated either by the predator, or by the prey if it is alerted to a predator's presence and attempt to flee before the predator gets close.  The chase ends either when the predator successfully catches up and tackles the prey, or when the predator abandons the attempt after the prey outruns it and escapes.\\nOne particular form of pursuit predation is persistence hunting, where the predator stalks the prey slowly but persistently to wear it down physically with fatigue or overheating; some animals are examples of both types of pursuit.\", 'source': 'https://en.wikipedia.org/wiki/Pursuit_predation'})]}"
      ]
     },
     "execution_count": 34,
     "metadata": {},
     "output_type": "execute_result"
    }
   ],
   "source": [
    "chain_1.invoke(\"How fast are cheetahs?\")"
   ]
  }
 ],
 "metadata": {
  "kernelspec": {
   "display_name": "Python 3 (ipykernel)",
   "language": "python",
   "name": "python3"
  },
  "language_info": {
   "codemirror_mode": {
    "name": "ipython",
    "version": 3
   },
   "file_extension": ".py",
   "mimetype": "text/x-python",
   "name": "python",
   "nbconvert_exporter": "python",
   "pygments_lexer": "ipython3",
   "version": "3.11.3"
  }
 },
 "nbformat": 4,
 "nbformat_minor": 2
}
