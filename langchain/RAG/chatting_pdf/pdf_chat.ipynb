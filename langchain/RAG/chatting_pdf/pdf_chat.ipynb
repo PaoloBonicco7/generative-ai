{
 "cells": [
  {
   "cell_type": "code",
   "execution_count": 13,
   "id": "initial_id",
   "metadata": {
    "collapsed": true,
    "ExecuteTime": {
     "end_time": "2024-05-03T14:38:46.786102Z",
     "start_time": "2024-05-03T14:38:46.753971Z"
    }
   },
   "outputs": [],
   "source": [
    "import bs4\n",
    "from langchain import hub\n",
    "from langchain.text_splitter import RecursiveCharacterTextSplitter\n",
    "from langchain_community.document_loaders import WebBaseLoader\n",
    "from langchain_community.vectorstores import Chroma\n",
    "from langchain_core.output_parsers import StrOutputParser\n",
    "from langchain_core.runnables import RunnablePassthrough\n",
    "from langchain_openai import ChatOpenAI, OpenAIEmbeddings\n",
    "import os\n",
    "from langchain_community.vectorstores import FAISS\n",
    "from langchain_openai import OpenAIEmbeddings\n",
    "from langchain_community.document_loaders import PyPDFLoader\n",
    "from langchain.prompts import ChatPromptTemplate\n",
    "\n",
    "\n",
    "import sys\n",
    "sys.path.append('../../')  # replace with the actual path\n",
    "import lib.key_param as key_param\n",
    "import lib.Utils as utils"
   ]
  },
  {
   "cell_type": "code",
   "outputs": [],
   "source": [
    "os.environ['LANGCHAIN_TRACING_V2'] = 'true'\n",
    "os.environ['LANGCHAIN_ENDPOINT'] = 'https://api.smith.langchain.com'\n",
    "os.environ['LANGCHAIN_API_KEY'] = key_param.LANGSMITH_API_KEY\n",
    "os.environ['OPENAI_API_KEY'] = key_param.OPENAI_API_KEY"
   ],
   "metadata": {
    "collapsed": false,
    "ExecuteTime": {
     "end_time": "2024-05-03T14:38:46.792656Z",
     "start_time": "2024-05-03T14:38:46.789331Z"
    }
   },
   "id": "6b44e1ccf4a0d637",
   "execution_count": 14
  },
  {
   "cell_type": "code",
   "outputs": [
    {
     "name": "stderr",
     "output_type": "stream",
     "text": [
      "Advanced encoding /SymbolSetEncoding not implemented yet\n",
      "Advanced encoding /SymbolSetEncoding not implemented yet\n",
      "Advanced encoding /SymbolSetEncoding not implemented yet\n",
      "Advanced encoding /SymbolSetEncoding not implemented yet\n",
      "Advanced encoding /SymbolSetEncoding not implemented yet\n",
      "Advanced encoding /SymbolSetEncoding not implemented yet\n",
      "Advanced encoding /SymbolSetEncoding not implemented yet\n",
      "Advanced encoding /SymbolSetEncoding not implemented yet\n",
      "Advanced encoding /SymbolSetEncoding not implemented yet\n",
      "Advanced encoding /SymbolSetEncoding not implemented yet\n",
      "Advanced encoding /SymbolSetEncoding not implemented yet\n",
      "Advanced encoding /SymbolSetEncoding not implemented yet\n",
      "Advanced encoding /SymbolSetEncoding not implemented yet\n",
      "Advanced encoding /SymbolSetEncoding not implemented yet\n",
      "Advanced encoding /SymbolSetEncoding not implemented yet\n",
      "Advanced encoding /SymbolSetEncoding not implemented yet\n",
      "Advanced encoding /SymbolSetEncoding not implemented yet\n",
      "Advanced encoding /SymbolSetEncoding not implemented yet\n",
      "Advanced encoding /SymbolSetEncoding not implemented yet\n",
      "Advanced encoding /SymbolSetEncoding not implemented yet\n",
      "Advanced encoding /SymbolSetEncoding not implemented yet\n",
      "Advanced encoding /SymbolSetEncoding not implemented yet\n",
      "Advanced encoding /SymbolSetEncoding not implemented yet\n",
      "Advanced encoding /SymbolSetEncoding not implemented yet\n",
      "Advanced encoding /SymbolSetEncoding not implemented yet\n",
      "Advanced encoding /SymbolSetEncoding not implemented yet\n",
      "Advanced encoding /SymbolSetEncoding not implemented yet\n",
      "Advanced encoding /SymbolSetEncoding not implemented yet\n",
      "Advanced encoding /SymbolSetEncoding not implemented yet\n",
      "Advanced encoding /SymbolSetEncoding not implemented yet\n",
      "Advanced encoding /SymbolSetEncoding not implemented yet\n",
      "Advanced encoding /SymbolSetEncoding not implemented yet\n",
      "Advanced encoding /SymbolSetEncoding not implemented yet\n",
      "Advanced encoding /SymbolSetEncoding not implemented yet\n",
      "Advanced encoding /SymbolSetEncoding not implemented yet\n",
      "Advanced encoding /SymbolSetEncoding not implemented yet\n",
      "Advanced encoding /SymbolSetEncoding not implemented yet\n",
      "Advanced encoding /SymbolSetEncoding not implemented yet\n",
      "Advanced encoding /SymbolSetEncoding not implemented yet\n",
      "Advanced encoding /SymbolSetEncoding not implemented yet\n",
      "Advanced encoding /SymbolSetEncoding not implemented yet\n",
      "Advanced encoding /SymbolSetEncoding not implemented yet\n",
      "Advanced encoding /SymbolSetEncoding not implemented yet\n",
      "Advanced encoding /SymbolSetEncoding not implemented yet\n",
      "Advanced encoding /SymbolSetEncoding not implemented yet\n",
      "Advanced encoding /SymbolSetEncoding not implemented yet\n"
     ]
    }
   ],
   "source": [
    "# %%capture # Avoid printing the output\n",
    "\n",
    "# Get a list of all .pdf files in the directory\n",
    "pdf_files = [f for f in os.listdir(\"../../sample_files\") if f.endswith('.pdf')]\n",
    "\n",
    "pages = []\n",
    "for pdf_file in pdf_files:\n",
    "    loader = PyPDFLoader(f\"../../sample_files/{pdf_file}\")\n",
    "    pages.extend(loader.load_and_split())\n",
    "    \n",
    "docs = pages"
   ],
   "metadata": {
    "collapsed": false,
    "ExecuteTime": {
     "end_time": "2024-05-03T14:38:57.036860Z",
     "start_time": "2024-05-03T14:38:46.793651Z"
    }
   },
   "id": "814d378cb6887456",
   "execution_count": 15
  },
  {
   "cell_type": "code",
   "outputs": [],
   "source": [
    "text_splitter = RecursiveCharacterTextSplitter(chunk_size=1000, chunk_overlap=200)\n",
    "splits = text_splitter.split_documents(docs)"
   ],
   "metadata": {
    "collapsed": false,
    "ExecuteTime": {
     "end_time": "2024-05-03T14:38:57.041907Z",
     "start_time": "2024-05-03T14:38:57.037849Z"
    }
   },
   "id": "36868c31f9427aae",
   "execution_count": 16
  },
  {
   "cell_type": "code",
   "outputs": [],
   "source": [
    "# Embed\n",
    "vectorstore = Chroma.from_documents(documents=splits, \n",
    "                                    embedding=OpenAIEmbeddings())\n",
    "\n",
    "retriever = vectorstore.as_retriever()"
   ],
   "metadata": {
    "collapsed": false,
    "ExecuteTime": {
     "end_time": "2024-05-03T14:39:02.517475Z",
     "start_time": "2024-05-03T14:38:57.043745Z"
    }
   },
   "id": "2f5181a156920748",
   "execution_count": 17
  },
  {
   "cell_type": "code",
   "outputs": [],
   "source": [
    "# Prompt\n",
    "template_rag = \"\"\"System Message:\n",
    "\n",
    "You are a privacy consultant for a marketing company that operate internationally. Provide your legal advice based on the context.\n",
    "\n",
    "Context: {context}\n",
    "\n",
    "Question: {question}\n",
    "\"\"\"\n",
    "\n",
    "prompt_rag = ChatPromptTemplate.from_template(template_rag)\n"
   ],
   "metadata": {
    "collapsed": false,
    "ExecuteTime": {
     "end_time": "2024-05-03T14:39:02.521241Z",
     "start_time": "2024-05-03T14:39:02.518590Z"
    }
   },
   "id": "d33cf7a62dc7c135",
   "execution_count": 18
  },
  {
   "cell_type": "code",
   "outputs": [],
   "source": [
    "llm = ChatOpenAI(model_name=\"gpt-3.5-turbo\", temperature=0)"
   ],
   "metadata": {
    "collapsed": false,
    "ExecuteTime": {
     "end_time": "2024-05-03T14:39:02.537530Z",
     "start_time": "2024-05-03T14:39:02.521847Z"
    }
   },
   "id": "67daeca696e93b23",
   "execution_count": 19
  },
  {
   "cell_type": "code",
   "outputs": [],
   "source": [
    "def format_docs(docs):\n",
    "    return \"\\n\\n\".join(doc.page_content for doc in docs)"
   ],
   "metadata": {
    "collapsed": false,
    "ExecuteTime": {
     "end_time": "2024-05-03T14:39:02.540422Z",
     "start_time": "2024-05-03T14:39:02.538271Z"
    }
   },
   "id": "805947cea9a3397c",
   "execution_count": 20
  },
  {
   "cell_type": "code",
   "outputs": [],
   "source": [
    "rag_chain = (\n",
    "    {\"context\": retriever | format_docs, \"question\": RunnablePassthrough()}\n",
    "    | prompt_rag\n",
    "    | llm\n",
    "    | StrOutputParser()\n",
    ")"
   ],
   "metadata": {
    "collapsed": false,
    "ExecuteTime": {
     "end_time": "2024-05-03T14:39:02.544150Z",
     "start_time": "2024-05-03T14:39:02.541194Z"
    }
   },
   "id": "440f0b1a74d6de9c",
   "execution_count": 21
  },
  {
   "cell_type": "code",
   "outputs": [],
   "source": [
    "output_rag = rag_chain.invoke(\"In the context of the material scope of application of GDPR, what is the edpb position in relation to the one-stop shop mechanism?\")"
   ],
   "metadata": {
    "collapsed": false,
    "ExecuteTime": {
     "end_time": "2024-05-03T14:39:06.125920Z",
     "start_time": "2024-05-03T14:39:02.544858Z"
    }
   },
   "id": "75eecc4ecc24e117",
   "execution_count": 22
  },
  {
   "cell_type": "code",
   "outputs": [],
   "source": [
    "from langchain.prompts import ChatPromptTemplate\n",
    "\n",
    "# Prompt\n",
    "template_no_rag = \"\"\"Question: {question}\n",
    "\"\"\"\n",
    "\n",
    "prompt_no_rag = ChatPromptTemplate.from_template(template_no_rag)\n",
    "\n",
    "llm = ChatOpenAI(model_name=\"gpt-3.5-turbo\", temperature=0)\n",
    "\n",
    "chain_no_rag = prompt_no_rag | llm | StrOutputParser()\n",
    "\n",
    "output_no_rag = chain_no_rag.invoke({\"question\":\"In the context of the material scope of application of GDPR, what is the edpb position in relation to the one-stop shop mechanism?\"})"
   ],
   "metadata": {
    "collapsed": false,
    "ExecuteTime": {
     "end_time": "2024-05-03T14:39:09.186538Z",
     "start_time": "2024-05-03T14:39:06.129592Z"
    }
   },
   "id": "4ded546ff88fb903",
   "execution_count": 23
  },
  {
   "cell_type": "code",
   "outputs": [
    {
     "name": "stdout",
     "output_type": "stream",
     "text": [
      "================================\u001B[1m Human Message \u001B[0m=================================\n",
      "\n",
      "Question: \u001B[33;1m\u001B[1;3m{question}\u001B[0m\n"
     ]
    }
   ],
   "source": [
    "prompt_no_rag.pretty_print()"
   ],
   "metadata": {
    "collapsed": false,
    "ExecuteTime": {
     "end_time": "2024-05-03T14:39:09.198321Z",
     "start_time": "2024-05-03T14:39:09.190881Z"
    }
   },
   "id": "b4c49f5cf99cb78f",
   "execution_count": 24
  },
  {
   "cell_type": "code",
   "outputs": [
    {
     "name": "stdout",
     "output_type": "stream",
     "text": [
      "--- RAG ---\n",
      "\n",
      "The EDPB confirms that in the absence of an establishment in the Union, a controller or processor\n",
      "cannot benefit from the one-stop shop mechanism provided for in Article 56 of the GDPR. The GDPR’s\n",
      "cooperation and consistency mechanism only applies to controllers and processors with an\n",
      "establishment, or establishments, within the European Union. Controllers and processors will need to\n",
      "take into account other applicable texts, such as EU or Member States’ sectorial legislation and\n",
      "national laws, in addition to the GDPR.\n"
     ]
    }
   ],
   "source": [
    "print(\"--- RAG ---\\n\")\n",
    "print(utils.format_print(output_rag, 100))"
   ],
   "metadata": {
    "collapsed": false,
    "ExecuteTime": {
     "end_time": "2024-05-03T14:39:09.208426Z",
     "start_time": "2024-05-03T14:39:09.201870Z"
    }
   },
   "id": "e79e9061840e5943",
   "execution_count": 25
  },
  {
   "cell_type": "code",
   "outputs": [
    {
     "name": "stdout",
     "output_type": "stream",
     "text": [
      "--- No RAG ---\n",
      " content='The European Data Protection Board (EDPB) has stated that the one-stop shop mechanism provided for in the GDPR allows for a more efficient and consistent application of data protection rules across the EU. This mechanism allows businesses operating in multiple EU countries to deal with a single lead supervisory authority for their data protection issues, rather than having to deal with multiple authorities in each country where they operate. The EDPB has emphasized the importance of cooperation between supervisory authorities in ensuring the effective implementation of the one-stop shop mechanism and has provided guidance on how this mechanism should be applied in practice.' response_metadata={'token_usage': {'completion_tokens': 116, 'prompt_tokens': 35, 'total_tokens': 151}, 'model_name': 'gpt-3.5-turbo', 'system_fingerprint': 'fp_3b956da36b', 'finish_reason': 'stop', 'logprobs': None} id='run-683ea948-2e01-438a-88be-558c8be4a424-0'\n"
     ]
    }
   ],
   "source": [
    "output_no_rag = llm.invoke(\"question In the context of the material scope of application of GDPR, what is the edpb position in relation to the one-stop shop mechanism?\")\n",
    "\n",
    "print(\"--- No RAG ---\\n\", output_no_rag)"
   ],
   "metadata": {
    "collapsed": false,
    "ExecuteTime": {
     "end_time": "2024-05-03T15:38:44.621577Z",
     "start_time": "2024-05-03T15:38:41.055461Z"
    }
   },
   "id": "eef8894a2f9155ac",
   "execution_count": 28
  }
 ],
 "metadata": {
  "kernelspec": {
   "display_name": "Python 3",
   "language": "python",
   "name": "python3"
  },
  "language_info": {
   "codemirror_mode": {
    "name": "ipython",
    "version": 2
   },
   "file_extension": ".py",
   "mimetype": "text/x-python",
   "name": "python",
   "nbconvert_exporter": "python",
   "pygments_lexer": "ipython2",
   "version": "2.7.6"
  }
 },
 "nbformat": 4,
 "nbformat_minor": 5
}
