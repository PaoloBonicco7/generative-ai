{
 "cells": [
  {
   "cell_type": "markdown",
   "source": [
    "# Chat with your PDFs locally"
   ],
   "metadata": {
    "collapsed": false
   },
   "id": "cc7ed5ab67639cc"
  },
  {
   "cell_type": "markdown",
   "source": [
    "### Imports"
   ],
   "metadata": {
    "collapsed": false
   },
   "id": "15d4d7043cbced95"
  },
  {
   "cell_type": "code",
   "execution_count": 22,
   "id": "initial_id",
   "metadata": {
    "collapsed": true,
    "ExecuteTime": {
     "end_time": "2024-05-03T13:04:45.051856Z",
     "start_time": "2024-05-03T13:04:44.805028Z"
    }
   },
   "outputs": [],
   "source": [
    "from langchain.text_splitter import RecursiveCharacterTextSplitter\n",
    "from langchain_community.vectorstores import Chroma\n",
    "from langchain_core.output_parsers import StrOutputParser\n",
    "from langchain_core.runnables import RunnablePassthrough\n",
    "from langchain_community.embeddings import OllamaEmbeddings\n",
    "import os\n",
    "from langchain_community.document_loaders import PyPDFLoader\n",
    "from langchain.prompts import ChatPromptTemplate"
   ]
  },
  {
   "cell_type": "markdown",
   "source": [
    "## Load the Documents"
   ],
   "metadata": {
    "collapsed": false
   },
   "id": "d2dadbbc8b61397e"
  },
  {
   "cell_type": "markdown",
   "source": [
    "New code for importing multiple files"
   ],
   "metadata": {
    "collapsed": false
   },
   "id": "2b3dd0dd2fd6aa5d"
  },
  {
   "cell_type": "code",
   "outputs": [],
   "source": [
    "%%capture # Avoid printing the output\n",
    "\n",
    "# Get a list of all .pdf files in the directory\n",
    "pdf_files = [f for f in os.listdir(\"../../sample_files\") if f.endswith('.pdf')]\n",
    "\n",
    "pages = []\n",
    "for pdf_file in pdf_files:\n",
    "    loader = PyPDFLoader(f\"../../sample_files/{pdf_file}\")\n",
    "    pages.extend(loader.load_and_split())"
   ],
   "metadata": {
    "collapsed": false,
    "ExecuteTime": {
     "end_time": "2024-05-03T13:00:49.603208Z",
     "start_time": "2024-05-03T13:00:38.319138Z"
    }
   },
   "id": "d852b9903bf332ca",
   "execution_count": 15
  },
  {
   "cell_type": "code",
   "outputs": [
    {
     "name": "stdout",
     "output_type": "stream",
     "text": [
      "Il dossier è stato curato dall’ U\n",
      "FFICIO RAPPORTI CON L ’UNIONE EUROPEA  \n",
      "( 066760.2145 -  cdrue@c\n"
     ]
    }
   ],
   "source": [
    "chunk1 = pages[2].page_content\n",
    "print(chunk1[0:100])"
   ],
   "metadata": {
    "collapsed": false,
    "ExecuteTime": {
     "end_time": "2024-05-03T13:01:01.218924Z",
     "start_time": "2024-05-03T13:01:01.215747Z"
    }
   },
   "id": "8d8909982d48acb8",
   "execution_count": 16
  },
  {
   "cell_type": "code",
   "outputs": [
    {
     "data": {
      "text/plain": "47"
     },
     "execution_count": 17,
     "metadata": {},
     "output_type": "execute_result"
    }
   ],
   "source": [
    "len(pages)"
   ],
   "metadata": {
    "collapsed": false,
    "ExecuteTime": {
     "end_time": "2024-05-03T13:01:08.549673Z",
     "start_time": "2024-05-03T13:01:08.537406Z"
    }
   },
   "id": "87c96cd81173ab1d",
   "execution_count": 17
  },
  {
   "cell_type": "code",
   "outputs": [
    {
     "data": {
      "text/plain": "'6\\nAdoptedOnce it is concluded that a controller or processor is established in the EU, an in concret'"
     },
     "execution_count": 26,
     "metadata": {},
     "output_type": "execute_result"
    }
   ],
   "source": [
    "pages[26].page_content[0:100]"
   ],
   "metadata": {
    "collapsed": false,
    "ExecuteTime": {
     "end_time": "2024-05-03T13:05:41.279347Z",
     "start_time": "2024-05-03T13:05:41.272955Z"
    }
   },
   "id": "2db9747be5870b6c",
   "execution_count": 26
  },
  {
   "cell_type": "markdown",
   "source": [
    "### Vector Store"
   ],
   "metadata": {
    "collapsed": false
   },
   "id": "df209ab4416cddcf"
  },
  {
   "cell_type": "markdown",
   "source": [
    "Split the documents into chunks"
   ],
   "metadata": {
    "collapsed": false
   },
   "id": "e7d18e79781a4a3"
  },
  {
   "cell_type": "code",
   "outputs": [],
   "source": [
    "text_splitter = RecursiveCharacterTextSplitter(chunk_size=1000, chunk_overlap=200)\n",
    "splits = text_splitter.split_documents(pages)"
   ],
   "metadata": {
    "collapsed": false,
    "ExecuteTime": {
     "end_time": "2024-05-03T13:01:38.452486Z",
     "start_time": "2024-05-03T13:01:38.436542Z"
    }
   },
   "id": "d88f5dead04ff72f",
   "execution_count": 19
  },
  {
   "cell_type": "markdown",
   "source": [
    "Create Embeddings - We will use the Ollama Embeddings"
   ],
   "metadata": {
    "collapsed": false
   },
   "id": "92f2a2f1ccb9e75c"
  },
  {
   "cell_type": "code",
   "outputs": [],
   "source": [
    "embeddings = OllamaEmbeddings(model=\"nomic-embed-text\")"
   ],
   "metadata": {
    "collapsed": false,
    "ExecuteTime": {
     "end_time": "2024-05-03T13:01:41.791379Z",
     "start_time": "2024-05-03T13:01:41.787708Z"
    }
   },
   "id": "3d00de80be7e196d",
   "execution_count": 20
  },
  {
   "cell_type": "code",
   "outputs": [],
   "source": [
    "vectorstore = Chroma.from_documents(documents=splits, \n",
    "                                    embedding=embeddings)\n",
    "\n",
    "retriever = vectorstore.as_retriever()"
   ],
   "metadata": {
    "collapsed": false,
    "ExecuteTime": {
     "end_time": "2024-05-03T13:05:09.717595Z",
     "start_time": "2024-05-03T13:04:54.817195Z"
    }
   },
   "id": "8e237f47f56afc41",
   "execution_count": 23
  },
  {
   "cell_type": "markdown",
   "source": [
    "## Retrieval and Generation"
   ],
   "metadata": {
    "collapsed": false
   },
   "id": "7459f7b8f477604a"
  },
  {
   "cell_type": "markdown",
   "source": [
    "### Examples of Prompts from LangChain"
   ],
   "metadata": {
    "collapsed": false
   },
   "id": "7a2187ffa454938a"
  },
  {
   "cell_type": "code",
   "outputs": [
    {
     "name": "stdout",
     "output_type": "stream",
     "text": [
      "================================\u001B[1m Human Message \u001B[0m=================================\n",
      "\n",
      "You are an assistant for question-answering tasks. Use the following pieces of retrieved context to answer the question. If you don't know the answer, just say that you don't know. Use three sentences maximum and keep the answer concise.\n",
      "Question: \u001B[33;1m\u001B[1;3m{question}\u001B[0m \n",
      "Context: \u001B[33;1m\u001B[1;3m{context}\u001B[0m \n",
      "Answer:\n"
     ]
    }
   ],
   "source": [
    "# RAG prompt\n",
    "from langchain import hub\n",
    "prompt_rag_lc = hub.pull(\"rlm/rag-prompt\")\n",
    "prompt_rag_lc.pretty_print()"
   ],
   "metadata": {
    "collapsed": false,
    "ExecuteTime": {
     "end_time": "2024-05-03T13:29:11.563448Z",
     "start_time": "2024-05-03T13:29:07.154774Z"
    }
   },
   "id": "f59d2684505dd699",
   "execution_count": 33
  },
  {
   "cell_type": "code",
   "outputs": [
    {
     "name": "stdout",
     "output_type": "stream",
     "text": [
      "================================\u001B[1m System Message \u001B[0m================================\n",
      "\n",
      "### **Prompt**\n",
      "You are requested to embody the role of an in-house legal advisor. Within your capacity, you will have access to a repository of contracts for review, as well as queries from users seeking guidance. Your responses should be strictly confined to the content derived from these contracts, devoid of any additional explanations. In instances where the solution appears beyond immediate reach, refrain from advising the user to undertake actions outside their capability. Instead, exhaust all possible alternatives at your disposal first. When confronted with challenges, it's pivotal to approach them methodically, step by step, ensuring a composed and thorough analysis.\n",
      "### **Guidelines**\n",
      "1. **Contractual Fidelity:** Your advice should be exclusively rooted in the contract documents available to you. Avoid speculative or generic legal advice.\n",
      "2. **Problem-Solving Approach:** Adopt a systematic approach to problem-solving. If an issue seems intractable, consider all possible interpretations and clauses within the contracts that might provide a resolution.\n",
      "3. **Communication:** Communicate your findings directly, without supplementary explanations. Your response should mirror the contract's language and tone as closely as possible.\n",
      "4. **Handling Limitations:** If a solution cannot be found within the contract's provisions, acknowledge this limitation candidly, suggesting a comprehensive review or consultation with external legal counsel as a next step.\n",
      "5. **Stay Composed:** Maintain a calm and methodical demeanor when addressing queries. Rapid conclusions can lead to oversights; hence, a step-by-step examination is encouraged.\n",
      "\n",
      "\n",
      "================================\u001B[1m Human Message \u001B[0m=================================\n",
      "\n",
      "\u001B[33;1m\u001B[1;3m{question}\u001B[0m\n",
      "Context: \u001B[33;1m\u001B[1;3m{context}\u001B[0m \n",
      "Answer:\n",
      "\n",
      "==================================\u001B[1m AI Message \u001B[0m==================================\n"
     ]
    }
   ],
   "source": [
    "from langchain import hub\n",
    "legal_prompt = hub.pull(\"usctrojan/in-house-legal\")\n",
    "legal_prompt.pretty_print()"
   ],
   "metadata": {
    "collapsed": false,
    "ExecuteTime": {
     "end_time": "2024-05-03T13:32:28.480373Z",
     "start_time": "2024-05-03T13:32:27.963911Z"
    }
   },
   "id": "e691ddc862ca0008",
   "execution_count": 38
  },
  {
   "cell_type": "code",
   "outputs": [],
   "source": [
    "# Prompt\n",
    "template_rag = \"\"\"\n",
    "System Message: You are a privacy consultant for a marketing company that operate internationally. Provide your legal advice based on the context.\n",
    "\n",
    "Context: {context}\n",
    "\n",
    "Question: {question}\n",
    "\"\"\"\n",
    "\n",
    "prompt_rag = ChatPromptTemplate.from_template(template_rag)"
   ],
   "metadata": {
    "collapsed": false,
    "ExecuteTime": {
     "end_time": "2024-05-03T13:34:16.154292Z",
     "start_time": "2024-05-03T13:34:16.148062Z"
    }
   },
   "id": "5bbd18b533974f2e",
   "execution_count": 40
  },
  {
   "cell_type": "code",
   "outputs": [
    {
     "name": "stdout",
     "output_type": "stream",
     "text": [
      "================================\u001B[1m Human Message \u001B[0m=================================\n",
      "\n",
      "\n",
      "System Message: You are a privacy consultant for a marketing company that operate internationally. Provide your legal advice based on the context.\n",
      "\n",
      "Context: \u001B[33;1m\u001B[1;3m{context}\u001B[0m\n",
      "\n",
      "Question: \u001B[33;1m\u001B[1;3m{question}\u001B[0m\n"
     ]
    }
   ],
   "source": [
    "prompt_rag.pretty_print()"
   ],
   "metadata": {
    "collapsed": false,
    "ExecuteTime": {
     "end_time": "2024-05-03T13:34:17.187996Z",
     "start_time": "2024-05-03T13:34:17.169966Z"
    }
   },
   "id": "73f0eeb95f4246b6",
   "execution_count": 41
  },
  {
   "cell_type": "markdown",
   "source": [
    "## Create the RAG Chain"
   ],
   "metadata": {
    "collapsed": false
   },
   "id": "35e53c16b1f6e437"
  },
  {
   "cell_type": "markdown",
   "source": [
    "### Model Selections"
   ],
   "metadata": {
    "collapsed": false
   },
   "id": "5e155723c2f58628"
  },
  {
   "cell_type": "code",
   "outputs": [],
   "source": [
    "from langchain_community.llms import Ollama\n",
    "\n",
    "llm = Ollama(model=\"phi3\")"
   ],
   "metadata": {
    "collapsed": false,
    "ExecuteTime": {
     "end_time": "2024-05-03T13:34:19.078939Z",
     "start_time": "2024-05-03T13:34:19.071716Z"
    }
   },
   "id": "42291040c5eeed14",
   "execution_count": 42
  },
  {
   "cell_type": "markdown",
   "source": [
    "### Post-Processing"
   ],
   "metadata": {
    "collapsed": false
   },
   "id": "c8c1f47300f80c0a"
  },
  {
   "cell_type": "code",
   "outputs": [],
   "source": [
    "def format_docs(docs):\n",
    "    return \"\\n\\n\".join(doc.page_content for doc in docs)"
   ],
   "metadata": {
    "collapsed": false,
    "ExecuteTime": {
     "end_time": "2024-05-03T13:34:20.848146Z",
     "start_time": "2024-05-03T13:34:20.844780Z"
    }
   },
   "id": "30b6292a8987360",
   "execution_count": 43
  },
  {
   "cell_type": "markdown",
   "source": [
    "### Chain"
   ],
   "metadata": {
    "collapsed": false
   },
   "id": "f367e3c4f919ee26"
  },
  {
   "cell_type": "code",
   "outputs": [],
   "source": [
    "rag_chain = (\n",
    "    {\"context\": retriever | format_docs, \"question\": RunnablePassthrough()}\n",
    "    | prompt_rag\n",
    "    | llm\n",
    "    | StrOutputParser()\n",
    ")"
   ],
   "metadata": {
    "collapsed": false,
    "ExecuteTime": {
     "end_time": "2024-05-03T13:34:23.239845Z",
     "start_time": "2024-05-03T13:34:23.229049Z"
    }
   },
   "id": "58c4febd2a47b9af",
   "execution_count": 44
  },
  {
   "cell_type": "markdown",
   "source": [
    "### Retrival"
   ],
   "metadata": {
    "collapsed": false
   },
   "id": "4dbe8da198b2fbb0"
  },
  {
   "cell_type": "code",
   "outputs": [],
   "source": [
    "user_question = \"In the context of the material scope of application of GDPR, what is the edpb position in relation to the one-stop shop mechanism?\""
   ],
   "metadata": {
    "collapsed": false
   },
   "id": "c3636068d69f7ee7"
  },
  {
   "cell_type": "code",
   "outputs": [],
   "source": [
    "user_question_2 = \"Stasera mni voglio ubriacare, cosa mi consigli cosa bere?\""
   ],
   "metadata": {
    "collapsed": false,
    "ExecuteTime": {
     "end_time": "2024-05-03T13:58:03.908202Z",
     "start_time": "2024-05-03T13:58:03.902861Z"
    }
   },
   "id": "25a6302ea251f215",
   "execution_count": 62
  },
  {
   "cell_type": "markdown",
   "source": [
    "Andiamo a estrarre i 4 documenti più rilevanti"
   ],
   "metadata": {
    "collapsed": false
   },
   "id": "7ee64e4fb8fa0143"
  },
  {
   "cell_type": "code",
   "outputs": [],
   "source": [
    "retriever = vectorstore.as_retriever(k=4)\n",
    "\n",
    "docs = retriever.invoke(user_question_2)"
   ],
   "metadata": {
    "collapsed": false,
    "ExecuteTime": {
     "end_time": "2024-05-03T13:58:07.499942Z",
     "start_time": "2024-05-03T13:58:06.546659Z"
    }
   },
   "id": "43ed07fa7b0dbb30",
   "execution_count": 63
  },
  {
   "cell_type": "code",
   "outputs": [
    {
     "data": {
      "text/plain": "4"
     },
     "execution_count": 68,
     "metadata": {},
     "output_type": "execute_result"
    }
   ],
   "source": [
    "len(docs)"
   ],
   "metadata": {
    "collapsed": false,
    "ExecuteTime": {
     "end_time": "2024-05-03T15:22:40.118367Z",
     "start_time": "2024-05-03T15:22:40.104145Z"
    }
   },
   "id": "246588592153b4a2",
   "execution_count": 68
  },
  {
   "cell_type": "code",
   "outputs": [
    {
     "data": {
      "text/plain": "973"
     },
     "execution_count": 77,
     "metadata": {},
     "output_type": "execute_result"
    }
   ],
   "source": [
    "len(docs[0].page_content)"
   ],
   "metadata": {
    "collapsed": false,
    "ExecuteTime": {
     "end_time": "2024-05-03T15:23:50.315771Z",
     "start_time": "2024-05-03T15:23:50.288756Z"
    }
   },
   "id": "3b53da53337801df",
   "execution_count": 77
  },
  {
   "cell_type": "code",
   "outputs": [
    {
     "data": {
      "text/plain": "\"• 24 mesi  dopo: tutte le regole della legge sull'IA diventano applicabili, \\ncompresi gli obblighi per i sistemi ad alto rischio definiti nell'allegato III (elenco dei casi d'uso ad alto rischio);  \\n• 36 mesi  dopo: si applicano gli obblighi per i sistemi ad alto rischio definiti \\nnell'allegato II (elenco della normativa di armonizzazione dell'Unione).  \\n \\n \\nLa posizione negoziale del Governo italiano \\nNel corso del complesso negoziato in seno al Consiglio, il Governo italiano si \\nè sempre dichiarato a favore dell’introduzione di un quadro comune di regole \\nsull’intelligenza artificiale, sottolineando l’importanza che il nuovo regolamento \\ntutelasse i  diritti fondamentali , imponesse obblighi e sanzioni commisurati al \\nrischio  e allo stesso tempo permettesse di mantenere il passo tecnologico e lo \\nslancio verso l'innovazione di altri competitor globali, come Stati Uniti e Cina.  \\nLa posizione negoziale italiana , inoltre, si  è basata su una visione “umano-\""
     },
     "execution_count": 78,
     "metadata": {},
     "output_type": "execute_result"
    }
   ],
   "source": [
    "docs[0].page_content"
   ],
   "metadata": {
    "collapsed": false,
    "ExecuteTime": {
     "end_time": "2024-05-03T15:24:10.313566Z",
     "start_time": "2024-05-03T15:24:10.306021Z"
    }
   },
   "id": "e7a72c0f48165f09",
   "execution_count": 78
  },
  {
   "cell_type": "code",
   "outputs": [
    {
     "data": {
      "text/plain": "\"4 \\n • i sistemi di riconoscimento delle emozioni utiliz zati sul luogo di lavoro \\ne negli istituti scolastici , eccetto per motivi medici o di sicurezza (ad \\nesempio il monitoraggio dei livelli di stanchezza di un pilota);  \\n• l’estrazione non mirata (scraping) di immagini facciali da internet o \\ntelecamere a circuito chiuso per la creazione o l'espansione di banche dati;  \\n• i sistemi che consent\""
     },
     "execution_count": 65,
     "metadata": {},
     "output_type": "execute_result"
    }
   ],
   "source": [
    "docs[1].page_content[0:400]"
   ],
   "metadata": {
    "collapsed": false,
    "ExecuteTime": {
     "end_time": "2024-05-03T13:58:10.257167Z",
     "start_time": "2024-05-03T13:58:10.246710Z"
    }
   },
   "id": "f1fce986b37c184c",
   "execution_count": 65
  },
  {
   "cell_type": "code",
   "outputs": [
    {
     "data": {
      "text/plain": "[Document(page_content=\"• 24 mesi  dopo: tutte le regole della legge sull'IA diventano applicabili, \\ncompresi gli obblighi per i sistemi ad alto rischio definiti nell'allegato III (elenco dei casi d'uso ad alto rischio);  \\n• 36 mesi  dopo: si applicano gli obblighi per i sistemi ad alto rischio definiti \\nnell'allegato II (elenco della normativa di armonizzazione dell'Unione).  \\n \\n \\nLa posizione negoziale del Governo italiano \\nNel corso del complesso negoziato in seno al Consiglio, il Governo italiano si \\nè sempre dichiarato a favore dell’introduzione di un quadro comune di regole \\nsull’intelligenza artificiale, sottolineando l’importanza che il nuovo regolamento \\ntutelasse i  diritti fondamentali , imponesse obblighi e sanzioni commisurati al \\nrischio  e allo stesso tempo permettesse di mantenere il passo tecnologico e lo \\nslancio verso l'innovazione di altri competitor globali, come Stati Uniti e Cina.  \\nLa posizione negoziale italiana , inoltre, si  è basata su una visione “umano-\", metadata={'page': 18, 'source': '../../sample_files/normativa-eu-ai.pdf'}),\n Document(page_content='4 \\n • i sistemi di riconoscimento delle emozioni utiliz zati sul luogo di lavoro \\ne negli istituti scolastici , eccetto per motivi medici o di sicurezza (ad \\nesempio il monitoraggio dei livelli di stanchezza di un pilota);  \\n• l’estrazione non mirata (scraping) di immagini facciali da internet o \\ntelecamere a circuito chiuso per la creazione o l\\'espansione di banche dati;  \\n• i sistemi che consentono di attribuire un \" punteggio sociale \" (social \\nscoring), classificando o valutando le persone in base al loro comportamento \\nsociale o alle loro caratteristiche personali.  \\n \\nSistem i ad alto rischio \\nIl regolamento considera ad alto rischio un numero limitato di sistemi di IA  \\nche possono potenzialmente avere ripercussioni negative sulla sicurezza delle \\npersone o sui loro diritti fondamentali (tutelati dalla Carta dei diritti fondament ali \\ndell\\'UE ).  \\nPrima di immettere un sistema di IA ad alto rischio sul mercato dell\\'UE , o', metadata={'page': 9, 'source': '../../sample_files/normativa-eu-ai.pdf'}),\n Document(page_content=\"garantire che la tecnologia sia adatta allo scopo e che i risultati falsi positivi/negativi \\nnon incidano in modo sproporzionato sui gruppi protetti (ad esempio, per origine \\nrazziale o etnica, sesso, età, ecc.). Dovranno,  inoltre , essere addestrati e testati \\ncon set di dati sufficientemente rappresentativi per ridurre al minimo il \\nrischio di integrare distorsioni inique nel modello e garantire che, se presenti, \\nqueste possano essere risolte mediante opportune misure di rilevazione, \\ncorrezione e attenuazione. Dovranno anche essere tracciabili e verificabili , \\ngarantendo la conservazione dell'opportuna documentazione, compresi i dati \\nutilizzati per addestrare l'algoritmo, fondamentali per le indagini ex post . \\nSi impone inoltre agli operatori che s iano organismi di diritto pubblico o operatori \\nprivati che forni scono servizi pubblici , nonché agli  operatori che forniscono sistemi \\nad alto rischio di effettuare una valutazione d'impatto sui diritti fondamentali .\", metadata={'page': 9, 'source': '../../sample_files/normativa-eu-ai.pdf'}),\n Document(page_content=\"2 \\n La definzione di sistema di IA  formulata nel regolamento è quella di “un sistema \\nbasato su una macchina progettato per funzionare con diversi livelli di \\nautonomia e che può mostrare adattività dopo l'implementazione e che, per \\nobiettivi espliciti o impliciti, deduce, dall'input che riceve, come generare output \\nquali previsioni, contenuti, raccomandazi oni o decisioni che possono influenzare \\nambienti fisici o virtuali” . \\nAlla Commissione europea è demandata l’adozione di linee guida  \\nsull’applicazione della richiamata definizione di sistema di IA.  \\nLa definizione originariamente proposta dalla Commissione è stata modificata nel corso \\ndel negoziato allo scopo di allinearla  all'approccio dell'OCSE .  \\n \\nLa nuova disciplina non intende introdurre una normazione esaustiva e \\ndettagliata di ogni aspetto connesso all’IA, così definita. Tiene conto che diversi \\nprofili della materia sono già riconducibili ad atti legislativi vigenti o in corso di\", metadata={'page': 7, 'source': '../../sample_files/normativa-eu-ai.pdf'})]"
     },
     "execution_count": 79,
     "metadata": {},
     "output_type": "execute_result"
    }
   ],
   "source": [
    "docs"
   ],
   "metadata": {
    "collapsed": false,
    "ExecuteTime": {
     "end_time": "2024-05-03T15:30:58.309740Z",
     "start_time": "2024-05-03T15:30:58.288235Z"
    }
   },
   "id": "e41bc40beb8b9ebe",
   "execution_count": 79
  },
  {
   "cell_type": "markdown",
   "source": [
    "## Run the RAG Chain"
   ],
   "metadata": {
    "collapsed": false
   },
   "id": "2cb56972cd750d9b"
  },
  {
   "cell_type": "markdown",
   "source": [
    "### Prompt With Context"
   ],
   "metadata": {
    "collapsed": false
   },
   "id": "cf0f5c5eba062c2"
  },
  {
   "cell_type": "markdown",
   "source": [
    "**Examples of user_prompts**\n",
    "- 1 (bad) - what is the edpb position in relation to the one-stop shop mechanism?\n",
    "- 2 (good) - What is the EDPB position in relation to the one stop shop mechanism provided by article 52 of the GDPR in the context of the of geographical scope of application of the GDPR (art. 3.2), so called targeting?\n",
    "     -- (art. 56 is the correct one)"
   ],
   "metadata": {
    "collapsed": false
   },
   "id": "de347905422f2de"
  },
  {
   "cell_type": "code",
   "outputs": [],
   "source": [
    "user_question = \"In the context of the material scope of application of GDPR, what is the edpb position in relation to the one-stop shop mechanism?\""
   ],
   "metadata": {
    "collapsed": false,
    "ExecuteTime": {
     "end_time": "2024-05-03T13:48:57.184777Z",
     "start_time": "2024-05-03T13:48:57.177811Z"
    }
   },
   "id": "3ef43d3c91f629cc",
   "execution_count": 52
  },
  {
   "cell_type": "code",
   "outputs": [],
   "source": [
    "output_rag = rag_chain.invoke(user_question)"
   ],
   "metadata": {
    "collapsed": false,
    "ExecuteTime": {
     "end_time": "2024-05-03T13:49:39.015944Z",
     "start_time": "2024-05-03T13:49:03.084509Z"
    }
   },
   "id": "97cb7b590163dae5",
   "execution_count": 54
  },
  {
   "cell_type": "code",
   "outputs": [
    {
     "name": "stdout",
     "output_type": "stream",
     "text": [
      "--- RAG ---\n",
      "\n",
      "As a privacy consultant advising your marketing company on international operations subject to GDPR, it's crucial to understand the EDPB’s stance regarding the \"one-stop shop\" (OSS) mechanism. The OSS simplifies compliance for EU data controllers and processors by allowing them to address their cross-border processing concerns with a single supervisory authority within the EU, usually the local one where they have an establishment.\n",
      "\n",
      "\n",
      "The EDPB's position on the OSS is clear: it supports this mechanism as a means of ensuring consistent application of GDPR across member states and facilitating cooperation among supervisory authorities. The aim is to harmonize enforcement actions and ensure that data protection laws are applied consistently, avoiding fragmentation and duplication in the regulatory environment.\n",
      "\n",
      "\n",
      "However, while operating under the OSS framework, your company must still comply with all GDPR obligations regardless of which member state's supervisory authority you communicate with for cross-border processing issues. This includes any conflict resolution or appeal processes that may arise from a local regulator's decision and maintaining data protection practices consistent across the EU.\n",
      "\n",
      "\n",
      "To summarize, as an international company operating within the GDPR framework under OSS:\n",
      "\n",
      "\n",
      "1. Ensure you establish clear communication with your lead supervisory authority (LSA) to address cross-border processing concerns effectively.\n",
      "\n",
      "2. Maintain compliance across all EU countries where you operate by adhering strictly to GDPR requirements and responding promptly to any inquiries or actions from the LSA.\n",
      "\n",
      "3. Keep in mind that OSS does not override specific national rules outside of its scope, nor does it diminish your legal responsibilities for data protection; all obligations under GDPR must still be met.\n"
     ]
    }
   ],
   "source": [
    "print(\"--- RAG ---\\n\")\n",
    "print(output_rag)"
   ],
   "metadata": {
    "collapsed": false,
    "ExecuteTime": {
     "end_time": "2024-05-03T13:44:41.583535Z",
     "start_time": "2024-05-03T13:44:41.575253Z"
    }
   },
   "id": "b8e0159f36d49dcf",
   "execution_count": 49
  },
  {
   "cell_type": "markdown",
   "source": [
    "### Prompt Without the Context"
   ],
   "metadata": {
    "collapsed": false
   },
   "id": "12b12059051cf738"
  },
  {
   "cell_type": "code",
   "outputs": [
    {
     "name": "stdout",
     "output_type": "stream",
     "text": [
      "The European Data Protection Board (EDPB) plays a pivotal role within the framework established by the General Data Protection Regulation (GDPR) for its application across all member states. Specifically concerning the \"one-stop shop\" (OSS) mechanism, which was introduced to streamline regulatory processes and reduce administrative burdens on businesses operating in multiple EU countries, the EDPB's position is supportive and facilitative.\n",
      "\n",
      "\n",
      "The OSS allows lead supervisory authorities (LSA) of each member state where a company has its main establishment or single establishment processing activities to take primary responsibility for cross-border data protection issues involving that entity. This significantly simplifies the oversight process by having one LSA coordinate with other concerned DPAs and national regulators, fostering cooperation among them.\n",
      "\n",
      "\n",
      "In relation to this mechanism, the EDPB's role is advisory and supervisory:\n",
      "\n",
      "- The EDPB assists in ensuring consistent application of data protection rules across EU member states by providing guidelines and recommendations on interpretation of GDPR provisions. It also issues binding decisions when disputes arise between DPAs that affect multiple countries, thereby supporting harmonization.\n",
      "\n",
      "- Although the OSS is primarily coordinated at a national level, the EDPB can step in to provide clarity or guidance if there are conflicting interpretations of GDPR rules by LSAs and how they interact with cross-border processing activities regulated under the one-stop shop mechanism.\n",
      "\n",
      "- The Board contributes to strengthening data protection enforcement by providing opinions on cases that have a broader impact on EU-wide data protection, which may include cases involving multiple lead supervisory authorities working together through the OSS framework.\n",
      "\n",
      "- Finally, EDPB provides strategic direction and oversight in collaboration with other European institutions to ensure GDPR's objectives are met effectively across all member states.\n",
      "\n",
      "\n",
      "The EDPB is not directly involved in daily operations of the OSS mechanism; however, its guidance and decisions can influence how national supervisory authorities implement their lead supervisory authority role within this mechanism.\n"
     ]
    }
   ],
   "source": [
    "llm = Ollama(model=\"phi3\")\n",
    "\n",
    "output_no_rag = llm.invoke(user_question)\n",
    "print(output_no_rag)"
   ],
   "metadata": {
    "collapsed": false,
    "ExecuteTime": {
     "end_time": "2024-05-03T15:36:05.077135Z",
     "start_time": "2024-05-03T15:35:28.772691Z"
    }
   },
   "id": "9e837c02c9a2cccf",
   "execution_count": 80
  }
 ],
 "metadata": {
  "kernelspec": {
   "display_name": "Python 3",
   "language": "python",
   "name": "python3"
  },
  "language_info": {
   "codemirror_mode": {
    "name": "ipython",
    "version": 2
   },
   "file_extension": ".py",
   "mimetype": "text/x-python",
   "name": "python",
   "nbconvert_exporter": "python",
   "pygments_lexer": "ipython2",
   "version": "2.7.6"
  }
 },
 "nbformat": 4,
 "nbformat_minor": 5
}
