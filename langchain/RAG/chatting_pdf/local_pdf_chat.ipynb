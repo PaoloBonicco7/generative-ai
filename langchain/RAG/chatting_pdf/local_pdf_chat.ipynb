{
 "cells": [
  {
   "cell_type": "markdown",
   "source": [
    "Imports"
   ],
   "metadata": {
    "collapsed": false
   },
   "id": "15d4d7043cbced95"
  },
  {
   "cell_type": "code",
   "execution_count": 1,
   "id": "initial_id",
   "metadata": {
    "collapsed": true,
    "ExecuteTime": {
     "end_time": "2024-05-02T18:02:40.596990Z",
     "start_time": "2024-05-02T18:02:39.722935Z"
    }
   },
   "outputs": [],
   "source": [
    "import bs4\n",
    "from langchain import hub\n",
    "from langchain.text_splitter import RecursiveCharacterTextSplitter\n",
    "from langchain_community.document_loaders import WebBaseLoader\n",
    "from langchain_community.vectorstores import Chroma\n",
    "from langchain_core.output_parsers import StrOutputParser\n",
    "from langchain_core.runnables import RunnablePassthrough\n",
    "from langchain_openai import ChatOpenAI, OpenAIEmbeddings\n",
    "import os\n",
    "from langchain_community.vectorstores import FAISS\n",
    "from langchain_openai import OpenAIEmbeddings\n",
    "\n",
    "import sys\n",
    "sys.path.append('../../')  # replace with the actual path\n",
    "import lib.key_param as key_param\n",
    "import lib.Utils as utils"
   ]
  },
  {
   "cell_type": "markdown",
   "source": [
    "### Load the Document"
   ],
   "metadata": {
    "collapsed": false
   },
   "id": "d2dadbbc8b61397e"
  },
  {
   "cell_type": "code",
   "outputs": [
    {
     "name": "stderr",
     "output_type": "stream",
     "text": [
      "Advanced encoding /SymbolSetEncoding not implemented yet\n",
      "Advanced encoding /SymbolSetEncoding not implemented yet\n",
      "Advanced encoding /SymbolSetEncoding not implemented yet\n",
      "Advanced encoding /SymbolSetEncoding not implemented yet\n",
      "Advanced encoding /SymbolSetEncoding not implemented yet\n",
      "Advanced encoding /SymbolSetEncoding not implemented yet\n",
      "Advanced encoding /SymbolSetEncoding not implemented yet\n",
      "Advanced encoding /SymbolSetEncoding not implemented yet\n",
      "Advanced encoding /SymbolSetEncoding not implemented yet\n",
      "Advanced encoding /SymbolSetEncoding not implemented yet\n",
      "Advanced encoding /SymbolSetEncoding not implemented yet\n",
      "Advanced encoding /SymbolSetEncoding not implemented yet\n",
      "Advanced encoding /SymbolSetEncoding not implemented yet\n",
      "Advanced encoding /SymbolSetEncoding not implemented yet\n",
      "Advanced encoding /SymbolSetEncoding not implemented yet\n",
      "Advanced encoding /SymbolSetEncoding not implemented yet\n",
      "Advanced encoding /SymbolSetEncoding not implemented yet\n",
      "Advanced encoding /SymbolSetEncoding not implemented yet\n",
      "Advanced encoding /SymbolSetEncoding not implemented yet\n",
      "Advanced encoding /SymbolSetEncoding not implemented yet\n",
      "Advanced encoding /SymbolSetEncoding not implemented yet\n",
      "Advanced encoding /SymbolSetEncoding not implemented yet\n",
      "Advanced encoding /SymbolSetEncoding not implemented yet\n",
      "Advanced encoding /SymbolSetEncoding not implemented yet\n",
      "Advanced encoding /SymbolSetEncoding not implemented yet\n",
      "Advanced encoding /SymbolSetEncoding not implemented yet\n",
      "Advanced encoding /SymbolSetEncoding not implemented yet\n",
      "Advanced encoding /SymbolSetEncoding not implemented yet\n",
      "Advanced encoding /SymbolSetEncoding not implemented yet\n",
      "Advanced encoding /SymbolSetEncoding not implemented yet\n",
      "Advanced encoding /SymbolSetEncoding not implemented yet\n",
      "Advanced encoding /SymbolSetEncoding not implemented yet\n",
      "Advanced encoding /SymbolSetEncoding not implemented yet\n",
      "Advanced encoding /SymbolSetEncoding not implemented yet\n",
      "Advanced encoding /SymbolSetEncoding not implemented yet\n",
      "Advanced encoding /SymbolSetEncoding not implemented yet\n",
      "Advanced encoding /SymbolSetEncoding not implemented yet\n",
      "Advanced encoding /SymbolSetEncoding not implemented yet\n",
      "Advanced encoding /SymbolSetEncoding not implemented yet\n",
      "Advanced encoding /SymbolSetEncoding not implemented yet\n",
      "Advanced encoding /SymbolSetEncoding not implemented yet\n",
      "Advanced encoding /SymbolSetEncoding not implemented yet\n",
      "Advanced encoding /SymbolSetEncoding not implemented yet\n",
      "Advanced encoding /SymbolSetEncoding not implemented yet\n",
      "Advanced encoding /SymbolSetEncoding not implemented yet\n",
      "Advanced encoding /SymbolSetEncoding not implemented yet\n"
     ]
    }
   ],
   "source": [
    "from langchain_community.document_loaders import PyPDFLoader\n",
    "\n",
    "loader = PyPDFLoader(\"../../sample_files/7cc24bccf34a87a9bc817fe89e320a112a9cec26b9c5db7250e1cef7dc06eff0.pdf\")\n",
    "pages = loader.load_and_split()"
   ],
   "metadata": {
    "collapsed": false,
    "ExecuteTime": {
     "end_time": "2024-05-02T18:02:50.728991Z",
     "start_time": "2024-05-02T18:02:40.598091Z"
    }
   },
   "id": "746352af7708f01",
   "execution_count": 2
  },
  {
   "cell_type": "code",
   "outputs": [
    {
     "name": "stdout",
     "output_type": "stream",
     "text": [
      "3\n",
      "AdoptedThe European Data Protection Board\n",
      "Having regard to Article 70 (1 )(e) of the Regulation 20\n"
     ]
    }
   ],
   "source": [
    "chunk1 = pages[2].page_content\n",
    "print(chunk1[0:100])"
   ],
   "metadata": {
    "collapsed": false,
    "ExecuteTime": {
     "end_time": "2024-05-02T18:02:50.732704Z",
     "start_time": "2024-05-02T18:02:50.730013Z"
    }
   },
   "id": "8d8909982d48acb8",
   "execution_count": 3
  },
  {
   "cell_type": "markdown",
   "source": [
    "## Split"
   ],
   "metadata": {
    "collapsed": false
   },
   "id": "df209ab4416cddcf"
  },
  {
   "cell_type": "code",
   "outputs": [],
   "source": [
    "text_splitter = RecursiveCharacterTextSplitter(chunk_size=1000, chunk_overlap=200)\n",
    "splits = text_splitter.split_documents(pages)"
   ],
   "metadata": {
    "collapsed": false,
    "ExecuteTime": {
     "end_time": "2024-05-02T18:02:50.739275Z",
     "start_time": "2024-05-02T18:02:50.735028Z"
    }
   },
   "id": "d88f5dead04ff72f",
   "execution_count": 4
  },
  {
   "cell_type": "markdown",
   "source": [
    "### Embeddings"
   ],
   "metadata": {
    "collapsed": false
   },
   "id": "92f2a2f1ccb9e75c"
  },
  {
   "cell_type": "code",
   "outputs": [],
   "source": [
    "from langchain_community.embeddings import OllamaEmbeddings\n",
    "\n",
    "embeddings = OllamaEmbeddings(model=\"nomic-embed-text\")"
   ],
   "metadata": {
    "collapsed": false,
    "ExecuteTime": {
     "end_time": "2024-05-02T18:11:58.432020Z",
     "start_time": "2024-05-02T18:11:58.420050Z"
    }
   },
   "id": "3d00de80be7e196d",
   "execution_count": 12
  },
  {
   "cell_type": "code",
   "outputs": [],
   "source": [
    "vectorstore = Chroma.from_documents(documents=splits, \n",
    "                                    embedding=embeddings)\n",
    "\n",
    "retriever = vectorstore.as_retriever()"
   ],
   "metadata": {
    "collapsed": false,
    "ExecuteTime": {
     "end_time": "2024-05-02T18:12:06.613037Z",
     "start_time": "2024-05-02T18:11:59.377232Z"
    }
   },
   "id": "8e237f47f56afc41",
   "execution_count": 13
  },
  {
   "cell_type": "markdown",
   "source": [
    "### Retrieval and Generation"
   ],
   "metadata": {
    "collapsed": false
   },
   "id": "7459f7b8f477604a"
  },
  {
   "cell_type": "code",
   "outputs": [],
   "source": [
    "from langchain.prompts import ChatPromptTemplate\n",
    "\n",
    "# from langchain import hub\n",
    "# prompt = hub.pull(\"usctrojan/in-house-legal\")\n",
    "\n",
    "# Prompt\n",
    "template_rag = \"\"\"System Message:\n",
    "\n",
    "You are a privacy consultant for a marketing company that operate internationally. Provide your legal advice based on the context.\n",
    "\n",
    "Context: {context}\n",
    "\n",
    "Question: {question}\n",
    "\"\"\"\n",
    "\n",
    "prompt_rag = ChatPromptTemplate.from_template(template_rag)"
   ],
   "metadata": {
    "collapsed": false,
    "ExecuteTime": {
     "end_time": "2024-05-02T18:12:27.870036Z",
     "start_time": "2024-05-02T18:12:27.838176Z"
    }
   },
   "id": "5bbd18b533974f2e",
   "execution_count": 14
  },
  {
   "cell_type": "code",
   "outputs": [
    {
     "name": "stdout",
     "output_type": "stream",
     "text": [
      "================================\u001B[1m Human Message \u001B[0m=================================\n",
      "\n",
      "System Message:\n",
      "\n",
      "You are a privacy consultant for a marketing company that operate internationally. Provide your legal advice based on the context.\n",
      "\n",
      "Context: \u001B[33;1m\u001B[1;3m{context}\u001B[0m\n",
      "\n",
      "Question: \u001B[33;1m\u001B[1;3m{question}\u001B[0m\n"
     ]
    }
   ],
   "source": [
    "prompt_rag.pretty_print()"
   ],
   "metadata": {
    "collapsed": false,
    "ExecuteTime": {
     "end_time": "2024-05-02T18:12:35.588900Z",
     "start_time": "2024-05-02T18:12:35.553228Z"
    }
   },
   "id": "73f0eeb95f4246b6",
   "execution_count": 15
  },
  {
   "cell_type": "markdown",
   "source": [
    "### Model Selections"
   ],
   "metadata": {
    "collapsed": false
   },
   "id": "5e155723c2f58628"
  },
  {
   "cell_type": "code",
   "outputs": [],
   "source": [
    "from langchain_community.llms import Ollama\n",
    "\n",
    "llm = Ollama(model=\"phi3\")"
   ],
   "metadata": {
    "collapsed": false,
    "ExecuteTime": {
     "end_time": "2024-05-02T18:17:24.993524Z",
     "start_time": "2024-05-02T18:17:24.984058Z"
    }
   },
   "id": "42291040c5eeed14",
   "execution_count": 24
  },
  {
   "cell_type": "markdown",
   "source": [
    "### Post-Processing"
   ],
   "metadata": {
    "collapsed": false
   },
   "id": "c8c1f47300f80c0a"
  },
  {
   "cell_type": "code",
   "outputs": [],
   "source": [
    "def format_docs(docs):\n",
    "    return \"\\n\\n\".join(doc.page_content for doc in docs)"
   ],
   "metadata": {
    "collapsed": false,
    "ExecuteTime": {
     "end_time": "2024-05-02T18:17:26.283164Z",
     "start_time": "2024-05-02T18:17:26.257399Z"
    }
   },
   "id": "30b6292a8987360",
   "execution_count": 25
  },
  {
   "cell_type": "markdown",
   "source": [
    "### Chain"
   ],
   "metadata": {
    "collapsed": false
   },
   "id": "f367e3c4f919ee26"
  },
  {
   "cell_type": "code",
   "outputs": [],
   "source": [
    "rag_chain = (\n",
    "    {\"context\": retriever | format_docs, \"question\": RunnablePassthrough()}\n",
    "    | prompt_rag\n",
    "    | llm\n",
    "    | StrOutputParser()\n",
    ")"
   ],
   "metadata": {
    "collapsed": false,
    "ExecuteTime": {
     "end_time": "2024-05-02T18:17:27.760603Z",
     "start_time": "2024-05-02T18:17:27.740826Z"
    }
   },
   "id": "58c4febd2a47b9af",
   "execution_count": 26
  },
  {
   "cell_type": "code",
   "outputs": [],
   "source": [
    "# 1 (bad) - what is the edpb position in relation to the one-stop shop mechanism?\n",
    "# 1.2 (good) - What is the EDPB position in relation to the one stop shop mechanism provided by article 52 of the GDPR in the context of the of geographical scope of application of the GDPR (art. 3.2), so called targeting?\n",
    "#     -- (art. 56 is the correct one)\n",
    "\n",
    "output_rag = rag_chain.invoke(\"In the context of the material scope of application of GDPR, what is the edpb position in relation to the one-stop shop mechanism?\")"
   ],
   "metadata": {
    "collapsed": false,
    "ExecuteTime": {
     "end_time": "2024-05-02T18:18:09.464981Z",
     "start_time": "2024-05-02T18:17:29.225032Z"
    }
   },
   "id": "3ef43d3c91f629cc",
   "execution_count": 27
  },
  {
   "cell_type": "code",
   "outputs": [
    {
     "name": "stdout",
     "output_type": "stream",
     "text": [
      "--- RAG ---\n",
      "\n",
      "As a privacy consultant for your marketing company, based on the provided context regarding the territorial scope of the General Data Protection Regulation (GDPR) and related guidelines by the European Data Protection Board (EDPB), my legal advice is as follows:\n",
      "\n",
      "\n",
      "The EDPB recognizes the one-stop shop mechanism under Article 25(3) GDPR, which allows a single supervisory authority to be responsible for overseeing an organization's data protection activities across multiple Member States if its core establishment and substantial parts of its activities are located in that particular state. This means:\n",
      "\n",
      "1. If your company has both controllers and processors operating within the EU, but with a significant presence (core establishment) primarily in one Member State where it also conducts most of its processing operations, you will likely benefit from engaging just one Supervisory Authority to handle all GDPR-related matters related to that central hub.\n",
      "\n",
      "2. However, if your company has separate entities or subsidiaries across different EU countries with no significant presence in a single Member State (core establishment), each entity might be required to interact with the relevant Data Protection Authorities (DPAs) in their respective jurisdictions. \n",
      "ranks.\n",
      "\n",
      "It's crucial for your company to conduct an accurate assessment of its data processing activities and determine which authority(ies) will have primary responsibility under the one-stop shop mechanism. This decision should also be informed by other relevant factors, such as:\n",
      "\n",
      "- The location of users or data subjects (data subjects in different Member States may trigger separate jurisdiction).\n",
      "\n",
      "- Nature and scope of processing activities across Member States.\n",
      "\n",
      "\n",
      "Ensure that you stay updated on guidance from the EDPB regarding the one-stop shop mechanism to ensure full compliance with GDPR requirements. 100\n"
     ]
    }
   ],
   "source": [
    "print(\"--- RAG ---\\n\")\n",
    "print(output_rag, 100)"
   ],
   "metadata": {
    "collapsed": false,
    "ExecuteTime": {
     "end_time": "2024-05-02T18:18:52.150699Z",
     "start_time": "2024-05-02T18:18:52.141049Z"
    }
   },
   "id": "b8e0159f36d49dcf",
   "execution_count": 29
  }
 ],
 "metadata": {
  "kernelspec": {
   "display_name": "Python 3",
   "language": "python",
   "name": "python3"
  },
  "language_info": {
   "codemirror_mode": {
    "name": "ipython",
    "version": 2
   },
   "file_extension": ".py",
   "mimetype": "text/x-python",
   "name": "python",
   "nbconvert_exporter": "python",
   "pygments_lexer": "ipython2",
   "version": "2.7.6"
  }
 },
 "nbformat": 4,
 "nbformat_minor": 5
}
