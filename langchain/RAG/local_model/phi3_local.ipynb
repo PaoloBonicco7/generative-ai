{
 "cells": [
  {
   "cell_type": "markdown",
   "metadata": {},
   "source": [
    "# Test Phi-3 on local machine"
   ]
  },
  {
   "cell_type": "markdown",
   "metadata": {},
   "source": [
    "Downlaod the model with ollama"
   ]
  },
  {
   "cell_type": "code",
   "execution_count": 2,
   "metadata": {
    "ExecuteTime": {
     "end_time": "2024-05-02T18:17:08.318717Z",
     "start_time": "2024-05-02T18:17:05.581367Z"
    }
   },
   "outputs": [
    {
     "name": "stdout",
     "output_type": "stream",
     "text": [
      "\u001B[?25lpulling manifest ⠋ \u001B[?25h\u001B[?25l\u001B[2K\u001B[1Gpulling manifest ⠙ \u001B[?25h\u001B[?25l\u001B[2K\u001B[1Gpulling manifest ⠹ \u001B[?25h\u001B[?25l\u001B[2K\u001B[1Gpulling manifest ⠸ \u001B[?25h\u001B[?25l\u001B[2K\u001B[1Gpulling manifest ⠼ \u001B[?25h\u001B[?25l\u001B[2K\u001B[1Gpulling manifest ⠴ \u001B[?25h\u001B[?25l\u001B[2K\u001B[1Gpulling manifest ⠦ \u001B[?25h\u001B[?25l\u001B[2K\u001B[1Gpulling manifest ⠧ \u001B[?25h\u001B[?25l\u001B[2K\u001B[1Gpulling manifest \r\n",
      "pulling 4fed7364ee3e... 100% ▕████████████████▏ 2.3 GB                         \r\n",
      "pulling c608dc615584... 100% ▕████████████████▏  149 B                         \r\n",
      "pulling fa8235e5b48f... 100% ▕████████████████▏ 1.1 KB                         \r\n",
      "pulling d47ab88b61ba... 100% ▕████████████████▏  140 B                         \r\n",
      "pulling f7eda1da5a81... 100% ▕████████████████▏  485 B                         \r\n",
      "verifying sha256 digest ⠋ \u001B[?25h\u001B[?25l\u001B[2K\u001B[1G\u001B[A\u001B[2K\u001B[1G\u001B[A\u001B[2K\u001B[1G\u001B[A\u001B[2K\u001B[1G\u001B[A\u001B[2K\u001B[1G\u001B[A\u001B[2K\u001B[1G\u001B[A\u001B[2K\u001B[1Gpulling manifest \r\n",
      "pulling 4fed7364ee3e... 100% ▕████████████████▏ 2.3 GB                         \r\n",
      "pulling c608dc615584... 100% ▕████████████████▏  149 B                         \r\n",
      "pulling fa8235e5b48f... 100% ▕████████████████▏ 1.1 KB                         \r\n",
      "pulling d47ab88b61ba... 100% ▕████████████████▏  140 B                         \r\n",
      "pulling f7eda1da5a81... 100% ▕████████████████▏  485 B                         \r\n",
      "verifying sha256 digest ⠙ \u001B[?25h\u001B[?25l\u001B[2K\u001B[1G\u001B[A\u001B[2K\u001B[1G\u001B[A\u001B[2K\u001B[1G\u001B[A\u001B[2K\u001B[1G\u001B[A\u001B[2K\u001B[1G\u001B[A\u001B[2K\u001B[1G\u001B[A\u001B[2K\u001B[1Gpulling manifest \r\n",
      "pulling 4fed7364ee3e... 100% ▕████████████████▏ 2.3 GB                         \r\n",
      "pulling c608dc615584... 100% ▕████████████████▏  149 B                         \r\n",
      "pulling fa8235e5b48f... 100% ▕████████████████▏ 1.1 KB                         \r\n",
      "pulling d47ab88b61ba... 100% ▕████████████████▏  140 B                         \r\n",
      "pulling f7eda1da5a81... 100% ▕████████████████▏  485 B                         \r\n",
      "verifying sha256 digest ⠹ \u001B[?25h\u001B[?25l\u001B[2K\u001B[1G\u001B[A\u001B[2K\u001B[1G\u001B[A\u001B[2K\u001B[1G\u001B[A\u001B[2K\u001B[1G\u001B[A\u001B[2K\u001B[1G\u001B[A\u001B[2K\u001B[1G\u001B[A\u001B[2K\u001B[1Gpulling manifest \r\n",
      "pulling 4fed7364ee3e... 100% ▕████████████████▏ 2.3 GB                         \r\n",
      "pulling c608dc615584... 100% ▕████████████████▏  149 B                         \r\n",
      "pulling fa8235e5b48f... 100% ▕████████████████▏ 1.1 KB                         \r\n",
      "pulling d47ab88b61ba... 100% ▕████████████████▏  140 B                         \r\n",
      "pulling f7eda1da5a81... 100% ▕████████████████▏  485 B                         \r\n",
      "verifying sha256 digest ⠸ \u001B[?25h\u001B[?25l\u001B[2K\u001B[1G\u001B[A\u001B[2K\u001B[1G\u001B[A\u001B[2K\u001B[1G\u001B[A\u001B[2K\u001B[1G\u001B[A\u001B[2K\u001B[1G\u001B[A\u001B[2K\u001B[1G\u001B[A\u001B[2K\u001B[1Gpulling manifest \r\n",
      "pulling 4fed7364ee3e... 100% ▕████████████████▏ 2.3 GB                         \r\n",
      "pulling c608dc615584... 100% ▕████████████████▏  149 B                         \r\n",
      "pulling fa8235e5b48f... 100% ▕████████████████▏ 1.1 KB                         \r\n",
      "pulling d47ab88b61ba... 100% ▕████████████████▏  140 B                         \r\n",
      "pulling f7eda1da5a81... 100% ▕████████████████▏  485 B                         \r\n",
      "verifying sha256 digest ⠼ \u001B[?25h\u001B[?25l\u001B[2K\u001B[1G\u001B[A\u001B[2K\u001B[1G\u001B[A\u001B[2K\u001B[1G\u001B[A\u001B[2K\u001B[1G\u001B[A\u001B[2K\u001B[1G\u001B[A\u001B[2K\u001B[1G\u001B[A\u001B[2K\u001B[1Gpulling manifest \r\n",
      "pulling 4fed7364ee3e... 100% ▕████████████████▏ 2.3 GB                         \r\n",
      "pulling c608dc615584... 100% ▕████████████████▏  149 B                         \r\n",
      "pulling fa8235e5b48f... 100% ▕████████████████▏ 1.1 KB                         \r\n",
      "pulling d47ab88b61ba... 100% ▕████████████████▏  140 B                         \r\n",
      "pulling f7eda1da5a81... 100% ▕████████████████▏  485 B                         \r\n",
      "verifying sha256 digest ⠴ \u001B[?25h\u001B[?25l\u001B[2K\u001B[1G\u001B[A\u001B[2K\u001B[1G\u001B[A\u001B[2K\u001B[1G\u001B[A\u001B[2K\u001B[1G\u001B[A\u001B[2K\u001B[1G\u001B[A\u001B[2K\u001B[1G\u001B[A\u001B[2K\u001B[1Gpulling manifest \r\n",
      "pulling 4fed7364ee3e... 100% ▕████████████████▏ 2.3 GB                         \r\n",
      "pulling c608dc615584... 100% ▕████████████████▏  149 B                         \r\n",
      "pulling fa8235e5b48f... 100% ▕████████████████▏ 1.1 KB                         \r\n",
      "pulling d47ab88b61ba... 100% ▕████████████████▏  140 B                         \r\n",
      "pulling f7eda1da5a81... 100% ▕████████████████▏  485 B                         \r\n",
      "verifying sha256 digest ⠦ \u001B[?25h\u001B[?25l\u001B[2K\u001B[1G\u001B[A\u001B[2K\u001B[1G\u001B[A\u001B[2K\u001B[1G\u001B[A\u001B[2K\u001B[1G\u001B[A\u001B[2K\u001B[1G\u001B[A\u001B[2K\u001B[1G\u001B[A\u001B[2K\u001B[1Gpulling manifest \r\n",
      "pulling 4fed7364ee3e... 100% ▕████████████████▏ 2.3 GB                         \r\n",
      "pulling c608dc615584... 100% ▕████████████████▏  149 B                         \r\n",
      "pulling fa8235e5b48f... 100% ▕████████████████▏ 1.1 KB                         \r\n",
      "pulling d47ab88b61ba... 100% ▕████████████████▏  140 B                         \r\n",
      "pulling f7eda1da5a81... 100% ▕████████████████▏  485 B                         \r\n",
      "verifying sha256 digest ⠧ \u001B[?25h\u001B[?25l\u001B[2K\u001B[1G\u001B[A\u001B[2K\u001B[1G\u001B[A\u001B[2K\u001B[1G\u001B[A\u001B[2K\u001B[1G\u001B[A\u001B[2K\u001B[1G\u001B[A\u001B[2K\u001B[1G\u001B[A\u001B[2K\u001B[1Gpulling manifest \r\n",
      "pulling 4fed7364ee3e... 100% ▕████████████████▏ 2.3 GB                         \r\n",
      "pulling c608dc615584... 100% ▕████████████████▏  149 B                         \r\n",
      "pulling fa8235e5b48f... 100% ▕████████████████▏ 1.1 KB                         \r\n",
      "pulling d47ab88b61ba... 100% ▕████████████████▏  140 B                         \r\n",
      "pulling f7eda1da5a81... 100% ▕████████████████▏  485 B                         \r\n",
      "verifying sha256 digest ⠇ \u001B[?25h\u001B[?25l\u001B[2K\u001B[1G\u001B[A\u001B[2K\u001B[1G\u001B[A\u001B[2K\u001B[1G\u001B[A\u001B[2K\u001B[1G\u001B[A\u001B[2K\u001B[1G\u001B[A\u001B[2K\u001B[1G\u001B[A\u001B[2K\u001B[1Gpulling manifest \r\n",
      "pulling 4fed7364ee3e... 100% ▕████████████████▏ 2.3 GB                         \r\n",
      "pulling c608dc615584... 100% ▕████████████████▏  149 B                         \r\n",
      "pulling fa8235e5b48f... 100% ▕████████████████▏ 1.1 KB                         \r\n",
      "pulling d47ab88b61ba... 100% ▕████████████████▏  140 B                         \r\n",
      "pulling f7eda1da5a81... 100% ▕████████████████▏  485 B                         \r\n",
      "verifying sha256 digest ⠏ \u001B[?25h\u001B[?25l\u001B[2K\u001B[1G\u001B[A\u001B[2K\u001B[1G\u001B[A\u001B[2K\u001B[1G\u001B[A\u001B[2K\u001B[1G\u001B[A\u001B[2K\u001B[1G\u001B[A\u001B[2K\u001B[1G\u001B[A\u001B[2K\u001B[1Gpulling manifest \r\n",
      "pulling 4fed7364ee3e... 100% ▕████████████████▏ 2.3 GB                         \r\n",
      "pulling c608dc615584... 100% ▕████████████████▏  149 B                         \r\n",
      "pulling fa8235e5b48f... 100% ▕████████████████▏ 1.1 KB                         \r\n",
      "pulling d47ab88b61ba... 100% ▕████████████████▏  140 B                         \r\n",
      "pulling f7eda1da5a81... 100% ▕████████████████▏  485 B                         \r\n",
      "verifying sha256 digest ⠋ \u001B[?25h\u001B[?25l\u001B[2K\u001B[1G\u001B[A\u001B[2K\u001B[1G\u001B[A\u001B[2K\u001B[1G\u001B[A\u001B[2K\u001B[1G\u001B[A\u001B[2K\u001B[1G\u001B[A\u001B[2K\u001B[1G\u001B[A\u001B[2K\u001B[1Gpulling manifest \r\n",
      "pulling 4fed7364ee3e... 100% ▕████████████████▏ 2.3 GB                         \r\n",
      "pulling c608dc615584... 100% ▕████████████████▏  149 B                         \r\n",
      "pulling fa8235e5b48f... 100% ▕████████████████▏ 1.1 KB                         \r\n",
      "pulling d47ab88b61ba... 100% ▕████████████████▏  140 B                         \r\n",
      "pulling f7eda1da5a81... 100% ▕████████████████▏  485 B                         \r\n",
      "verifying sha256 digest ⠙ \u001B[?25h\u001B[?25l\u001B[2K\u001B[1G\u001B[A\u001B[2K\u001B[1G\u001B[A\u001B[2K\u001B[1G\u001B[A\u001B[2K\u001B[1G\u001B[A\u001B[2K\u001B[1G\u001B[A\u001B[2K\u001B[1G\u001B[A\u001B[2K\u001B[1Gpulling manifest \r\n",
      "pulling 4fed7364ee3e... 100% ▕████████████████▏ 2.3 GB                         \r\n",
      "pulling c608dc615584... 100% ▕████████████████▏  149 B                         \r\n",
      "pulling fa8235e5b48f... 100% ▕████████████████▏ 1.1 KB                         \r\n",
      "pulling d47ab88b61ba... 100% ▕████████████████▏  140 B                         \r\n",
      "pulling f7eda1da5a81... 100% ▕████████████████▏  485 B                         \r\n",
      "verifying sha256 digest ⠹ \u001B[?25h\u001B[?25l\u001B[2K\u001B[1G\u001B[A\u001B[2K\u001B[1G\u001B[A\u001B[2K\u001B[1G\u001B[A\u001B[2K\u001B[1G\u001B[A\u001B[2K\u001B[1G\u001B[A\u001B[2K\u001B[1G\u001B[A\u001B[2K\u001B[1Gpulling manifest \r\n",
      "pulling 4fed7364ee3e... 100% ▕████████████████▏ 2.3 GB                         \r\n",
      "pulling c608dc615584... 100% ▕████████████████▏  149 B                         \r\n",
      "pulling fa8235e5b48f... 100% ▕████████████████▏ 1.1 KB                         \r\n",
      "pulling d47ab88b61ba... 100% ▕████████████████▏  140 B                         \r\n",
      "pulling f7eda1da5a81... 100% ▕████████████████▏  485 B                         \r\n",
      "verifying sha256 digest ⠸ \u001B[?25h\u001B[?25l\u001B[2K\u001B[1G\u001B[A\u001B[2K\u001B[1G\u001B[A\u001B[2K\u001B[1G\u001B[A\u001B[2K\u001B[1G\u001B[A\u001B[2K\u001B[1G\u001B[A\u001B[2K\u001B[1G\u001B[A\u001B[2K\u001B[1Gpulling manifest \r\n",
      "pulling 4fed7364ee3e... 100% ▕████████████████▏ 2.3 GB                         \r\n",
      "pulling c608dc615584... 100% ▕████████████████▏  149 B                         \r\n",
      "pulling fa8235e5b48f... 100% ▕████████████████▏ 1.1 KB                         \r\n",
      "pulling d47ab88b61ba... 100% ▕████████████████▏  140 B                         \r\n",
      "pulling f7eda1da5a81... 100% ▕████████████████▏  485 B                         \r\n",
      "verifying sha256 digest ⠼ \u001B[?25h\u001B[?25l\u001B[2K\u001B[1G\u001B[A\u001B[2K\u001B[1G\u001B[A\u001B[2K\u001B[1G\u001B[A\u001B[2K\u001B[1G\u001B[A\u001B[2K\u001B[1G\u001B[A\u001B[2K\u001B[1G\u001B[A\u001B[2K\u001B[1Gpulling manifest \r\n",
      "pulling 4fed7364ee3e... 100% ▕████████████████▏ 2.3 GB                         \r\n",
      "pulling c608dc615584... 100% ▕████████████████▏  149 B                         \r\n",
      "pulling fa8235e5b48f... 100% ▕████████████████▏ 1.1 KB                         \r\n",
      "pulling d47ab88b61ba... 100% ▕████████████████▏  140 B                         \r\n",
      "pulling f7eda1da5a81... 100% ▕████████████████▏  485 B                         \r\n",
      "verifying sha256 digest ⠴ \u001B[?25h\u001B[?25l\u001B[2K\u001B[1G\u001B[A\u001B[2K\u001B[1G\u001B[A\u001B[2K\u001B[1G\u001B[A\u001B[2K\u001B[1G\u001B[A\u001B[2K\u001B[1G\u001B[A\u001B[2K\u001B[1G\u001B[A\u001B[2K\u001B[1Gpulling manifest \r\n",
      "pulling 4fed7364ee3e... 100% ▕████████████████▏ 2.3 GB                         \r\n",
      "pulling c608dc615584... 100% ▕████████████████▏  149 B                         \r\n",
      "pulling fa8235e5b48f... 100% ▕████████████████▏ 1.1 KB                         \r\n",
      "pulling d47ab88b61ba... 100% ▕████████████████▏  140 B                         \r\n",
      "pulling f7eda1da5a81... 100% ▕████████████████▏  485 B                         \r\n",
      "verifying sha256 digest \r\n",
      "writing manifest \r\n",
      "removing any unused layers \r\n",
      "success \u001B[?25h\r\n"
     ]
    }
   ],
   "source": [
    "!ollama pull phi3"
   ]
  },
  {
   "cell_type": "markdown",
   "metadata": {},
   "source": [
    "Test it"
   ]
  },
  {
   "cell_type": "code",
   "execution_count": 1,
   "metadata": {
    "ExecuteTime": {
     "end_time": "2024-05-02T18:16:36.577869Z",
     "start_time": "2024-05-02T18:16:27.142553Z"
    }
   },
   "outputs": [
    {
     "data": {
      "text/plain": "\"Why don't scientists trust atoms? Because they make up everything!\\n\\n(Note: Humor can be subjective and it's important to ensure that jokes are inclusive and respectful. The above is presented in good fun, but always consider the audience.)<|end|><|endoftext|>\""
     },
     "execution_count": 1,
     "metadata": {},
     "output_type": "execute_result"
    }
   ],
   "source": [
    "from langchain_community.llms import Ollama\n",
    "\n",
    "llm = Ollama(model=\"phi3\")\n",
    "\n",
    "llm.invoke(\"Tell me a joke\",stop=['<|eot_id|>'])"
   ]
  }
 ],
 "metadata": {
  "kernelspec": {
   "display_name": ".venv",
   "language": "python",
   "name": "python3"
  },
  "language_info": {
   "codemirror_mode": {
    "name": "ipython",
    "version": 3
   },
   "file_extension": ".py",
   "mimetype": "text/x-python",
   "name": "python",
   "nbconvert_exporter": "python",
   "pygments_lexer": "ipython3",
   "version": "3.11.3"
  }
 },
 "nbformat": 4,
 "nbformat_minor": 2
}
