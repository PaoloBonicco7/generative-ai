{
 "cells": [
  {
   "cell_type": "markdown",
   "metadata": {},
   "source": [
    "# Using Llama API"
   ]
  },
  {
   "cell_type": "markdown",
   "metadata": {},
   "source": [
    "### Install"
   ]
  },
  {
   "cell_type": "code",
   "execution_count": 10,
   "metadata": {},
   "outputs": [
    {
     "name": "stdout",
     "output_type": "stream",
     "text": [
      "Requirement already satisfied: llamaapi in /Users/paolobonicco/Projects/LLM/generative-ai/.venv/lib/python3.11/site-packages (0.1.36)\n",
      "Requirement already satisfied: aiohttp<4.0.0,>=3.8.5 in /Users/paolobonicco/Projects/LLM/generative-ai/.venv/lib/python3.11/site-packages (from llamaapi) (3.9.3)\n",
      "Requirement already satisfied: nest-asyncio<2.0.0,>=1.5.6 in /Users/paolobonicco/Projects/LLM/generative-ai/.venv/lib/python3.11/site-packages (from llamaapi) (1.5.6)\n",
      "Requirement already satisfied: requests<3.0.0,>=2.27.1 in /Users/paolobonicco/Projects/LLM/generative-ai/.venv/lib/python3.11/site-packages (from llamaapi) (2.31.0)\n",
      "Requirement already satisfied: aiosignal>=1.1.2 in /Users/paolobonicco/Projects/LLM/generative-ai/.venv/lib/python3.11/site-packages (from aiohttp<4.0.0,>=3.8.5->llamaapi) (1.3.1)\n",
      "Requirement already satisfied: attrs>=17.3.0 in /Users/paolobonicco/Projects/LLM/generative-ai/.venv/lib/python3.11/site-packages (from aiohttp<4.0.0,>=3.8.5->llamaapi) (23.1.0)\n",
      "Requirement already satisfied: frozenlist>=1.1.1 in /Users/paolobonicco/Projects/LLM/generative-ai/.venv/lib/python3.11/site-packages (from aiohttp<4.0.0,>=3.8.5->llamaapi) (1.4.1)\n",
      "Requirement already satisfied: multidict<7.0,>=4.5 in /Users/paolobonicco/Projects/LLM/generative-ai/.venv/lib/python3.11/site-packages (from aiohttp<4.0.0,>=3.8.5->llamaapi) (6.0.5)\n",
      "Requirement already satisfied: yarl<2.0,>=1.0 in /Users/paolobonicco/Projects/LLM/generative-ai/.venv/lib/python3.11/site-packages (from aiohttp<4.0.0,>=3.8.5->llamaapi) (1.9.4)\n",
      "Requirement already satisfied: charset-normalizer<4,>=2 in /Users/paolobonicco/Projects/LLM/generative-ai/.venv/lib/python3.11/site-packages (from requests<3.0.0,>=2.27.1->llamaapi) (3.3.2)\n",
      "Requirement already satisfied: idna<4,>=2.5 in /Users/paolobonicco/Projects/LLM/generative-ai/.venv/lib/python3.11/site-packages (from requests<3.0.0,>=2.27.1->llamaapi) (3.4)\n",
      "Requirement already satisfied: urllib3<3,>=1.21.1 in /Users/paolobonicco/Projects/LLM/generative-ai/.venv/lib/python3.11/site-packages (from requests<3.0.0,>=2.27.1->llamaapi) (2.2.0)\n",
      "Requirement already satisfied: certifi>=2017.4.17 in /Users/paolobonicco/Projects/LLM/generative-ai/.venv/lib/python3.11/site-packages (from requests<3.0.0,>=2.27.1->llamaapi) (2024.2.2)\n",
      "Note: you may need to restart the kernel to use updated packages.\n"
     ]
    }
   ],
   "source": [
    "pip install llamaapi"
   ]
  },
  {
   "cell_type": "markdown",
   "metadata": {},
   "source": [
    "### Code"
   ]
  },
  {
   "cell_type": "code",
   "execution_count": 11,
   "metadata": {},
   "outputs": [],
   "source": [
    "import json\n",
    "from llamaapi import LlamaAPI\n",
    "import sys\n",
    "sys.path.append('..')  # replace with the actual path\n",
    "import lib.key_param as key_param\n",
    "\n",
    "# Initialize the SDK\n",
    "llama = LlamaAPI(key_param.LLAMA_API_KEY)"
   ]
  },
  {
   "cell_type": "code",
   "execution_count": 12,
   "metadata": {},
   "outputs": [],
   "source": [
    "# pip install langchain_experimental"
   ]
  },
  {
   "cell_type": "code",
   "execution_count": 13,
   "metadata": {},
   "outputs": [
    {
     "ename": "SyntaxError",
     "evalue": "invalid decimal literal (2623277305.py, line 3)",
     "output_type": "error",
     "traceback": [
      "\u001b[0;36m  Cell \u001b[0;32mIn[13], line 3\u001b[0;36m\u001b[0m\n\u001b[0;31m    model = ChatLlamaAPI(client=llama3-8b)\u001b[0m\n\u001b[0m                                       ^\u001b[0m\n\u001b[0;31mSyntaxError\u001b[0m\u001b[0;31m:\u001b[0m invalid decimal literal\n"
     ]
    }
   ],
   "source": [
    "from langchain_experimental.llms import ChatLlamaAPI\n",
    "\n",
    "model = ChatLlamaAPI(client=llama3-8b)"
   ]
  },
  {
   "cell_type": "markdown",
   "metadata": {},
   "source": [
    "### Hugging Face (not working)"
   ]
  },
  {
   "cell_type": "code",
   "execution_count": 14,
   "metadata": {
    "ExecuteTime": {
     "end_time": "2024-04-30T12:54:55.548542Z",
     "start_time": "2024-04-30T12:54:55.427844Z"
    }
   },
   "outputs": [],
   "source": [
    "import requests\n",
    "import sys\n",
    "sys.path.append('../../')  # replace with the actual path\n",
    "import lib.key_param as key_param\n",
    "\n",
    "API_URL = key_param.HF_API_URL\n",
    "headers = {\"Authorization\": key_param.HF_BEARER}\n",
    "\n",
    "def query(payload):\n",
    "\tresponse = requests.post(API_URL, headers=headers, json=payload)\n",
    "\treturn response.json()\n",
    "\t\n",
    "output = query({\n",
    "\t\"inputs\": \"Can you please let us know more details about your \",\n",
    "})"
   ]
  },
  {
   "cell_type": "code",
   "execution_count": 15,
   "metadata": {},
   "outputs": [
    {
     "data": {
      "text/plain": [
       "{'error': 'The model meta-llama/Meta-Llama-3-8B is too large to be loaded automatically (16GB > 10GB). Please use Spaces (https://huggingface.co/spaces) or Inference Endpoints (https://huggingface.co/inference-endpoints).'}"
      ]
     },
     "execution_count": 15,
     "metadata": {},
     "output_type": "execute_result"
    }
   ],
   "source": [
    "output"
   ]
  }
 ],
 "metadata": {
  "kernelspec": {
   "display_name": ".venv",
   "language": "python",
   "name": "python3"
  },
  "language_info": {
   "codemirror_mode": {
    "name": "ipython",
    "version": 3
   },
   "file_extension": ".py",
   "mimetype": "text/x-python",
   "name": "python",
   "nbconvert_exporter": "python",
   "pygments_lexer": "ipython3",
   "version": "3.11.3"
  }
 },
 "nbformat": 4,
 "nbformat_minor": 2
}
