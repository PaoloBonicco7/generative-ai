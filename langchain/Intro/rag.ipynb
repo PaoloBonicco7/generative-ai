{
 "cells": [
  {
   "cell_type": "markdown",
   "metadata": {},
   "source": [
    "## MongoDB"
   ]
  },
  {
   "cell_type": "markdown",
   "metadata": {},
   "source": [
    "### Test"
   ]
  },
  {
   "cell_type": "code",
   "execution_count": 5,
   "metadata": {
    "ExecuteTime": {
     "end_time": "2024-05-02T17:18:11.376692Z",
     "start_time": "2024-05-02T17:18:07.507877Z"
    }
   },
   "outputs": [
    {
     "ename": "KeyboardInterrupt",
     "evalue": "",
     "output_type": "error",
     "traceback": [
      "\u001B[0;31m---------------------------------------------------------------------------\u001B[0m",
      "\u001B[0;31mKeyboardInterrupt\u001B[0m                         Traceback (most recent call last)",
      "Cell \u001B[0;32mIn[5], line 13\u001B[0m\n\u001B[1;32m      9\u001B[0m db \u001B[38;5;241m=\u001B[39m client\u001B[38;5;241m.\u001B[39msample_mflix\n\u001B[1;32m     11\u001B[0m collection \u001B[38;5;241m=\u001B[39m db\u001B[38;5;241m.\u001B[39mmovies\n\u001B[0;32m---> 13\u001B[0m \u001B[38;5;28mprint\u001B[39m(\u001B[43mcollection\u001B[49m\u001B[38;5;241;43m.\u001B[39;49m\u001B[43mfind_one\u001B[49m\u001B[43m(\u001B[49m\u001B[43m)\u001B[49m)\n",
      "File \u001B[0;32m/opt/homebrew/lib/python3.11/site-packages/pymongo/collection.py:1495\u001B[0m, in \u001B[0;36mCollection.find_one\u001B[0;34m(self, filter, *args, **kwargs)\u001B[0m\n\u001B[1;32m   1493\u001B[0m     \u001B[38;5;28mfilter\u001B[39m \u001B[38;5;241m=\u001B[39m {\u001B[38;5;124m\"\u001B[39m\u001B[38;5;124m_id\u001B[39m\u001B[38;5;124m\"\u001B[39m: \u001B[38;5;28mfilter\u001B[39m}\n\u001B[1;32m   1494\u001B[0m cursor \u001B[38;5;241m=\u001B[39m \u001B[38;5;28mself\u001B[39m\u001B[38;5;241m.\u001B[39mfind(\u001B[38;5;28mfilter\u001B[39m, \u001B[38;5;241m*\u001B[39margs, \u001B[38;5;241m*\u001B[39m\u001B[38;5;241m*\u001B[39mkwargs)\n\u001B[0;32m-> 1495\u001B[0m \u001B[38;5;28;01mfor\u001B[39;00m result \u001B[38;5;129;01min\u001B[39;00m cursor\u001B[38;5;241m.\u001B[39mlimit(\u001B[38;5;241m-\u001B[39m\u001B[38;5;241m1\u001B[39m):\n\u001B[1;32m   1496\u001B[0m     \u001B[38;5;28;01mreturn\u001B[39;00m result\n\u001B[1;32m   1497\u001B[0m \u001B[38;5;28;01mreturn\u001B[39;00m \u001B[38;5;28;01mNone\u001B[39;00m\n",
      "File \u001B[0;32m/opt/homebrew/lib/python3.11/site-packages/pymongo/cursor.py:1243\u001B[0m, in \u001B[0;36mCursor.next\u001B[0;34m(self)\u001B[0m\n\u001B[1;32m   1241\u001B[0m \u001B[38;5;28;01mif\u001B[39;00m \u001B[38;5;28mself\u001B[39m\u001B[38;5;241m.\u001B[39m__empty:\n\u001B[1;32m   1242\u001B[0m     \u001B[38;5;28;01mraise\u001B[39;00m \u001B[38;5;167;01mStopIteration\u001B[39;00m\n\u001B[0;32m-> 1243\u001B[0m \u001B[38;5;28;01mif\u001B[39;00m \u001B[38;5;28mlen\u001B[39m(\u001B[38;5;28mself\u001B[39m\u001B[38;5;241m.\u001B[39m__data) \u001B[38;5;129;01mor\u001B[39;00m \u001B[38;5;28;43mself\u001B[39;49m\u001B[38;5;241;43m.\u001B[39;49m\u001B[43m_refresh\u001B[49m\u001B[43m(\u001B[49m\u001B[43m)\u001B[49m:\n\u001B[1;32m   1244\u001B[0m     \u001B[38;5;28;01mreturn\u001B[39;00m \u001B[38;5;28mself\u001B[39m\u001B[38;5;241m.\u001B[39m__data\u001B[38;5;241m.\u001B[39mpopleft()\n\u001B[1;32m   1245\u001B[0m \u001B[38;5;28;01melse\u001B[39;00m:\n",
      "File \u001B[0;32m/opt/homebrew/lib/python3.11/site-packages/pymongo/cursor.py:1160\u001B[0m, in \u001B[0;36mCursor._refresh\u001B[0;34m(self)\u001B[0m\n\u001B[1;32m   1138\u001B[0m         \u001B[38;5;28;01mraise\u001B[39;00m InvalidOperation(\n\u001B[1;32m   1139\u001B[0m             \u001B[38;5;124m\"\u001B[39m\u001B[38;5;124mPassing a \u001B[39m\u001B[38;5;124m'\u001B[39m\u001B[38;5;124mhint\u001B[39m\u001B[38;5;124m'\u001B[39m\u001B[38;5;124m is required when using the min/max query\u001B[39m\u001B[38;5;124m\"\u001B[39m\n\u001B[1;32m   1140\u001B[0m             \u001B[38;5;124m\"\u001B[39m\u001B[38;5;124m option to ensure the query utilizes the correct index\u001B[39m\u001B[38;5;124m\"\u001B[39m\n\u001B[1;32m   1141\u001B[0m         )\n\u001B[1;32m   1142\u001B[0m     q \u001B[38;5;241m=\u001B[39m \u001B[38;5;28mself\u001B[39m\u001B[38;5;241m.\u001B[39m_query_class(\n\u001B[1;32m   1143\u001B[0m         \u001B[38;5;28mself\u001B[39m\u001B[38;5;241m.\u001B[39m__query_flags,\n\u001B[1;32m   1144\u001B[0m         \u001B[38;5;28mself\u001B[39m\u001B[38;5;241m.\u001B[39m__collection\u001B[38;5;241m.\u001B[39mdatabase\u001B[38;5;241m.\u001B[39mname,\n\u001B[0;32m   (...)\u001B[0m\n\u001B[1;32m   1158\u001B[0m         \u001B[38;5;28mself\u001B[39m\u001B[38;5;241m.\u001B[39m__exhaust,\n\u001B[1;32m   1159\u001B[0m     )\n\u001B[0;32m-> 1160\u001B[0m     \u001B[38;5;28;43mself\u001B[39;49m\u001B[38;5;241;43m.\u001B[39;49m\u001B[43m__send_message\u001B[49m\u001B[43m(\u001B[49m\u001B[43mq\u001B[49m\u001B[43m)\u001B[49m\n\u001B[1;32m   1161\u001B[0m \u001B[38;5;28;01melif\u001B[39;00m \u001B[38;5;28mself\u001B[39m\u001B[38;5;241m.\u001B[39m__id:  \u001B[38;5;66;03m# Get More\u001B[39;00m\n\u001B[1;32m   1162\u001B[0m     \u001B[38;5;28;01mif\u001B[39;00m \u001B[38;5;28mself\u001B[39m\u001B[38;5;241m.\u001B[39m__limit:\n",
      "File \u001B[0;32m/opt/homebrew/lib/python3.11/site-packages/pymongo/cursor.py:1039\u001B[0m, in \u001B[0;36mCursor.__send_message\u001B[0;34m(self, operation)\u001B[0m\n\u001B[1;32m   1036\u001B[0m     \u001B[38;5;28;01mraise\u001B[39;00m InvalidOperation(\u001B[38;5;124m\"\u001B[39m\u001B[38;5;124mexhaust cursors do not support auto encryption\u001B[39m\u001B[38;5;124m\"\u001B[39m)\n\u001B[1;32m   1038\u001B[0m \u001B[38;5;28;01mtry\u001B[39;00m:\n\u001B[0;32m-> 1039\u001B[0m     response \u001B[38;5;241m=\u001B[39m \u001B[43mclient\u001B[49m\u001B[38;5;241;43m.\u001B[39;49m\u001B[43m_run_operation\u001B[49m\u001B[43m(\u001B[49m\n\u001B[1;32m   1040\u001B[0m \u001B[43m        \u001B[49m\u001B[43moperation\u001B[49m\u001B[43m,\u001B[49m\u001B[43m \u001B[49m\u001B[38;5;28;43mself\u001B[39;49m\u001B[38;5;241;43m.\u001B[39;49m\u001B[43m_unpack_response\u001B[49m\u001B[43m,\u001B[49m\u001B[43m \u001B[49m\u001B[43maddress\u001B[49m\u001B[38;5;241;43m=\u001B[39;49m\u001B[38;5;28;43mself\u001B[39;49m\u001B[38;5;241;43m.\u001B[39;49m\u001B[43m__address\u001B[49m\n\u001B[1;32m   1041\u001B[0m \u001B[43m    \u001B[49m\u001B[43m)\u001B[49m\n\u001B[1;32m   1042\u001B[0m \u001B[38;5;28;01mexcept\u001B[39;00m OperationFailure \u001B[38;5;28;01mas\u001B[39;00m exc:\n\u001B[1;32m   1043\u001B[0m     \u001B[38;5;28;01mif\u001B[39;00m exc\u001B[38;5;241m.\u001B[39mcode \u001B[38;5;129;01min\u001B[39;00m _CURSOR_CLOSED_ERRORS \u001B[38;5;129;01mor\u001B[39;00m \u001B[38;5;28mself\u001B[39m\u001B[38;5;241m.\u001B[39m__exhaust:\n\u001B[1;32m   1044\u001B[0m         \u001B[38;5;66;03m# Don't send killCursors because the cursor is already closed.\u001B[39;00m\n",
      "File \u001B[0;32m/opt/homebrew/lib/python3.11/site-packages/pymongo/_csot.py:108\u001B[0m, in \u001B[0;36mapply.<locals>.csot_wrapper\u001B[0;34m(self, *args, **kwargs)\u001B[0m\n\u001B[1;32m    106\u001B[0m         \u001B[38;5;28;01mwith\u001B[39;00m _TimeoutContext(timeout):\n\u001B[1;32m    107\u001B[0m             \u001B[38;5;28;01mreturn\u001B[39;00m func(\u001B[38;5;28mself\u001B[39m, \u001B[38;5;241m*\u001B[39margs, \u001B[38;5;241m*\u001B[39m\u001B[38;5;241m*\u001B[39mkwargs)\n\u001B[0;32m--> 108\u001B[0m \u001B[38;5;28;01mreturn\u001B[39;00m \u001B[43mfunc\u001B[49m\u001B[43m(\u001B[49m\u001B[38;5;28;43mself\u001B[39;49m\u001B[43m,\u001B[49m\u001B[43m \u001B[49m\u001B[38;5;241;43m*\u001B[39;49m\u001B[43margs\u001B[49m\u001B[43m,\u001B[49m\u001B[43m \u001B[49m\u001B[38;5;241;43m*\u001B[39;49m\u001B[38;5;241;43m*\u001B[39;49m\u001B[43mkwargs\u001B[49m\u001B[43m)\u001B[49m\n",
      "File \u001B[0;32m/opt/homebrew/lib/python3.11/site-packages/pymongo/mongo_client.py:1425\u001B[0m, in \u001B[0;36mMongoClient._run_operation\u001B[0;34m(self, operation, unpack_res, address)\u001B[0m\n\u001B[1;32m   1415\u001B[0m     operation\u001B[38;5;241m.\u001B[39mreset()  \u001B[38;5;66;03m# Reset op in case of retry.\u001B[39;00m\n\u001B[1;32m   1416\u001B[0m     \u001B[38;5;28;01mreturn\u001B[39;00m server\u001B[38;5;241m.\u001B[39mrun_operation(\n\u001B[1;32m   1417\u001B[0m         conn,\n\u001B[1;32m   1418\u001B[0m         operation,\n\u001B[0;32m   (...)\u001B[0m\n\u001B[1;32m   1422\u001B[0m         \u001B[38;5;28mself\u001B[39m,\n\u001B[1;32m   1423\u001B[0m     )\n\u001B[0;32m-> 1425\u001B[0m \u001B[38;5;28;01mreturn\u001B[39;00m \u001B[38;5;28;43mself\u001B[39;49m\u001B[38;5;241;43m.\u001B[39;49m\u001B[43m_retryable_read\u001B[49m\u001B[43m(\u001B[49m\n\u001B[1;32m   1426\u001B[0m \u001B[43m    \u001B[49m\u001B[43m_cmd\u001B[49m\u001B[43m,\u001B[49m\n\u001B[1;32m   1427\u001B[0m \u001B[43m    \u001B[49m\u001B[43moperation\u001B[49m\u001B[38;5;241;43m.\u001B[39;49m\u001B[43mread_preference\u001B[49m\u001B[43m,\u001B[49m\n\u001B[1;32m   1428\u001B[0m \u001B[43m    \u001B[49m\u001B[43moperation\u001B[49m\u001B[38;5;241;43m.\u001B[39;49m\u001B[43msession\u001B[49m\u001B[43m,\u001B[49m\n\u001B[1;32m   1429\u001B[0m \u001B[43m    \u001B[49m\u001B[43maddress\u001B[49m\u001B[38;5;241;43m=\u001B[39;49m\u001B[43maddress\u001B[49m\u001B[43m,\u001B[49m\n\u001B[1;32m   1430\u001B[0m \u001B[43m    \u001B[49m\u001B[43mretryable\u001B[49m\u001B[38;5;241;43m=\u001B[39;49m\u001B[38;5;28;43misinstance\u001B[39;49m\u001B[43m(\u001B[49m\u001B[43moperation\u001B[49m\u001B[43m,\u001B[49m\u001B[43m \u001B[49m\u001B[43mmessage\u001B[49m\u001B[38;5;241;43m.\u001B[39;49m\u001B[43m_Query\u001B[49m\u001B[43m)\u001B[49m\u001B[43m,\u001B[49m\n\u001B[1;32m   1431\u001B[0m \u001B[43m    \u001B[49m\u001B[43moperation\u001B[49m\u001B[38;5;241;43m=\u001B[39;49m\u001B[43moperation\u001B[49m\u001B[38;5;241;43m.\u001B[39;49m\u001B[43mname\u001B[49m\u001B[43m,\u001B[49m\n\u001B[1;32m   1432\u001B[0m \u001B[43m\u001B[49m\u001B[43m)\u001B[49m\n",
      "File \u001B[0;32m/opt/homebrew/lib/python3.11/site-packages/pymongo/mongo_client.py:1534\u001B[0m, in \u001B[0;36mMongoClient._retryable_read\u001B[0;34m(self, func, read_pref, session, operation, address, retryable, operation_id)\u001B[0m\n\u001B[1;32m   1529\u001B[0m \u001B[38;5;66;03m# Ensure that the client supports retrying on reads and there is no session in\u001B[39;00m\n\u001B[1;32m   1530\u001B[0m \u001B[38;5;66;03m# transaction, otherwise, we will not support retry behavior for this call.\u001B[39;00m\n\u001B[1;32m   1531\u001B[0m retryable \u001B[38;5;241m=\u001B[39m \u001B[38;5;28mbool\u001B[39m(\n\u001B[1;32m   1532\u001B[0m     retryable \u001B[38;5;129;01mand\u001B[39;00m \u001B[38;5;28mself\u001B[39m\u001B[38;5;241m.\u001B[39moptions\u001B[38;5;241m.\u001B[39mretry_reads \u001B[38;5;129;01mand\u001B[39;00m \u001B[38;5;129;01mnot\u001B[39;00m (session \u001B[38;5;129;01mand\u001B[39;00m session\u001B[38;5;241m.\u001B[39min_transaction)\n\u001B[1;32m   1533\u001B[0m )\n\u001B[0;32m-> 1534\u001B[0m \u001B[38;5;28;01mreturn\u001B[39;00m \u001B[38;5;28;43mself\u001B[39;49m\u001B[38;5;241;43m.\u001B[39;49m\u001B[43m_retry_internal\u001B[49m\u001B[43m(\u001B[49m\n\u001B[1;32m   1535\u001B[0m \u001B[43m    \u001B[49m\u001B[43mfunc\u001B[49m\u001B[43m,\u001B[49m\n\u001B[1;32m   1536\u001B[0m \u001B[43m    \u001B[49m\u001B[43msession\u001B[49m\u001B[43m,\u001B[49m\n\u001B[1;32m   1537\u001B[0m \u001B[43m    \u001B[49m\u001B[38;5;28;43;01mNone\u001B[39;49;00m\u001B[43m,\u001B[49m\n\u001B[1;32m   1538\u001B[0m \u001B[43m    \u001B[49m\u001B[43moperation\u001B[49m\u001B[43m,\u001B[49m\n\u001B[1;32m   1539\u001B[0m \u001B[43m    \u001B[49m\u001B[43mis_read\u001B[49m\u001B[38;5;241;43m=\u001B[39;49m\u001B[38;5;28;43;01mTrue\u001B[39;49;00m\u001B[43m,\u001B[49m\n\u001B[1;32m   1540\u001B[0m \u001B[43m    \u001B[49m\u001B[43maddress\u001B[49m\u001B[38;5;241;43m=\u001B[39;49m\u001B[43maddress\u001B[49m\u001B[43m,\u001B[49m\n\u001B[1;32m   1541\u001B[0m \u001B[43m    \u001B[49m\u001B[43mread_pref\u001B[49m\u001B[38;5;241;43m=\u001B[39;49m\u001B[43mread_pref\u001B[49m\u001B[43m,\u001B[49m\n\u001B[1;32m   1542\u001B[0m \u001B[43m    \u001B[49m\u001B[43mretryable\u001B[49m\u001B[38;5;241;43m=\u001B[39;49m\u001B[43mretryable\u001B[49m\u001B[43m,\u001B[49m\n\u001B[1;32m   1543\u001B[0m \u001B[43m    \u001B[49m\u001B[43moperation_id\u001B[49m\u001B[38;5;241;43m=\u001B[39;49m\u001B[43moperation_id\u001B[49m\u001B[43m,\u001B[49m\n\u001B[1;32m   1544\u001B[0m \u001B[43m\u001B[49m\u001B[43m)\u001B[49m\n",
      "File \u001B[0;32m/opt/homebrew/lib/python3.11/site-packages/pymongo/_csot.py:108\u001B[0m, in \u001B[0;36mapply.<locals>.csot_wrapper\u001B[0;34m(self, *args, **kwargs)\u001B[0m\n\u001B[1;32m    106\u001B[0m         \u001B[38;5;28;01mwith\u001B[39;00m _TimeoutContext(timeout):\n\u001B[1;32m    107\u001B[0m             \u001B[38;5;28;01mreturn\u001B[39;00m func(\u001B[38;5;28mself\u001B[39m, \u001B[38;5;241m*\u001B[39margs, \u001B[38;5;241m*\u001B[39m\u001B[38;5;241m*\u001B[39mkwargs)\n\u001B[0;32m--> 108\u001B[0m \u001B[38;5;28;01mreturn\u001B[39;00m \u001B[43mfunc\u001B[49m\u001B[43m(\u001B[49m\u001B[38;5;28;43mself\u001B[39;49m\u001B[43m,\u001B[49m\u001B[43m \u001B[49m\u001B[38;5;241;43m*\u001B[39;49m\u001B[43margs\u001B[49m\u001B[43m,\u001B[49m\u001B[43m \u001B[49m\u001B[38;5;241;43m*\u001B[39;49m\u001B[38;5;241;43m*\u001B[39;49m\u001B[43mkwargs\u001B[49m\u001B[43m)\u001B[49m\n",
      "File \u001B[0;32m/opt/homebrew/lib/python3.11/site-packages/pymongo/mongo_client.py:1501\u001B[0m, in \u001B[0;36mMongoClient._retry_internal\u001B[0;34m(self, func, session, bulk, operation, is_read, address, read_pref, retryable, operation_id)\u001B[0m\n\u001B[1;32m   1464\u001B[0m \u001B[38;5;129m@_csot\u001B[39m\u001B[38;5;241m.\u001B[39mapply\n\u001B[1;32m   1465\u001B[0m \u001B[38;5;28;01mdef\u001B[39;00m \u001B[38;5;21m_retry_internal\u001B[39m(\n\u001B[1;32m   1466\u001B[0m     \u001B[38;5;28mself\u001B[39m,\n\u001B[0;32m   (...)\u001B[0m\n\u001B[1;32m   1475\u001B[0m     operation_id: Optional[\u001B[38;5;28mint\u001B[39m] \u001B[38;5;241m=\u001B[39m \u001B[38;5;28;01mNone\u001B[39;00m,\n\u001B[1;32m   1476\u001B[0m ) \u001B[38;5;241m-\u001B[39m\u001B[38;5;241m>\u001B[39m T:\n\u001B[1;32m   1477\u001B[0m \u001B[38;5;250m    \u001B[39m\u001B[38;5;124;03m\"\"\"Internal retryable helper for all client transactions.\u001B[39;00m\n\u001B[1;32m   1478\u001B[0m \n\u001B[1;32m   1479\u001B[0m \u001B[38;5;124;03m    :param func: Callback function we want to retry\u001B[39;00m\n\u001B[0;32m   (...)\u001B[0m\n\u001B[1;32m   1488\u001B[0m \u001B[38;5;124;03m    :return: Output of the calling func()\u001B[39;00m\n\u001B[1;32m   1489\u001B[0m \u001B[38;5;124;03m    \"\"\"\u001B[39;00m\n\u001B[1;32m   1490\u001B[0m     \u001B[38;5;28;01mreturn\u001B[39;00m \u001B[43m_ClientConnectionRetryable\u001B[49m\u001B[43m(\u001B[49m\n\u001B[1;32m   1491\u001B[0m \u001B[43m        \u001B[49m\u001B[43mmongo_client\u001B[49m\u001B[38;5;241;43m=\u001B[39;49m\u001B[38;5;28;43mself\u001B[39;49m\u001B[43m,\u001B[49m\n\u001B[1;32m   1492\u001B[0m \u001B[43m        \u001B[49m\u001B[43mfunc\u001B[49m\u001B[38;5;241;43m=\u001B[39;49m\u001B[43mfunc\u001B[49m\u001B[43m,\u001B[49m\n\u001B[1;32m   1493\u001B[0m \u001B[43m        \u001B[49m\u001B[43mbulk\u001B[49m\u001B[38;5;241;43m=\u001B[39;49m\u001B[43mbulk\u001B[49m\u001B[43m,\u001B[49m\n\u001B[1;32m   1494\u001B[0m \u001B[43m        \u001B[49m\u001B[43moperation\u001B[49m\u001B[38;5;241;43m=\u001B[39;49m\u001B[43moperation\u001B[49m\u001B[43m,\u001B[49m\n\u001B[1;32m   1495\u001B[0m \u001B[43m        \u001B[49m\u001B[43mis_read\u001B[49m\u001B[38;5;241;43m=\u001B[39;49m\u001B[43mis_read\u001B[49m\u001B[43m,\u001B[49m\n\u001B[1;32m   1496\u001B[0m \u001B[43m        \u001B[49m\u001B[43msession\u001B[49m\u001B[38;5;241;43m=\u001B[39;49m\u001B[43msession\u001B[49m\u001B[43m,\u001B[49m\n\u001B[1;32m   1497\u001B[0m \u001B[43m        \u001B[49m\u001B[43mread_pref\u001B[49m\u001B[38;5;241;43m=\u001B[39;49m\u001B[43mread_pref\u001B[49m\u001B[43m,\u001B[49m\n\u001B[1;32m   1498\u001B[0m \u001B[43m        \u001B[49m\u001B[43maddress\u001B[49m\u001B[38;5;241;43m=\u001B[39;49m\u001B[43maddress\u001B[49m\u001B[43m,\u001B[49m\n\u001B[1;32m   1499\u001B[0m \u001B[43m        \u001B[49m\u001B[43mretryable\u001B[49m\u001B[38;5;241;43m=\u001B[39;49m\u001B[43mretryable\u001B[49m\u001B[43m,\u001B[49m\n\u001B[1;32m   1500\u001B[0m \u001B[43m        \u001B[49m\u001B[43moperation_id\u001B[49m\u001B[38;5;241;43m=\u001B[39;49m\u001B[43moperation_id\u001B[49m\u001B[43m,\u001B[49m\n\u001B[0;32m-> 1501\u001B[0m \u001B[43m    \u001B[49m\u001B[43m)\u001B[49m\u001B[38;5;241;43m.\u001B[39;49m\u001B[43mrun\u001B[49m\u001B[43m(\u001B[49m\u001B[43m)\u001B[49m\n",
      "File \u001B[0;32m/opt/homebrew/lib/python3.11/site-packages/pymongo/mongo_client.py:2347\u001B[0m, in \u001B[0;36m_ClientConnectionRetryable.run\u001B[0;34m(self)\u001B[0m\n\u001B[1;32m   2345\u001B[0m \u001B[38;5;28mself\u001B[39m\u001B[38;5;241m.\u001B[39m_check_last_error(check_csot\u001B[38;5;241m=\u001B[39m\u001B[38;5;28;01mTrue\u001B[39;00m)\n\u001B[1;32m   2346\u001B[0m \u001B[38;5;28;01mtry\u001B[39;00m:\n\u001B[0;32m-> 2347\u001B[0m     \u001B[38;5;28;01mreturn\u001B[39;00m \u001B[38;5;28;43mself\u001B[39;49m\u001B[38;5;241;43m.\u001B[39;49m\u001B[43m_read\u001B[49m\u001B[43m(\u001B[49m\u001B[43m)\u001B[49m \u001B[38;5;28;01mif\u001B[39;00m \u001B[38;5;28mself\u001B[39m\u001B[38;5;241m.\u001B[39m_is_read \u001B[38;5;28;01melse\u001B[39;00m \u001B[38;5;28mself\u001B[39m\u001B[38;5;241m.\u001B[39m_write()\n\u001B[1;32m   2348\u001B[0m \u001B[38;5;28;01mexcept\u001B[39;00m ServerSelectionTimeoutError:\n\u001B[1;32m   2349\u001B[0m     \u001B[38;5;66;03m# The application may think the write was never attempted\u001B[39;00m\n\u001B[1;32m   2350\u001B[0m     \u001B[38;5;66;03m# if we raise ServerSelectionTimeoutError on the retry\u001B[39;00m\n\u001B[1;32m   2351\u001B[0m     \u001B[38;5;66;03m# attempt. Raise the original exception instead.\u001B[39;00m\n\u001B[1;32m   2352\u001B[0m     \u001B[38;5;28mself\u001B[39m\u001B[38;5;241m.\u001B[39m_check_last_error()\n",
      "File \u001B[0;32m/opt/homebrew/lib/python3.11/site-packages/pymongo/mongo_client.py:2477\u001B[0m, in \u001B[0;36m_ClientConnectionRetryable._read\u001B[0;34m(self)\u001B[0m\n\u001B[1;32m   2472\u001B[0m \u001B[38;5;28;01mdef\u001B[39;00m \u001B[38;5;21m_read\u001B[39m(\u001B[38;5;28mself\u001B[39m) \u001B[38;5;241m-\u001B[39m\u001B[38;5;241m>\u001B[39m T:\n\u001B[1;32m   2473\u001B[0m \u001B[38;5;250m    \u001B[39m\u001B[38;5;124;03m\"\"\"Wrapper method for read-type retryable client executions\u001B[39;00m\n\u001B[1;32m   2474\u001B[0m \n\u001B[1;32m   2475\u001B[0m \u001B[38;5;124;03m    :return: Output for func()'s call\u001B[39;00m\n\u001B[1;32m   2476\u001B[0m \u001B[38;5;124;03m    \"\"\"\u001B[39;00m\n\u001B[0;32m-> 2477\u001B[0m     \u001B[38;5;28mself\u001B[39m\u001B[38;5;241m.\u001B[39m_server \u001B[38;5;241m=\u001B[39m \u001B[38;5;28;43mself\u001B[39;49m\u001B[38;5;241;43m.\u001B[39;49m\u001B[43m_get_server\u001B[49m\u001B[43m(\u001B[49m\u001B[43m)\u001B[49m\n\u001B[1;32m   2478\u001B[0m     \u001B[38;5;28;01massert\u001B[39;00m \u001B[38;5;28mself\u001B[39m\u001B[38;5;241m.\u001B[39m_read_pref \u001B[38;5;129;01mis\u001B[39;00m \u001B[38;5;129;01mnot\u001B[39;00m \u001B[38;5;28;01mNone\u001B[39;00m, \u001B[38;5;124m\"\u001B[39m\u001B[38;5;124mRead Preference required on read calls\u001B[39m\u001B[38;5;124m\"\u001B[39m\n\u001B[1;32m   2479\u001B[0m     \u001B[38;5;28;01mwith\u001B[39;00m \u001B[38;5;28mself\u001B[39m\u001B[38;5;241m.\u001B[39m_client\u001B[38;5;241m.\u001B[39m_conn_from_server(\u001B[38;5;28mself\u001B[39m\u001B[38;5;241m.\u001B[39m_read_pref, \u001B[38;5;28mself\u001B[39m\u001B[38;5;241m.\u001B[39m_server, \u001B[38;5;28mself\u001B[39m\u001B[38;5;241m.\u001B[39m_session) \u001B[38;5;28;01mas\u001B[39;00m (\n\u001B[1;32m   2480\u001B[0m         conn,\n\u001B[1;32m   2481\u001B[0m         read_pref,\n\u001B[1;32m   2482\u001B[0m     ):\n",
      "File \u001B[0;32m/opt/homebrew/lib/python3.11/site-packages/pymongo/mongo_client.py:2433\u001B[0m, in \u001B[0;36m_ClientConnectionRetryable._get_server\u001B[0;34m(self)\u001B[0m\n\u001B[1;32m   2428\u001B[0m \u001B[38;5;28;01mdef\u001B[39;00m \u001B[38;5;21m_get_server\u001B[39m(\u001B[38;5;28mself\u001B[39m) \u001B[38;5;241m-\u001B[39m\u001B[38;5;241m>\u001B[39m Server:\n\u001B[1;32m   2429\u001B[0m \u001B[38;5;250m    \u001B[39m\u001B[38;5;124;03m\"\"\"Retrieves a server object based on provided object context\u001B[39;00m\n\u001B[1;32m   2430\u001B[0m \n\u001B[1;32m   2431\u001B[0m \u001B[38;5;124;03m    :return: Abstraction to connect to server\u001B[39;00m\n\u001B[1;32m   2432\u001B[0m \u001B[38;5;124;03m    \"\"\"\u001B[39;00m\n\u001B[0;32m-> 2433\u001B[0m     \u001B[38;5;28;01mreturn\u001B[39;00m \u001B[38;5;28;43mself\u001B[39;49m\u001B[38;5;241;43m.\u001B[39;49m\u001B[43m_client\u001B[49m\u001B[38;5;241;43m.\u001B[39;49m\u001B[43m_select_server\u001B[49m\u001B[43m(\u001B[49m\n\u001B[1;32m   2434\u001B[0m \u001B[43m        \u001B[49m\u001B[38;5;28;43mself\u001B[39;49m\u001B[38;5;241;43m.\u001B[39;49m\u001B[43m_server_selector\u001B[49m\u001B[43m,\u001B[49m\n\u001B[1;32m   2435\u001B[0m \u001B[43m        \u001B[49m\u001B[38;5;28;43mself\u001B[39;49m\u001B[38;5;241;43m.\u001B[39;49m\u001B[43m_session\u001B[49m\u001B[43m,\u001B[49m\n\u001B[1;32m   2436\u001B[0m \u001B[43m        \u001B[49m\u001B[38;5;28;43mself\u001B[39;49m\u001B[38;5;241;43m.\u001B[39;49m\u001B[43m_operation\u001B[49m\u001B[43m,\u001B[49m\n\u001B[1;32m   2437\u001B[0m \u001B[43m        \u001B[49m\u001B[43maddress\u001B[49m\u001B[38;5;241;43m=\u001B[39;49m\u001B[38;5;28;43mself\u001B[39;49m\u001B[38;5;241;43m.\u001B[39;49m\u001B[43m_address\u001B[49m\u001B[43m,\u001B[49m\n\u001B[1;32m   2438\u001B[0m \u001B[43m        \u001B[49m\u001B[43mdeprioritized_servers\u001B[49m\u001B[38;5;241;43m=\u001B[39;49m\u001B[38;5;28;43mself\u001B[39;49m\u001B[38;5;241;43m.\u001B[39;49m\u001B[43m_deprioritized_servers\u001B[49m\u001B[43m,\u001B[49m\n\u001B[1;32m   2439\u001B[0m \u001B[43m        \u001B[49m\u001B[43moperation_id\u001B[49m\u001B[38;5;241;43m=\u001B[39;49m\u001B[38;5;28;43mself\u001B[39;49m\u001B[38;5;241;43m.\u001B[39;49m\u001B[43m_operation_id\u001B[49m\u001B[43m,\u001B[49m\n\u001B[1;32m   2440\u001B[0m \u001B[43m    \u001B[49m\u001B[43m)\u001B[49m\n",
      "File \u001B[0;32m/opt/homebrew/lib/python3.11/site-packages/pymongo/mongo_client.py:1316\u001B[0m, in \u001B[0;36mMongoClient._select_server\u001B[0;34m(self, server_selector, session, operation, address, deprioritized_servers, operation_id)\u001B[0m\n\u001B[1;32m   1314\u001B[0m             \u001B[38;5;28;01mraise\u001B[39;00m AutoReconnect(\u001B[38;5;124m\"\u001B[39m\u001B[38;5;124mserver \u001B[39m\u001B[38;5;132;01m%s\u001B[39;00m\u001B[38;5;124m:\u001B[39m\u001B[38;5;132;01m%s\u001B[39;00m\u001B[38;5;124m no longer available\u001B[39m\u001B[38;5;124m\"\u001B[39m \u001B[38;5;241m%\u001B[39m address)  \u001B[38;5;66;03m# noqa: UP031\u001B[39;00m\n\u001B[1;32m   1315\u001B[0m     \u001B[38;5;28;01melse\u001B[39;00m:\n\u001B[0;32m-> 1316\u001B[0m         server \u001B[38;5;241m=\u001B[39m \u001B[43mtopology\u001B[49m\u001B[38;5;241;43m.\u001B[39;49m\u001B[43mselect_server\u001B[49m\u001B[43m(\u001B[49m\n\u001B[1;32m   1317\u001B[0m \u001B[43m            \u001B[49m\u001B[43mserver_selector\u001B[49m\u001B[43m,\u001B[49m\n\u001B[1;32m   1318\u001B[0m \u001B[43m            \u001B[49m\u001B[43moperation\u001B[49m\u001B[43m,\u001B[49m\n\u001B[1;32m   1319\u001B[0m \u001B[43m            \u001B[49m\u001B[43mdeprioritized_servers\u001B[49m\u001B[38;5;241;43m=\u001B[39;49m\u001B[43mdeprioritized_servers\u001B[49m\u001B[43m,\u001B[49m\n\u001B[1;32m   1320\u001B[0m \u001B[43m            \u001B[49m\u001B[43moperation_id\u001B[49m\u001B[38;5;241;43m=\u001B[39;49m\u001B[43moperation_id\u001B[49m\u001B[43m,\u001B[49m\n\u001B[1;32m   1321\u001B[0m \u001B[43m        \u001B[49m\u001B[43m)\u001B[49m\n\u001B[1;32m   1322\u001B[0m     \u001B[38;5;28;01mreturn\u001B[39;00m server\n\u001B[1;32m   1323\u001B[0m \u001B[38;5;28;01mexcept\u001B[39;00m PyMongoError \u001B[38;5;28;01mas\u001B[39;00m exc:\n\u001B[1;32m   1324\u001B[0m     \u001B[38;5;66;03m# Server selection errors in a transaction are transient.\u001B[39;00m\n",
      "File \u001B[0;32m/opt/homebrew/lib/python3.11/site-packages/pymongo/topology.py:369\u001B[0m, in \u001B[0;36mTopology.select_server\u001B[0;34m(self, selector, operation, server_selection_timeout, address, deprioritized_servers, operation_id)\u001B[0m\n\u001B[1;32m    359\u001B[0m \u001B[38;5;28;01mdef\u001B[39;00m \u001B[38;5;21mselect_server\u001B[39m(\n\u001B[1;32m    360\u001B[0m     \u001B[38;5;28mself\u001B[39m,\n\u001B[1;32m    361\u001B[0m     selector: Callable[[Selection], Selection],\n\u001B[0;32m   (...)\u001B[0m\n\u001B[1;32m    366\u001B[0m     operation_id: Optional[\u001B[38;5;28mint\u001B[39m] \u001B[38;5;241m=\u001B[39m \u001B[38;5;28;01mNone\u001B[39;00m,\n\u001B[1;32m    367\u001B[0m ) \u001B[38;5;241m-\u001B[39m\u001B[38;5;241m>\u001B[39m Server:\n\u001B[1;32m    368\u001B[0m \u001B[38;5;250m    \u001B[39m\u001B[38;5;124;03m\"\"\"Like select_servers, but choose a random server if several match.\"\"\"\u001B[39;00m\n\u001B[0;32m--> 369\u001B[0m     server \u001B[38;5;241m=\u001B[39m \u001B[38;5;28;43mself\u001B[39;49m\u001B[38;5;241;43m.\u001B[39;49m\u001B[43m_select_server\u001B[49m\u001B[43m(\u001B[49m\n\u001B[1;32m    370\u001B[0m \u001B[43m        \u001B[49m\u001B[43mselector\u001B[49m\u001B[43m,\u001B[49m\n\u001B[1;32m    371\u001B[0m \u001B[43m        \u001B[49m\u001B[43moperation\u001B[49m\u001B[43m,\u001B[49m\n\u001B[1;32m    372\u001B[0m \u001B[43m        \u001B[49m\u001B[43mserver_selection_timeout\u001B[49m\u001B[43m,\u001B[49m\n\u001B[1;32m    373\u001B[0m \u001B[43m        \u001B[49m\u001B[43maddress\u001B[49m\u001B[43m,\u001B[49m\n\u001B[1;32m    374\u001B[0m \u001B[43m        \u001B[49m\u001B[43mdeprioritized_servers\u001B[49m\u001B[43m,\u001B[49m\n\u001B[1;32m    375\u001B[0m \u001B[43m        \u001B[49m\u001B[43moperation_id\u001B[49m\u001B[38;5;241;43m=\u001B[39;49m\u001B[43moperation_id\u001B[49m\u001B[43m,\u001B[49m\n\u001B[1;32m    376\u001B[0m \u001B[43m    \u001B[49m\u001B[43m)\u001B[49m\n\u001B[1;32m    377\u001B[0m     \u001B[38;5;28;01mif\u001B[39;00m _csot\u001B[38;5;241m.\u001B[39mget_timeout():\n\u001B[1;32m    378\u001B[0m         _csot\u001B[38;5;241m.\u001B[39mset_rtt(server\u001B[38;5;241m.\u001B[39mdescription\u001B[38;5;241m.\u001B[39mmin_round_trip_time)\n",
      "File \u001B[0;32m/opt/homebrew/lib/python3.11/site-packages/pymongo/topology.py:347\u001B[0m, in \u001B[0;36mTopology._select_server\u001B[0;34m(self, selector, operation, server_selection_timeout, address, deprioritized_servers, operation_id)\u001B[0m\n\u001B[1;32m    338\u001B[0m \u001B[38;5;28;01mdef\u001B[39;00m \u001B[38;5;21m_select_server\u001B[39m(\n\u001B[1;32m    339\u001B[0m     \u001B[38;5;28mself\u001B[39m,\n\u001B[1;32m    340\u001B[0m     selector: Callable[[Selection], Selection],\n\u001B[0;32m   (...)\u001B[0m\n\u001B[1;32m    345\u001B[0m     operation_id: Optional[\u001B[38;5;28mint\u001B[39m] \u001B[38;5;241m=\u001B[39m \u001B[38;5;28;01mNone\u001B[39;00m,\n\u001B[1;32m    346\u001B[0m ) \u001B[38;5;241m-\u001B[39m\u001B[38;5;241m>\u001B[39m Server:\n\u001B[0;32m--> 347\u001B[0m     servers \u001B[38;5;241m=\u001B[39m \u001B[38;5;28;43mself\u001B[39;49m\u001B[38;5;241;43m.\u001B[39;49m\u001B[43mselect_servers\u001B[49m\u001B[43m(\u001B[49m\n\u001B[1;32m    348\u001B[0m \u001B[43m        \u001B[49m\u001B[43mselector\u001B[49m\u001B[43m,\u001B[49m\u001B[43m \u001B[49m\u001B[43moperation\u001B[49m\u001B[43m,\u001B[49m\u001B[43m \u001B[49m\u001B[43mserver_selection_timeout\u001B[49m\u001B[43m,\u001B[49m\u001B[43m \u001B[49m\u001B[43maddress\u001B[49m\u001B[43m,\u001B[49m\u001B[43m \u001B[49m\u001B[43moperation_id\u001B[49m\n\u001B[1;32m    349\u001B[0m \u001B[43m    \u001B[49m\u001B[43m)\u001B[49m\n\u001B[1;32m    350\u001B[0m     servers \u001B[38;5;241m=\u001B[39m _filter_servers(servers, deprioritized_servers)\n\u001B[1;32m    351\u001B[0m     \u001B[38;5;28;01mif\u001B[39;00m \u001B[38;5;28mlen\u001B[39m(servers) \u001B[38;5;241m==\u001B[39m \u001B[38;5;241m1\u001B[39m:\n",
      "File \u001B[0;32m/opt/homebrew/lib/python3.11/site-packages/pymongo/topology.py:254\u001B[0m, in \u001B[0;36mTopology.select_servers\u001B[0;34m(self, selector, operation, server_selection_timeout, address, operation_id)\u001B[0m\n\u001B[1;32m    251\u001B[0m     server_timeout \u001B[38;5;241m=\u001B[39m server_selection_timeout\n\u001B[1;32m    253\u001B[0m \u001B[38;5;28;01mwith\u001B[39;00m \u001B[38;5;28mself\u001B[39m\u001B[38;5;241m.\u001B[39m_lock:\n\u001B[0;32m--> 254\u001B[0m     server_descriptions \u001B[38;5;241m=\u001B[39m \u001B[38;5;28;43mself\u001B[39;49m\u001B[38;5;241;43m.\u001B[39;49m\u001B[43m_select_servers_loop\u001B[49m\u001B[43m(\u001B[49m\n\u001B[1;32m    255\u001B[0m \u001B[43m        \u001B[49m\u001B[43mselector\u001B[49m\u001B[43m,\u001B[49m\u001B[43m \u001B[49m\u001B[43mserver_timeout\u001B[49m\u001B[43m,\u001B[49m\u001B[43m \u001B[49m\u001B[43moperation\u001B[49m\u001B[43m,\u001B[49m\u001B[43m \u001B[49m\u001B[43moperation_id\u001B[49m\u001B[43m,\u001B[49m\u001B[43m \u001B[49m\u001B[43maddress\u001B[49m\n\u001B[1;32m    256\u001B[0m \u001B[43m    \u001B[49m\u001B[43m)\u001B[49m\n\u001B[1;32m    258\u001B[0m     \u001B[38;5;28;01mreturn\u001B[39;00m [\n\u001B[1;32m    259\u001B[0m         cast(Server, \u001B[38;5;28mself\u001B[39m\u001B[38;5;241m.\u001B[39mget_server_by_address(sd\u001B[38;5;241m.\u001B[39maddress)) \u001B[38;5;28;01mfor\u001B[39;00m sd \u001B[38;5;129;01min\u001B[39;00m server_descriptions\n\u001B[1;32m    260\u001B[0m     ]\n",
      "File \u001B[0;32m/opt/homebrew/lib/python3.11/site-packages/pymongo/topology.py:328\u001B[0m, in \u001B[0;36mTopology._select_servers_loop\u001B[0;34m(self, selector, timeout, operation, operation_id, address)\u001B[0m\n\u001B[1;32m    322\u001B[0m \u001B[38;5;28mself\u001B[39m\u001B[38;5;241m.\u001B[39m_request_check_all()\n\u001B[1;32m    324\u001B[0m \u001B[38;5;66;03m# Release the lock and wait for the topology description to\u001B[39;00m\n\u001B[1;32m    325\u001B[0m \u001B[38;5;66;03m# change, or for a timeout. We won't miss any changes that\u001B[39;00m\n\u001B[1;32m    326\u001B[0m \u001B[38;5;66;03m# came after our most recent apply_selector call, since we've\u001B[39;00m\n\u001B[1;32m    327\u001B[0m \u001B[38;5;66;03m# held the lock until now.\u001B[39;00m\n\u001B[0;32m--> 328\u001B[0m \u001B[38;5;28;43mself\u001B[39;49m\u001B[38;5;241;43m.\u001B[39;49m\u001B[43m_condition\u001B[49m\u001B[38;5;241;43m.\u001B[39;49m\u001B[43mwait\u001B[49m\u001B[43m(\u001B[49m\u001B[43mcommon\u001B[49m\u001B[38;5;241;43m.\u001B[39;49m\u001B[43mMIN_HEARTBEAT_INTERVAL\u001B[49m\u001B[43m)\u001B[49m\n\u001B[1;32m    329\u001B[0m \u001B[38;5;28mself\u001B[39m\u001B[38;5;241m.\u001B[39m_description\u001B[38;5;241m.\u001B[39mcheck_compatible()\n\u001B[1;32m    330\u001B[0m now \u001B[38;5;241m=\u001B[39m time\u001B[38;5;241m.\u001B[39mmonotonic()\n",
      "File \u001B[0;32m/opt/homebrew/Cellar/python@3.11/3.11.3/Frameworks/Python.framework/Versions/3.11/lib/python3.11/threading.py:324\u001B[0m, in \u001B[0;36mCondition.wait\u001B[0;34m(self, timeout)\u001B[0m\n\u001B[1;32m    322\u001B[0m \u001B[38;5;28;01melse\u001B[39;00m:\n\u001B[1;32m    323\u001B[0m     \u001B[38;5;28;01mif\u001B[39;00m timeout \u001B[38;5;241m>\u001B[39m \u001B[38;5;241m0\u001B[39m:\n\u001B[0;32m--> 324\u001B[0m         gotit \u001B[38;5;241m=\u001B[39m \u001B[43mwaiter\u001B[49m\u001B[38;5;241;43m.\u001B[39;49m\u001B[43macquire\u001B[49m\u001B[43m(\u001B[49m\u001B[38;5;28;43;01mTrue\u001B[39;49;00m\u001B[43m,\u001B[49m\u001B[43m \u001B[49m\u001B[43mtimeout\u001B[49m\u001B[43m)\u001B[49m\n\u001B[1;32m    325\u001B[0m     \u001B[38;5;28;01melse\u001B[39;00m:\n\u001B[1;32m    326\u001B[0m         gotit \u001B[38;5;241m=\u001B[39m waiter\u001B[38;5;241m.\u001B[39macquire(\u001B[38;5;28;01mFalse\u001B[39;00m)\n",
      "\u001B[0;31mKeyboardInterrupt\u001B[0m: "
     ]
    }
   ],
   "source": [
    "import sys\n",
    "import pymongo\n",
    "\n",
    "sys.path.append('../')  # replace with the actual path\n",
    "import lib.key_param as key_param\n",
    "import lib.Utils as utilskey_param\n",
    "\n",
    "client = pymongo.MongoClient(key_param.MONGODB_URI)\n",
    "db = client.sample_mflix\n",
    "\n",
    "collection = db.movies\n",
    "\n",
    "print(collection.find_one())"
   ]
  },
  {
   "cell_type": "markdown",
   "metadata": {},
   "source": [
    "## Load Data to Mongo db after had created embeddings"
   ]
  },
  {
   "cell_type": "code",
   "execution_count": 2,
   "metadata": {},
   "outputs": [
    {
     "name": "stderr",
     "output_type": "stream",
     "text": [
      "/Users/paolobonicco/Projects/PARASOL/fine-tuning-llm/.venv/lib/python3.11/site-packages/tqdm/auto.py:21: TqdmWarning: IProgress not found. Please update jupyter and ipywidgets. See https://ipywidgets.readthedocs.io/en/stable/user_install.html\n",
      "  from .autonotebook import tqdm as notebook_tqdm\n"
     ]
    }
   ],
   "source": [
    "from pymongo import MongoClient\n",
    "from langchain.embeddings.openai import OpenAIEmbeddings\n",
    "from langchain.vectorstores import MongoDBAtlasVectorSearch\n",
    "from langchain.document_loaders import DirectoryLoader\n",
    "from langchain.llms import OpenAI\n",
    "from langchain.chains import RetrievalQA\n",
    "import gradio as gr\n",
    "from gradio.themes.base import Base\n",
    "import key_param"
   ]
  },
  {
   "cell_type": "code",
   "execution_count": 3,
   "metadata": {},
   "outputs": [],
   "source": [
    "client = MongoClient(key_param.MONGODB_URI)\n",
    "db_name = \"parasol-2\"\n",
    "collection_name = \"collection_of_text_blobs\"\n",
    "collection = client[db_name][collection_name]"
   ]
  },
  {
   "cell_type": "code",
   "execution_count": 4,
   "metadata": {},
   "outputs": [
    {
     "name": "stderr",
     "output_type": "stream",
     "text": [
      "  0%|          | 0/4 [00:00<?, ?it/s]"
     ]
    },
    {
     "name": "stderr",
     "output_type": "stream",
     "text": [
      "100%|██████████| 4/4 [00:02<00:00,  1.52it/s]\n"
     ]
    }
   ],
   "source": [
    "loader = DirectoryLoader('./sample_files', glob='*.txt', show_progress=True)\n",
    "data = loader.load()"
   ]
  },
  {
   "cell_type": "code",
   "execution_count": 5,
   "metadata": {},
   "outputs": [
    {
     "name": "stderr",
     "output_type": "stream",
     "text": [
      "/Users/paolobonicco/Projects/PARASOL/fine-tuning-llm/.venv/lib/python3.11/site-packages/langchain_core/_api/deprecation.py:119: LangChainDeprecationWarning: The class `OpenAIEmbeddings` was deprecated in LangChain 0.0.9 and will be removed in 0.2.0. An updated version of the class exists in the langchain-openai package and should be used instead. To use it run `pip install -U langchain-openai` and import as `from langchain_openai import OpenAIEmbeddings`.\n",
      "  warn_deprecated(\n"
     ]
    }
   ],
   "source": [
    "embeddigns = OpenAIEmbeddings(openai_api_key=key_param.OPENAI_API_KEY)\n",
    "\n",
    "vectorStore = MongoDBAtlasVectorSearch.from_documents(data, embeddigns, collection=collection)"
   ]
  },
  {
   "cell_type": "markdown",
   "metadata": {},
   "source": [
    "## RAG"
   ]
  },
  {
   "cell_type": "code",
   "execution_count": 6,
   "metadata": {},
   "outputs": [],
   "source": [
    "client = MongoClient(key_param.MONGODB_URI)\n",
    "db_name = \"parasol-2\"\n",
    "collection_name = \"collection_of_text_blobs\"\n",
    "collection = client[db_name][collection_name]"
   ]
  },
  {
   "cell_type": "code",
   "execution_count": 7,
   "metadata": {},
   "outputs": [],
   "source": [
    "def query_data(query):\n",
    "    docs = vectorStore.similarity_search(query, top_k=1) # extract docs from mongo with similar text\n",
    "    as_output = docs[0].page_content # extract the text from the doc\n",
    "    \n",
    "    llm = OpenAI(openai_api_key=key_param.OPENAI_KEY, temperature=0)\n",
    "    retriever = vectorStore.as_retriever() # Setup a retriever to search for similar documents\n",
    "    \n",
    "    # Langchain function to create a chain prompt that add some text to the query and create prompt\n",
    "    qa = RetrievalQA.from_chain_type(llm, chain_type=\"stuff\", retriever=retriever)\n",
    "    retriever_output = qa.run(query)\n",
    "    \n",
    "    llm_output = llm.invoke(query)\n",
    "    \n",
    "    return as_output, retriever_output, llm_output"
   ]
  },
  {
   "cell_type": "markdown",
   "metadata": {},
   "source": [
    "### Gradio"
   ]
  },
  {
   "cell_type": "code",
   "execution_count": 8,
   "metadata": {},
   "outputs": [
    {
     "name": "stdout",
     "output_type": "stream",
     "text": [
      "Running on local URL:  http://127.0.0.1:7860\n",
      "\n",
      "To create a public link, set `share=True` in `launch()`.\n"
     ]
    },
    {
     "data": {
      "text/html": [
       "<div><iframe src=\"http://127.0.0.1:7860/\" width=\"100%\" height=\"500\" allow=\"autoplay; camera; microphone; clipboard-read; clipboard-write;\" frameborder=\"0\" allowfullscreen></iframe></div>"
      ],
      "text/plain": [
       "<IPython.core.display.HTML object>"
      ]
     },
     "metadata": {},
     "output_type": "display_data"
    },
    {
     "data": {
      "text/plain": []
     },
     "execution_count": 8,
     "metadata": {},
     "output_type": "execute_result"
    },
    {
     "name": "stderr",
     "output_type": "stream",
     "text": [
      "Traceback (most recent call last):\n",
      "  File \"/Users/paolobonicco/Projects/PARASOL/fine-tuning-llm/.venv/lib/python3.11/site-packages/gradio/queueing.py\", line 522, in process_events\n",
      "    response = await route_utils.call_process_api(\n",
      "               ^^^^^^^^^^^^^^^^^^^^^^^^^^^^^^^^^^^\n",
      "  File \"/Users/paolobonicco/Projects/PARASOL/fine-tuning-llm/.venv/lib/python3.11/site-packages/gradio/route_utils.py\", line 260, in call_process_api\n",
      "    output = await app.get_blocks().process_api(\n",
      "             ^^^^^^^^^^^^^^^^^^^^^^^^^^^^^^^^^^^\n",
      "  File \"/Users/paolobonicco/Projects/PARASOL/fine-tuning-llm/.venv/lib/python3.11/site-packages/gradio/blocks.py\", line 1689, in process_api\n",
      "    result = await self.call_function(\n",
      "             ^^^^^^^^^^^^^^^^^^^^^^^^^\n",
      "  File \"/Users/paolobonicco/Projects/PARASOL/fine-tuning-llm/.venv/lib/python3.11/site-packages/gradio/blocks.py\", line 1255, in call_function\n",
      "    prediction = await anyio.to_thread.run_sync(\n",
      "                 ^^^^^^^^^^^^^^^^^^^^^^^^^^^^^^^\n",
      "  File \"/Users/paolobonicco/Projects/PARASOL/fine-tuning-llm/.venv/lib/python3.11/site-packages/anyio/to_thread.py\", line 56, in run_sync\n",
      "    return await get_async_backend().run_sync_in_worker_thread(\n",
      "           ^^^^^^^^^^^^^^^^^^^^^^^^^^^^^^^^^^^^^^^^^^^^^^^^^^^^\n",
      "  File \"/Users/paolobonicco/Projects/PARASOL/fine-tuning-llm/.venv/lib/python3.11/site-packages/anyio/_backends/_asyncio.py\", line 2144, in run_sync_in_worker_thread\n",
      "    return await future\n",
      "           ^^^^^^^^^^^^\n",
      "  File \"/Users/paolobonicco/Projects/PARASOL/fine-tuning-llm/.venv/lib/python3.11/site-packages/anyio/_backends/_asyncio.py\", line 851, in run\n",
      "    result = context.run(func, *args)\n",
      "             ^^^^^^^^^^^^^^^^^^^^^^^^\n",
      "  File \"/Users/paolobonicco/Projects/PARASOL/fine-tuning-llm/.venv/lib/python3.11/site-packages/gradio/utils.py\", line 750, in wrapper\n",
      "    response = f(*args, **kwargs)\n",
      "               ^^^^^^^^^^^^^^^^^^\n",
      "  File \"/var/folders/1h/nl4lppwj1hgdkrq7c63vgdpr0000gn/T/ipykernel_23434/1077868603.py\", line 3, in query_data\n",
      "    as_output = docs[0].page_content # extract the text from the doc\n",
      "                ~~~~^^^\n",
      "IndexError: list index out of range\n"
     ]
    }
   ],
   "source": [
    "with gr.Blocks(theme=Base(), title=\"Question Answering App using Vector Search + RAG\") as demo:\n",
    "  gr.Markdown(\n",
    "    \"\"\"\"\n",
    "    # Question Answerfing App using Atlas Vector Search + RAG Architecture\n",
    "    \"\"\")\n",
    "  textbox = gr. Textbox(label=\"Enter your Question:\")\n",
    "  with gr.Row():\n",
    "    button = gr.Button (\"Submit\", variant=\"primary\")\n",
    "  with gr. Column ():\n",
    "    output1 = gr.Textbox(lines=1, max_lines=10, label=\"Output with just Atlas Vector Search (return text field as is):\")\n",
    "    output2 = gr.Textbox(lines=1, max_lines=10, label=\"Output generated by chaining Atlas Vector Search to Langchain's RetrieverQa + OpenAi LLM:\")\n",
    "    output3 = gr.Textbox(lines=1, max_lines=10, label=\"Output generated LLM only:\")\n",
    "\n",
    "  button.click(query_data, textbox, outputs=[output1, output2, output3])\n",
    "  \n",
    "demo.launch()"
   ]
  }
 ],
 "metadata": {
  "kernelspec": {
   "display_name": ".venv",
   "language": "python",
   "name": "python3"
  },
  "language_info": {
   "codemirror_mode": {
    "name": "ipython",
    "version": 3
   },
   "file_extension": ".py",
   "mimetype": "text/x-python",
   "name": "python",
   "nbconvert_exporter": "python",
   "pygments_lexer": "ipython3",
   "version": "3.11.3"
  }
 },
 "nbformat": 4,
 "nbformat_minor": 2
}
